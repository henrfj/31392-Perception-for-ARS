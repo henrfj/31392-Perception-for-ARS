{
 "cells": [
  {
   "cell_type": "markdown",
   "metadata": {},
   "source": [
    "# Weekly Project 5\n",
    "## Global Registration implementation.\n",
    "## Task 1\n",
    "Today your project is to implement a global registration algorithm.\n",
    "\n",
    "It should be able to roughly align two pointclouds.\n",
    "1. Implement global registration\n",
    "2. Can you fit **r1.pcd** and **r2.pcd**?\n",
    "3. Can you fit **car1.ply** and **car2.ply**?\n",
    "These are in the *global_registration* folder\n",
    "\n"
   ]
  },
  {
   "cell_type": "code",
   "execution_count": 21,
   "metadata": {},
   "outputs": [],
   "source": [
    "import open3d as o3d\n",
    "import numpy as np\n",
    "import copy\n",
    "\n",
    "# helper function for drawing if you want it to be more clear which is which set recolor=True\n",
    "def draw_registrations(source, target, transformation = None, recolor = False):\n",
    "    source_temp = copy.deepcopy(source)\n",
    "    target_temp = copy.deepcopy(target)\n",
    "    if(recolor):\n",
    "        source_temp.paint_uniform_color([1, 0.706, 0])\n",
    "        target_temp.paint_uniform_color([0, 0.651, 0.929])\n",
    "    if(transformation is not None):\n",
    "        source_temp.transform(transformation)\n",
    "    o3d.visualization.draw_geometries([source_temp, target_temp])"
   ]
  },
  {
   "cell_type": "code",
   "execution_count": 41,
   "metadata": {},
   "outputs": [],
   "source": [
    "def global_alignment(source, target, voxel_size=0.05, corr_length=0.9,\n",
    "                     radius_scale=2, max_nn=100, distance_threshold_scale=2, normal_checker=0.95,\n",
    "                     ransac_stopping_criteria=100000):\n",
    "    #####################################\n",
    "    # Downsample and find features here #\n",
    "    #####################################\n",
    "    # 1 Downsample both point clouds\n",
    "    source_down = source.voxel_down_sample(voxel_size=voxel_size)\n",
    "    target_down = target.voxel_down_sample(voxel_size=voxel_size)\n",
    "\n",
    "    # 2 Estimate surface normals of pointclouds\n",
    "    source_down.estimate_normals()\n",
    "    target_down.estimate_normals()\n",
    "\n",
    "    # 3 FPFH feature descriptor and correspondance on the downsampled pointcloud. \n",
    "    # Raius used to describe a feature\n",
    "    radius_feature = voxel_size * radius_scale\n",
    "    fpfh_source = o3d.pipelines.registration.compute_fpfh_feature(source_down,\n",
    "        search_param=o3d.geometry.KDTreeSearchParamHybrid(radius=radius_feature, max_nn=max_nn))\n",
    "\n",
    "    fpfh_target = o3d.pipelines.registration.compute_fpfh_feature(target_down,\n",
    "        search_param=o3d.geometry.KDTreeSearchParamHybrid(radius=radius_feature, max_nn=max_nn))\n",
    "\n",
    "    ##########\n",
    "    # RANSAC #\n",
    "    ##########\n",
    "    # We can try both point-to-point or point-to plane\n",
    "    point_to_point =  o3d.pipelines.registration.TransformationEstimationPointToPoint(False)\n",
    "    distance_threshold = voxel_size * distance_threshold_scale\n",
    "    c0 = o3d.pipelines.registration.CorrespondenceCheckerBasedOnEdgeLength(corr_length)\n",
    "    c1 = o3d.pipelines.registration.CorrespondenceCheckerBasedOnDistance(distance_threshold)\n",
    "    c2 = o3d.pipelines.registration.CorrespondenceCheckerBasedOnNormal(normal_checker)\n",
    "\n",
    "    checker_list = [c0,c1,c2]\n",
    "    \n",
    "    result = o3d.pipelines.registration.registration_ransac_based_on_feature_matching(\n",
    "        source_down,\n",
    "        target_down,\n",
    "        fpfh_source, \n",
    "        fpfh_target,\n",
    "        True, # mutual_filter\n",
    "        voxel_size*2,\n",
    "        point_to_point, # point_to_point or point_to_plane\n",
    "        checkers = checker_list,\n",
    "        criteria=o3d.pipelines.registration.RANSACConvergenceCriteria(ransac_stopping_criteria, 0.999)\n",
    "        )\n",
    "    return result"
   ]
  },
  {
   "cell_type": "code",
   "execution_count": 42,
   "metadata": {},
   "outputs": [],
   "source": [
    "r1 = o3d.io.read_point_cloud(\"global_registration/r1.pcd\")\n",
    "r2 = o3d.io.read_point_cloud(\"global_registration/r2.pcd\")\n",
    "ransac_result_r1_r2 = global_alignment(r1, r2, \n",
    "                    voxel_size=0.05, corr_length=0.9,\n",
    "                    radius_scale=2, max_nn=100, distance_threshold_scale=2, normal_checker=0.95,\n",
    "                    ransac_stopping_criteria=100000)\n",
    "\n",
    "draw_registrations(r1, r2, ransac_result_r1_r2.transformation, True)"
   ]
  },
  {
   "cell_type": "code",
   "execution_count": 37,
   "metadata": {},
   "outputs": [],
   "source": [
    "r1 = o3d.io.read_point_cloud(\"global_registration/car1.ply\")\n",
    "r2 = o3d.io.read_point_cloud(\"global_registration/car2.ply\")\n",
    "\n",
    "draw_registrations(r1, r2, recolor=True)\n",
    "\n",
    "ransac_result_r1_r2 = global_alignment(r1, r2, \n",
    "                    voxel_size=0.05, corr_length=0.9,\n",
    "                    radius_scale=2, max_nn=100, distance_threshold_scale=2, normal_checker=0.95,\n",
    "                    ransac_stopping_criteria=100000)\n",
    "                    \n",
    "draw_registrations(r1, r2, ransac_result_r1_r2.transformation, True)"
   ]
  },
  {
   "cell_type": "markdown",
   "metadata": {},
   "source": [
    "\n",
    "\n",
    "## Task 2 (Challange)\n",
    "Challanges attempt either or both:\n",
    "- Implement local registration.\n",
    "\n",
    "- Attempt to reconstruct the car from the images in *car_challange* folder.\n",
    "\n",
    "You can use the exercises from monday as a starting point."
   ]
  },
  {
   "cell_type": "markdown",
   "metadata": {},
   "source": []
  }
 ],
 "metadata": {
  "kernelspec": {
   "display_name": "Python 3",
   "language": "python",
   "name": "python3"
  },
  "language_info": {
   "codemirror_mode": {
    "name": "ipython",
    "version": 3
   },
   "file_extension": ".py",
   "mimetype": "text/x-python",
   "name": "python",
   "nbconvert_exporter": "python",
   "pygments_lexer": "ipython3",
   "version": "3.8.8"
  }
 },
 "nbformat": 4,
 "nbformat_minor": 4
}
