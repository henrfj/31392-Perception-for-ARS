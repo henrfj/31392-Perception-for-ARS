{
 "cells": [
  {
   "cell_type": "markdown",
   "metadata": {},
   "source": [
    "# Exercise 1 - 3D - 2D"
   ]
  },
  {
   "cell_type": "code",
   "execution_count": 3,
   "metadata": {},
   "outputs": [],
   "source": [
    "import numpy as np\n",
    "import cv2 as cv2\n",
    "from numpy.linalg import inv, pinv\n",
    "import matplotlib.pyplot as plt"
   ]
  },
  {
   "cell_type": "markdown",
   "metadata": {},
   "source": [
    "Recall from the slides the steps from Algorithm 3:\n",
    "\n",
    "![title](algorithm_3.png)\n",
    "\n",
    "![title](PnP.png)\n",
    "\n",
    "# Exercise 1a)\n",
    "The steps 1)-2.1) has already been done, and is saved in corresponding files. The exercise is to implement step 2.2) by filling in the missing code below"
   ]
  },
  {
   "cell_type": "code",
   "execution_count": 7,
   "metadata": {},
   "outputs": [],
   "source": [
    "def featureTracking(prev_img, next_img, prev_points, world_points):\n",
    "    \"\"\"\n",
    "    Use OpenCV to find the prev_points from the prev_img in the next_img\n",
    "    Remember to remove points that could not be found from prev_points, next_points, and world_points\n",
    "    hint: status == 1\n",
    "    \"\"\"\n",
    "    params = dict(winSize=(21, 21), # Window size of LK\n",
    "                 maxLevel=3,\n",
    "                 criteria=(cv2.TERM_CRITERIA_EPS | cv2.TERM_CRITERIA_COUNT, 30, 0.01))\n",
    "    print(prev_img.shape)\n",
    "    print(type(prev_img))\n",
    "    print(next_img.shape)\n",
    "    print(type(next_img))\n",
    "    print(prev_points.shape)\n",
    "    print(type(prev_points))\n",
    "    print(\"---------------------------------------------\")\n",
    "    \n",
    "    # 1 Sparse optical flow: using LK (Lucas Kanada)\n",
    "    next_points, status, _ = cv2.calcOpticalFlowPyrLK(prev_img, next_img, prev_points, None, **params)\n",
    "    \n",
    "    # 2 Remove points that was not detected by both images, from 2D and 3D!\n",
    "    next_points = next_points[np.where(np.any(status==1, axis=1))[0], :]\n",
    "    world_points = world_points[np.where(np.any(status==1, axis=1))[0], :]\n",
    "\n",
    "    return world_points, prev_points, next_points"
   ]
  },
  {
   "cell_type": "markdown",
   "metadata": {},
   "source": [
    "Hint: Exercise 4 in week 2\n",
    "\n",
    "# Exercise 1b)\n",
    "Continue the algorithm by implementing step 2.3)"
   ]
  },
  {
   "cell_type": "code",
   "execution_count": 8,
   "metadata": {},
   "outputs": [
    {
     "name": "stdout",
     "output_type": "stream",
     "text": [
      "(376, 1241)\n",
      "<class 'numpy.ndarray'>\n",
      "(376, 1241)\n",
      "<class 'numpy.ndarray'>\n",
      "(631, 2)\n",
      "<class 'numpy.ndarray'>\n",
      "---------------------------------------------\n",
      "[0.00110282] [0.00067164] [0.00078343] [-7.40069212e-05] [-7.35119065e-05] [9.84544279e-05]\n",
      "(376, 1241)\n",
      "<class 'numpy.ndarray'>\n",
      "(376, 1241)\n",
      "<class 'numpy.ndarray'>\n",
      "(621, 2)\n",
      "<class 'numpy.ndarray'>\n",
      "---------------------------------------------\n",
      "[0.00363949] [0.00875088] [-0.67580836] [-0.00216658] [0.00325854] [-0.00244333]\n",
      "(376, 1241)\n",
      "<class 'numpy.ndarray'>\n",
      "(376, 1241)\n",
      "<class 'numpy.ndarray'>\n",
      "(602, 2)\n",
      "<class 'numpy.ndarray'>\n",
      "---------------------------------------------\n",
      "[0.01096317] [0.01635688] [-1.37740874] [-0.00364614] [0.00751509] [-0.00099692]\n",
      "(376, 1241)\n",
      "<class 'numpy.ndarray'>\n",
      "(376, 1241)\n",
      "<class 'numpy.ndarray'>\n",
      "(625, 2)\n",
      "<class 'numpy.ndarray'>\n",
      "---------------------------------------------\n",
      "[0.03156638] [0.02560108] [-2.09967983] [-0.00509583] [0.01121646] [-0.00082978]\n",
      "(376, 1241)\n",
      "<class 'numpy.ndarray'>\n",
      "(376, 1241)\n",
      "<class 'numpy.ndarray'>\n",
      "(666, 2)\n",
      "<class 'numpy.ndarray'>\n",
      "---------------------------------------------\n",
      "[0.04971864] [0.03532535] [-2.83300707] [-0.00561424] [0.0161333] [0.00041981]\n"
     ]
    }
   ],
   "source": [
    "K = np.array([[7.188560e+02, 0.000000e+00, 6.071928e+02], # camera matrix\n",
    "              [0, 7.188560e+02, 1.852157e+02],\n",
    "              [0, 0, 1]])\n",
    "\n",
    "reference_img = np.load(\"img_\" + str(0) + \".npy\")\n",
    "\n",
    "for t in range(1, 6):\n",
    "\n",
    "    # the image at current time=t\n",
    "    curImage = np.load(\"img_\" + str(t) + \".npy\")\n",
    "    # the 3D landmarks in the world coordinates which have been computed in time=t-1\n",
    "    landmark_3D = np.load(\"landmark_\" + str(t-1) + \".npy\")\n",
    "    # the 2D coordinates of the 3D points in the previous frame at time=t-1\n",
    "    reference_2D = np.load(\"reference_2D_\" + str(t-1) + \".npy\")\n",
    "    \n",
    "    # the 2D landmarks at the current time = t\n",
    "    # (2.2)\n",
    "    landmark_3D, reference_2D, tracked_2Dpoints = featureTracking(reference_img, \n",
    "                                                                  curImage, \n",
    "                                                                  reference_2D,\n",
    "                                                                  landmark_3D)\n",
    "    \n",
    "    \"\"\"\n",
    "    Using OpenCV, implement PnP using Ransac\n",
    "    \"\"\"\n",
    "    # (2.3) Get rotation and transcaltion from PnP. \n",
    "    # Rotation you get out from the solve pnp ransac is in camera frame you need to transform it into world frame\n",
    "    _, rvec, tvec, inliers = cv2.solvePnPRansac(landmark_3D, tracked_2Dpoints, K, distCoeffs=None)\n",
    "\n",
    "    \"\"\"\n",
    "    Transform the translation and rotation into the world frame\n",
    "   \n",
    "        - R_camera @ t_camera = t_world / t_world = inv(R_camera)@t_camera\n",
    "        - What we get is a rotation vector not matrix. Use Rodrigues to transform.\n",
    "            - We get exponential axis-rotations in rvec!\n",
    "     \"\"\"\n",
    "    \n",
    "    R_world = rvec\n",
    "    t_camera = tvec\n",
    "    R_matrix, _ = cv2.Rodrigues(rvec)\n",
    "    t_world = np.linalg.inv(R_matrix)@t_camera # R_world is (3,1) matrix. \n",
    "    print(t_world[0], t_world[1], t_world[2], R_world[0], R_world[1], R_world[2])\n",
    "    # update for next timestep\n",
    "    reference_img = curImage"
   ]
  },
  {
   "cell_type": "markdown",
   "metadata": {},
   "source": [
    "Hint: The output should look similar to:\n",
    "\n",
    "[-0.00110282] [-0.00067164] [-0.00078343] [-7.40069212e-05] [-7.35119065e-05] [9.84544279e-05]\n",
    "\n",
    "[-0.00363946] [-0.00875075] [0.67580842] [-0.0021666] [0.00325853] [-0.00244333]\n",
    "\n",
    "[-0.01096271] [-0.01635663] [1.3774094] [-0.00364615] [0.0075151] [-0.00099691]\n",
    "\n",
    "[-0.0315663] [-0.02560111] [2.0996797] [-0.00509583] [0.01121646] [-0.00082978]\n",
    "\n",
    "[-0.04971858] [-0.03532535] [2.8330071] [-0.00561424] [0.0161333] [0.00041981]"
   ]
  },
  {
   "cell_type": "markdown",
   "metadata": {},
   "source": [
    "# Exercise 1c)\n",
    "What approximate direction did the camera move in?"
   ]
  },
  {
   "cell_type": "code",
   "execution_count": 6,
   "metadata": {},
   "outputs": [
    {
     "name": "stdout",
     "output_type": "stream",
     "text": [
      "Total translation: [-0.09698987 -0.08670548  6.98512119]\n"
     ]
    }
   ],
   "source": [
    "v1 = np.array([-0.00110282, -0.00067164, -0.00078343])\n",
    "v2 = np.array([-0.00363946, -0.00875075, 0.67580842])\n",
    "v3 = np.array([-0.01096271, -0.01635663, 1.3774094])\n",
    "v4 = np.array([-0.0315663, -0.02560111, 2.0996797])\n",
    "v5 = np.array([-0.04971858, -0.03532535, 2.8330071])\n",
    "\n",
    "print(\"Total translation:\", v1+v2+v3+v4+v5)"
   ]
  },
  {
   "cell_type": "markdown",
   "metadata": {},
   "source": [
    "**=>** Pretty much moves along the z-axis"
   ]
  },
  {
   "cell_type": "code",
   "execution_count": null,
   "metadata": {},
   "outputs": [],
   "source": []
  }
 ],
 "metadata": {
  "kernelspec": {
   "display_name": "Python 3",
   "language": "python",
   "name": "python3"
  },
  "language_info": {
   "codemirror_mode": {
    "name": "ipython",
    "version": 3
   },
   "file_extension": ".py",
   "mimetype": "text/x-python",
   "name": "python",
   "nbconvert_exporter": "python",
   "pygments_lexer": "ipython3",
   "version": "3.8.8"
  }
 },
 "nbformat": 4,
 "nbformat_minor": 2
}
