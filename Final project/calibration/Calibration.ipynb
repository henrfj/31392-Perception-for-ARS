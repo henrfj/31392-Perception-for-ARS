{
 "cells": [
  {
   "cell_type": "markdown",
   "metadata": {},
   "source": [
    "# Calibration of stereo camera\n",
    "\n",
    "Project Perception\n",
    "Task 1 \n",
    "As seen in week 4"
   ]
  },
  {
   "cell_type": "code",
   "execution_count": 1,
   "metadata": {},
   "outputs": [],
   "source": [
    "import cv2\n",
    "import numpy as np\n",
    "import glob\n",
    "from matplotlib import pyplot as plt"
   ]
  },
  {
   "cell_type": "markdown",
   "metadata": {},
   "source": [
    "Undistrortion\n",
    "- finding chessboard corners and undistroting\n",
    "- computing camera matrix"
   ]
  },
  {
   "cell_type": "markdown",
   "metadata": {},
   "source": [
    "- using Week 4 code\n",
    "\n",
    "Problems:\n",
    "- the images are more distroted compared to Week 4 exercise and will result in small undistored windows, which when cropped, is too small to be usable \n",
    "-> so we scale up undistorted image to be cropped later"
   ]
  },
  {
   "cell_type": "code",
   "execution_count": 2,
   "metadata": {},
   "outputs": [],
   "source": [
    "rerun_camera_matrix = True\n",
    "\n",
    "##################### LEFT IMAGES #########################\n",
    "if rerun_camera_matrix == True:   \n",
    "    # Implement the number of vertical and horizontal corners\n",
    "    nb_vertical = 9\n",
    "    nb_horizontal = 6\n",
    "    scale = 5\n",
    "\n",
    "    # prepare object points, like (0,0,0), (1,0,0), (2,0,0) ....,(6,5,0)\n",
    "    objp = np.zeros((nb_horizontal*nb_vertical,3), np.float32)\n",
    "    objp[:,:2] = np.mgrid[0:nb_vertical,0:nb_horizontal].T.reshape(-1,2)\n",
    "\n",
    "    # Arrays to store object points and image points from all the images.\n",
    "    objpoints = [] # 3d point in real world space\n",
    "    imgpoints_left = [] # 2d points in image plane.\n",
    "\n",
    "    images = glob.glob('stereo_calibration/left*.png')\n",
    "    # assert images\n",
    "\n",
    "    for fname in images:\n",
    "        img = cv2.imread(fname)\n",
    "\n",
    "        gray = cv2.cvtColor(img, cv2.COLOR_BGR2GRAY)\n",
    "\n",
    "        # Implement findChessboardCorners here\n",
    "        ret, corners = cv2.findChessboardCorners(gray, (nb_vertical, nb_horizontal))\n",
    "\n",
    "        # If found, add object points, image points (after refining them)\n",
    "        if ret == True:\n",
    "            objpoints.append(objp)\n",
    "            imgpoints_left.append(corners)\n",
    "        else:\n",
    "            print(\"didnt find corners in image: \", fname)\n",
    "\n",
    "    # get the camera matrix\n",
    "    ret, mtx_left, dist_left, rvecs, tvecs = cv2.calibrateCamera(objpoints, imgpoints_left, gray.shape[::-1], None, None)\n",
    "    img_left = cv2.imread('stereo_calibration/left-0000.png') # just to get dimensions\n",
    "    h,  w = img.shape[:2]\n",
    "    K_left, roi = cv2.getOptimalNewCameraMatrix(mtx_left,dist_left,(w,h),1,(scale*w,scale*h))\n",
    "    # save images into folder\n",
    "    i = 0\n",
    "    for fname in images:\n",
    "        # undistort\n",
    "        img = cv2.imread(fname)\n",
    "        # dst = cv2.undistort(img, mtx_left, dist_left, None, K_left)\n",
    "        mapx, mapy = cv2.initUndistortRectifyMap(mtx_left, dist_left, None, K_left, (scale*w,scale*h), 5)\n",
    "        dst = cv2.remap(img, mapx, mapy, cv2.INTER_LINEAR)\n",
    "        \n",
    "\n",
    "        # crop the image\n",
    "        x,y,w,h = roi\n",
    "        # dst = dst[y:y+h, x:x+w]\n",
    "\n",
    "        # save image\n",
    "        cv2.imwrite('undistorted/left'+str(i)+'.png',dst)\n",
    "        i+=1"
   ]
  }
 ],
 "metadata": {
  "interpreter": {
   "hash": "3b633d7eae87b5fed5bf766898b0c683375244dd1706eb915bb836f7448798b8"
  },
  "kernelspec": {
   "display_name": "Python 3.9.7 64-bit",
   "language": "python",
   "name": "python3"
  },
  "language_info": {
   "codemirror_mode": {
    "name": "ipython",
    "version": 3
   },
   "file_extension": ".py",
   "mimetype": "text/x-python",
   "name": "python",
   "nbconvert_exporter": "python",
   "pygments_lexer": "ipython3",
   "version": "3.9.7"
  },
  "orig_nbformat": 4
 },
 "nbformat": 4,
 "nbformat_minor": 2
}
