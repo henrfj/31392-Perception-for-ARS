{
 "cells": [
  {
   "cell_type": "markdown",
   "metadata": {},
   "source": [
    "# Calibration of stereo camera\n",
    "\n",
    "Project Perception\n",
    "Task 1 \n",
    "As seen in week 4\n",
    "(Run with NONBASE Python 3.10 64-bit)\n",
    "- using Week 4 code"
   ]
  },
  {
   "cell_type": "code",
   "execution_count": 45,
   "metadata": {},
   "outputs": [],
   "source": [
    "import cv2\n",
    "import numpy as np\n",
    "import glob\n",
    "from matplotlib import pyplot as plt\n",
    "import time"
   ]
  },
  {
   "cell_type": "markdown",
   "metadata": {},
   "source": [
    "Usage:\n",
    "- go into Running the code -> Parameters -> change what you need\n",
    "- Run all \n",
    "\n",
    "Changelog: \n",
    "- MM25.04.22: rewritten into jupyter & functions, corrected few bugs, changed to correct folder names\n",
    "\n",
    "Problems:\n",
    "- Rectification lookin´ wanky\n",
    "- draw lines undone\n",
    "- tune parameters for better results"
   ]
  },
  {
   "cell_type": "markdown",
   "metadata": {},
   "source": [
    "## Functions\n"
   ]
  },
  {
   "cell_type": "markdown",
   "metadata": {},
   "source": [
    "### Undistortion function"
   ]
  },
  {
   "cell_type": "code",
   "execution_count": 46,
   "metadata": {},
   "outputs": [],
   "source": [
    "#Lukman upraven na zadani slozky \n",
    "def undistort_img(side, save=False):\n",
    "    # Implement the number of vertical and horizontal corners\n",
    "    nb_vertical = 9\n",
    "    nb_horizontal = 6\n",
    "\n",
    "    if side == 'left':\n",
    "        path_in = 'stereo_calibration/left-*.png'\n",
    "        path_out = 'undistorted/left-'\n",
    "    elif side == 'right':\n",
    "        path_in = 'stereo_calibration/right-*.png'\n",
    "        path_out = 'undistorted/right-'\n",
    "\n",
    "    # prepare object points, like (0,0,0), (1,0,0), (2,0,0) ....,(6,5,0)\n",
    "    objp = np.zeros((nb_horizontal*nb_vertical, 3), np.float32)\n",
    "    objp[:, :2] = np.mgrid[0:nb_vertical, 0:nb_horizontal].T.reshape(-1, 2)\n",
    "\n",
    "    # Arrays to store object points and image points from all the images.\n",
    "    objpoints = []  # 3d point in real world space\n",
    "    imgpoints_left = []  # 2d points in image plane.\n",
    "\n",
    "    images = glob.glob(path_in)\n",
    "    assert images\n",
    "\n",
    "    for fname in images:\n",
    "        img = cv2.imread(fname)\n",
    "        gray = cv2.cvtColor(img, cv2.COLOR_BGR2GRAY)\n",
    "\n",
    "        # Implement findChessboardCorners here\n",
    "        ret, corners = cv2.findChessboardCorners(\n",
    "            gray, (nb_vertical, nb_horizontal))\n",
    "\n",
    "        # If found, add object points, image points (after refining them)\n",
    "        if ret == True:\n",
    "            objpoints.append(objp)\n",
    "            imgpoints_left.append(corners)\n",
    "\n",
    "    # get the camera matrix\n",
    "    ret, mtx, dist, rvecs, tvecs = cv2.calibrateCamera(\n",
    "        objpoints, imgpoints_left, gray.shape[::-1], None, None)\n",
    "    # just to get dimensions, should be same for all images to come\n",
    "    get_dim = cv2.imread('stereo_calibration/left-0000.png')\n",
    "    h,  w = get_dim.shape[:2]\n",
    "    K, roi = cv2.getOptimalNewCameraMatrix(mtx, dist, (w, h), 0)\n",
    "\n",
    "    # save images into folder\n",
    "    if save:\n",
    "        i = 0\n",
    "        for fname in images:\n",
    "            # undistort\n",
    "            img = cv2.imread(fname)\n",
    "            dst = cv2.undistort(img, mtx, dist, None, K)\n",
    "\n",
    "            # crop the image\n",
    "            x, y, w, h = roi\n",
    "            dst = dst[y:y+h, x:x+w]\n",
    "\n",
    "            # save image\n",
    "            cv2.imwrite(path_out+str(i)+'.png', dst)\n",
    "            i += 1\n",
    "\n",
    "    print(\"Undistortion \"+side+ \" done\")\n",
    "    return K, dist"
   ]
  },
  {
   "cell_type": "markdown",
   "metadata": {},
   "source": [
    "### Draw lines function\n"
   ]
  },
  {
   "cell_type": "code",
   "execution_count": 47,
   "metadata": {},
   "outputs": [],
   "source": [
    "def draw_lines(img1, img2, lines, pts1, pts2):\n",
    "    ''' img1 - image on which we draw the epilines for the points in img2\n",
    "        lines - corresponding epilines '''\n",
    "    (r, c) = img1.shape\n",
    "    img1 = cv2.cvtColor(img1, cv2.COLOR_GRAY2BGR)\n",
    "    img2 = cv2.cvtColor(img2, cv2.COLOR_GRAY2BGR)\n",
    "    for r, pt1, pt2 in zip(lines, pts1, pts2):\n",
    "        color = tuple(np.random.randint(0, 255, 3).tolist())\n",
    "        x0, y0 = map(int, [0, -r[2]/r[1]])\n",
    "        x1, y1 = map(int, [c, -(r[2]+r[0]*c)/r[1]])\n",
    "        img1 = cv2.line(img1, (x0, y0), (x1, y1), color, 2)\n",
    "        img1 = cv2.circle(img1, tuple(pt1), 5, color, -1)\n",
    "        img2 = cv2.circle(img2, tuple(pt2), 5, color, -1)\n",
    "    return img1, img2"
   ]
  },
  {
   "cell_type": "markdown",
   "metadata": {},
   "source": [
    "### Rectification function\n"
   ]
  },
  {
   "cell_type": "code",
   "execution_count": 48,
   "metadata": {},
   "outputs": [],
   "source": [
    "def rectify(debug=False, save=False):\n",
    "    # Read the undistorted images\n",
    "    imagesL = glob.glob('undistorted/left-*.png')\n",
    "    imagesR = glob.glob('undistorted/right-*.png')\n",
    "    assert imagesL\n",
    "    assert imagesR\n",
    "\n",
    "    # Create a sift detector\n",
    "    sift = cv2.SIFT_create()\n",
    "\n",
    "    i = 0\n",
    "    for i in range(0, len(imagesL)):\n",
    "        img_left = cv2.imread(imagesL[i])\n",
    "        img_right = cv2.imread(imagesR[i])\n",
    "        gray_left = cv2.cvtColor(img_left, cv2.COLOR_BGR2GRAY)\n",
    "        gray_right = cv2.cvtColor(img_right, cv2.COLOR_BGR2GRAY)\n",
    "\n",
    "        # Find the keypoints and descriptors with SIFT\n",
    "        kp_left, des_left = sift.detectAndCompute(gray_left, None)\n",
    "        kp_right, des_right = sift.detectAndCompute(gray_right, None)\n",
    "        kp_gray_left = cv2.drawKeypoints(\n",
    "            gray_left, kp_left, gray_left, flags=cv2.DRAW_MATCHES_FLAGS_DRAW_RICH_KEYPOINTS)\n",
    "        kp_gray_right = cv2.drawKeypoints(\n",
    "            gray_right, kp_right, gray_right, flags=cv2.DRAW_MATCHES_FLAGS_DRAW_RICH_KEYPOINTS)\n",
    "\n",
    "        # Match points\n",
    "        matches = cv2.BFMatcher().match(des_left, des_right)\n",
    "        matches = sorted(matches, key=lambda x: x.distance)\n",
    "        nb_matches = 200  # Using 200 best matches\n",
    "        good = []\n",
    "        pts1 = []\n",
    "        pts2 = []\n",
    "        for m in matches[:nb_matches]:\n",
    "            good.append(m)\n",
    "            pts1.append(kp_left[m.queryIdx].pt)\n",
    "            pts2.append(kp_right[m.trainIdx].pt)\n",
    "        pts1 = np.int32(pts1)\n",
    "        pts2 = np.int32(pts2)\n",
    "\n",
    "        # Get fundamental matrix\n",
    "        F, mask = cv2.findFundamentalMat(pts1, pts2, method=cv2.FM_RANSAC)\n",
    "\n",
    "        # Remove outliers\n",
    "        pts1 = pts1[mask.ravel() == 1]\n",
    "        pts2 = pts2[mask.ravel() == 1]\n",
    "\n",
    "        # Draw lines\n",
    "        lines1 = cv2.computeCorrespondEpilines(pts2.reshape(-1, 1, 2), 2, F)\n",
    "        lines1 = lines1.reshape(-1, 3)\n",
    "        epilines_left, keypoints_left = draw_lines(\n",
    "            gray_left, gray_right, lines1, pts1, pts2)\n",
    "        lines2 = cv2.computeCorrespondEpilines(pts1.reshape(-1, 1, 2), 1, F)\n",
    "        lines2 = lines2.reshape(-1, 3)\n",
    "        epilines_right, keypoints_right = draw_lines(\n",
    "            gray_right, gray_left, lines2, pts2, pts1)\n",
    "        \n",
    "        if debug:\n",
    "            fig, axs = plt.subplots(\n",
    "                2, 2, constrained_layout=True, figsize=(10, 10))\n",
    "            axs[0, 0].imshow(keypoints_right)\n",
    "            axs[0, 0].set_title('left keypoints')\n",
    "            axs[0, 1].imshow(keypoints_left)\n",
    "            axs[0, 1].set_title('right keypoints')\n",
    "            axs[1, 0].imshow(epilines_left)\n",
    "            axs[1, 0].set_title('left epipolar lines')\n",
    "            axs[1, 1].imshow(epilines_right)\n",
    "            axs[1, 1].set_title('right epipolar lines')\n",
    "            plt.show()\n",
    "\n",
    "        # Find projection matrix\n",
    "        E = K_left.T@F@K_right\n",
    "        R_left, R_right, t = cv2.decomposeEssentialMat(E)\n",
    "        cv2.stereoRectify(K_left, dist_left, K_right,\n",
    "                          dist_right, img_left.shape[:2], R_left, t)\n",
    "        P_left = np.hstack((K_left@R_left, K_left@t))\n",
    "        P_right = np.hstack((K_right@R_right, K_right@t))\n",
    "\n",
    "        # Rectify images\n",
    "        (w,h) = gray_left.shape\n",
    "        leftMapX, leftMapY = cv2.initUndistortRectifyMap(\n",
    "            K_left, dist_left, R_left, P_left, (w, h), cv2.CV_32FC1)\n",
    "        left_rectified = cv2.remap(\n",
    "            gray_left, leftMapX, leftMapY, cv2.INTER_LINEAR, cv2.BORDER_CONSTANT)\n",
    "        rightMapX, rightMapY = cv2.initUndistortRectifyMap(\n",
    "            K_right, dist_right, R_right, P_right, (w, h), cv2.CV_32FC1)\n",
    "        right_rectified = cv2.remap(\n",
    "            gray_right, rightMapX, rightMapY, cv2.INTER_LINEAR, cv2.BORDER_CONSTANT)\n",
    "\n",
    "        # Save images into folder\n",
    "        if save_rectified:\n",
    "            cv2.imwrite('rectified/left-'+str(i)+'.png', left_rectified)\n",
    "            cv2.imwrite('rectified/right-'+str(i)+'.png', right_rectified)\n",
    "            i += 1"
   ]
  },
  {
   "cell_type": "markdown",
   "metadata": {},
   "source": [
    "### Image depth function\n"
   ]
  },
  {
   "cell_type": "code",
   "execution_count": 54,
   "metadata": {},
   "outputs": [],
   "source": [
    "def depth_map():\n",
    "     # Read the rectified images\n",
    "    imagesL = glob.glob('rectified/left*.png')\n",
    "    imagesR = glob.glob('rectified/right*.png')\n",
    "    assert imagesL\n",
    "    assert imagesR\n",
    "\n",
    "    for i in range(0, len(imagesL)):\n",
    "        img_left = cv2.imread(imagesL[i])\n",
    "        img_right = cv2.imread(imagesR[i])\n",
    "        gray_left = cv2.cvtColor(img_left, cv2.COLOR_BGR2GRAY)\n",
    "        gray_right = cv2.cvtColor(img_right, cv2.COLOR_BGR2GRAY)\n",
    "\n",
    "        min_disp = 5  # 7\n",
    "        num_disp = 16  # 3*16\n",
    "        block_size = 5  # 5, 11\n",
    "        stereo = cv2.StereoBM_create(\n",
    "            numDisparities=num_disp, blockSize=block_size)\n",
    "        stereo.setMinDisparity(min_disp)\n",
    "        stereo.setDisp12MaxDiff(200)  # 200\n",
    "        stereo.setUniquenessRatio(1)  # 1\n",
    "        stereo.setSpeckleRange(10)  # 3\n",
    "        stereo.setSpeckleWindowSize(1)  # 3\n",
    "        disp = stereo.compute(gray_left, gray_right).astype(np.float32) / 16.0\n",
    "\n",
    "        f, (ax_left, ax_middle, ax_right) = plt.subplots(1, 3, figsize=(18, 18))\n",
    "        ax_left.imshow(gray_left)\n",
    "        ax_middle.imshow(gray_right)\n",
    "        ax_right.imshow(disp)\n",
    "        plt.show()"
   ]
  },
  {
   "cell_type": "markdown",
   "metadata": {},
   "source": [
    "## Running the code\n"
   ]
  },
  {
   "cell_type": "markdown",
   "metadata": {},
   "source": [
    "### Parameters"
   ]
  },
  {
   "cell_type": "code",
   "execution_count": 50,
   "metadata": {},
   "outputs": [],
   "source": [
    "rerun_undistortion = True\n",
    "rerun_rectification = True\n",
    "rerun_depth = True\n",
    "save_undistorted = True # save undistorted images\n",
    "save_rectified = True # save rectified images\n",
    "debug = False #debugging verbose mode for rectification"
   ]
  },
  {
   "cell_type": "markdown",
   "metadata": {},
   "source": [
    "### Undistorting images"
   ]
  },
  {
   "cell_type": "markdown",
   "metadata": {},
   "source": [
    "values from previous runs. Use for if dont want to wait for rerun\n",
    "<font size=\"0.9\">\n",
    "``` Python\n",
    "K_left = np.array([[590.24505615, 0, 723.85543853],[0,700.56091309,369.43859036],[0,0,1]])\n",
    "K_right = np.array([[698.72259521, 0 , 648.50704794],[0,698.6318967,374.0875587],[0,0,1]])\n",
    "dist_right = np.array([[-3.29479763e-01,1.41779367e-01,-1.15867147e-04,2.53566722e-04,-3.10092346e-02]])\n",
    "dist_left = np.array([[-3.25580109e-01,1.39151479e-01,-2.55229666e-04,4.20203965e-04,-3.19659112e-02]])\n",
    "```\n",
    "</font>"
   ]
  },
  {
   "cell_type": "code",
   "execution_count": 51,
   "metadata": {},
   "outputs": [
    {
     "name": "stdout",
     "output_type": "stream",
     "text": [
      "Undistortion left done\n",
      "Undistortion right done\n"
     ]
    }
   ],
   "source": [
    "if rerun_undistortion:\n",
    "    K_left, dist_left = undistort_img(side='left', save=save_undistorted)\n",
    "    K_right, dist_right = undistort_img(side='right', save=save_undistorted)\n",
    "    "
   ]
  },
  {
   "cell_type": "markdown",
   "metadata": {},
   "source": [
    "### Rectification"
   ]
  },
  {
   "cell_type": "code",
   "execution_count": 52,
   "metadata": {},
   "outputs": [],
   "source": [
    "rectify(debug=debug, save=save_rectified)       if rerun_rectification else print(\"Rectification not run\")   "
   ]
  },
  {
   "cell_type": "markdown",
   "metadata": {},
   "source": [
    "### Image depth\n"
   ]
  },
  {
   "cell_type": "code",
   "execution_count": null,
   "metadata": {},
   "outputs": [],
   "source": [
    "depth_map()     if rerun_depth else print(\"Depth not run\")"
   ]
  }
 ],
 "metadata": {
  "interpreter": {
   "hash": "3b633d7eae87b5fed5bf766898b0c683375244dd1706eb915bb836f7448798b8"
  },
  "kernelspec": {
   "display_name": "Python 3.9.7 64-bit",
   "language": "python",
   "name": "python3"
  },
  "language_info": {
   "codemirror_mode": {
    "name": "ipython",
    "version": 3
   },
   "file_extension": ".py",
   "mimetype": "text/x-python",
   "name": "python",
   "nbconvert_exporter": "python",
   "pygments_lexer": "ipython3",
   "version": "3.10.4"
  },
  "orig_nbformat": 4
 },
 "nbformat": 4,
 "nbformat_minor": 2
}
