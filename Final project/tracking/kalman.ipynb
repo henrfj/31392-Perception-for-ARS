{
 "cells": [
  {
   "cell_type": "markdown",
   "metadata": {},
   "source": [
    "### Kalman filter\n",
    "\n",
    "Heavily inspired by weekly project week 7 and exercise 2 week 7"
   ]
  },
  {
   "cell_type": "code",
   "execution_count": 1,
   "metadata": {},
   "outputs": [],
   "source": [
    "import cv2\n",
    "import numpy as np\n",
    "import matplotlib.pyplot as plt"
   ]
  },
  {
   "cell_type": "markdown",
   "metadata": {},
   "source": [
    "**Kalman filter model**, simple 2d model of world.\n",
    "- x,y, vx, vy.\n",
    "- Constant speed, ax, ay = 0\n"
   ]
  },
  {
   "cell_type": "markdown",
   "metadata": {},
   "source": [
    "**4 measurements**"
   ]
  },
  {
   "cell_type": "code",
   "execution_count": 3,
   "metadata": {},
   "outputs": [],
   "source": [
    "### Initialize Kalman filter ###\n",
    "# The initial state (4x1).\n",
    "x = np.array([[0],  # Position along the x-axis\n",
    "              [0],  # Velocity along the x-axis \n",
    "              [0],  # Position along the y-axis\n",
    "              [0]]) # Velocity along the y-axis \n",
    "\n",
    "\n",
    "# The initial uncertainty (4x4) - We start with some very large values.\n",
    "# Then we will fully trust measurements first iteration.\n",
    "P = np.array([[1000, 0, 0, 0, 0, 0],\n",
    "              [0, 1000, 0, 0, 0, 0],\n",
    "              [0, 0, 1000, 0, 0, 0],\n",
    "              [0, 0, 0, 1000, 0, 0]])\n",
    "\n",
    "# The external motion (4x1).\n",
    "u = np.array([[0], [0], [0], [0]])  # - no external motion \n",
    "\n",
    "# The transition matrix (4x4). \n",
    "F = np.array([[1, 1, 0, 0],\n",
    "              [0, 1, 0, 0],\n",
    "              [0, 0, 1, 1],\n",
    "              [0, 0, 0, 1]])\n",
    "\n",
    "# The observation matrix (4x4).\n",
    "H = np.identity(4)              #H = np.array([[1, 0, 0, 0],\n",
    "                                #              [0, 1, 0, 0]])\n",
    "\n",
    "# The measurement uncertainty.\n",
    "# How little do you want to trust the measurements?\n",
    "R = 1*np.array([[1, 0, 0, 0],\n",
    "                [0, 1, 0, 0],\n",
    "                [0, 0, 1, 0],\n",
    "                [0, 0, 0, 1]])\n",
    "\n",
    "# Disturbance matrix\n",
    "# How little do you want to trust the model?\n",
    "Q = 1*np.array([[1, 0, 0, 0],\n",
    "                [0, 1, 0, 0],\n",
    "                [0, 0, 1, 0],\n",
    "                [0, 0, 0, 1]])"
   ]
  },
  {
   "cell_type": "markdown",
   "metadata": {},
   "source": [
    "**2 measurements**"
   ]
  },
  {
   "cell_type": "code",
   "execution_count": 4,
   "metadata": {},
   "outputs": [],
   "source": [
    "### Initialize Kalman filter ###\n",
    "# The initial state (4x1).\n",
    "x = np.array([[0],  # Position along the x-axis\n",
    "              [0],  # Velocity along the x-axis \n",
    "              [0],  # Position along the y-axis\n",
    "              [0]]) # Velocity along the y-axis \n",
    "\n",
    "\n",
    "# The initial uncertainty (4x4) - We start with some very large values.\n",
    "# Then we will fully trust measurements first iteration.\n",
    "P = np.array([[1000, 0, 0, 0, 0, 0],\n",
    "              [0, 1000, 0, 0, 0, 0],\n",
    "              [0, 0, 1000, 0, 0, 0],\n",
    "              [0, 0, 0, 1000, 0, 0]])\n",
    "\n",
    "# The external motion (4x1).\n",
    "u = np.array([[0], [0], [0], [0]])  # - no external motion \n",
    "\n",
    "# The transition matrix (4x4). \n",
    "F = np.array([[1, 1, 0, 0],\n",
    "              [0, 1, 0, 0],\n",
    "              [0, 0, 1, 1],\n",
    "              [0, 0, 0, 1]])\n",
    "\n",
    "# The observation matrix (2x4).\n",
    "H = np.array([[1, 0, 0, 0],\n",
    "              [0, 1, 0, 0]])\n",
    "\n",
    "# The measurement uncertainty.\n",
    "# How little do you want to trust the measurements?\n",
    "R = 1*np.array([[1, 0],\n",
    "                [0, 1]])\n",
    "\n",
    "# Disturbance matrix\n",
    "# How little do you want to trust the model?\n",
    "Q = 1*np.array([[1, 0, 0, 0],\n",
    "                [0, 1, 0, 0],\n",
    "                [0, 0, 1, 0],\n",
    "                [0, 0, 0, 1]])"
   ]
  },
  {
   "cell_type": "markdown",
   "metadata": {},
   "source": [
    "***TODO***\n",
    "- Multiobject tracking: stop tracking when object leaves frame, and restart tracking (restart x, P matrices)\n",
    "\n",
    "**Base algorithm**"
   ]
  },
  {
   "cell_type": "code",
   "execution_count": 8,
   "metadata": {},
   "outputs": [],
   "source": [
    "'''\n",
    "running = True\n",
    "x_range = np.arange(-10, 30, 0.1) # Range of possible xpos\n",
    "fig, ax = plt.subplots(nrows=2, ncols=2, figsize=(16,6))\n",
    "\n",
    "# Measurement and state history\n",
    "zs = []\n",
    "xs = []\n",
    "\n",
    "# Flag for new measurements\n",
    "new_measurement = None\n",
    "\n",
    "while running:\n",
    "    if new_measurement:\n",
    "        # Fresh measurements!\n",
    "        z = np.array([[...], # xpos\n",
    "                    [...],   # velx\n",
    "                    [...],   # ypos\n",
    "                    [...]])  # vely\n",
    "        zs.append(z)\n",
    "\n",
    "        # Update based on new measurements + previous prediction\n",
    "        x, P = update(x, P, z, H, R)\n",
    "    else:\n",
    "        zs.append([None])\n",
    "\n",
    "\n",
    "    # Predict based on model\n",
    "    x, P = predict(x, P, F, u, Q)\n",
    "    xs.append(x)\n",
    "\n",
    "\n",
    "    # Do some plotting\n",
    "    #plt.plot(axis, f(x[0], P[0, 0], axis)) # PosX\n",
    "    ax[0, 0].plot(x_range, f(x[0], P[0, 0], x_range)) # PosX\n",
    "    ax[0, 1].plot(x_range, f(x[1], P[1, 1], x_range)) # VelX\n",
    "    ax[1, 0].plot(x_range, f(x[2], P[2, 2], x_range)) # PosY\n",
    "    ax[1, 1].plot(x_range, f(x[3], P[3, 3], x_range)) # VelY\n",
    "\n",
    "# plt.title(\"xpos\")\n",
    "# plt.show()\n",
    "ax[0, 0].set_title(\"x pos\")\n",
    "ax[0, 1].set_title(\"x vel\")\n",
    "ax[1, 0].set_title(\"y pos\")\n",
    "ax[1, 1].set_title(\"y vel\")\n",
    "''';"
   ]
  },
  {
   "cell_type": "markdown",
   "metadata": {},
   "source": [
    "### OFFLINE kalman filter"
   ]
  },
  {
   "cell_type": "code",
   "execution_count": 6,
   "metadata": {},
   "outputs": [],
   "source": []
  },
  {
   "cell_type": "code",
   "execution_count": null,
   "metadata": {},
   "outputs": [],
   "source": []
  }
 ],
 "metadata": {
  "interpreter": {
   "hash": "becc7bcbb7a4199260879ba1a9630da63d2f52d521041d6c190802a5dc80d452"
  },
  "kernelspec": {
   "display_name": "Python 3.8.8 64-bit",
   "language": "python",
   "name": "python3"
  },
  "language_info": {
   "codemirror_mode": {
    "name": "ipython",
    "version": 3
   },
   "file_extension": ".py",
   "mimetype": "text/x-python",
   "name": "python",
   "nbconvert_exporter": "python",
   "pygments_lexer": "ipython3",
   "version": "3.8.8"
  },
  "orig_nbformat": 4
 },
 "nbformat": 4,
 "nbformat_minor": 2
}
