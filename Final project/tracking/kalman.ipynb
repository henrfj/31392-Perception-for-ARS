{
 "cells": [
  {
   "cell_type": "markdown",
   "metadata": {},
   "source": [
    "### Kalman filter\n",
    "\n",
    "Heavily inspired by weekly project week 7 and exercise 2 week 7\n",
    "\n",
    "***Kalman notes***\n",
    "- Slowing down before occlusion effect.\n",
    "- Differently tuned filteres for with and without occlusion.\n",
    "- Stop trusting measurements as we get too close to occlusion."
   ]
  },
  {
   "cell_type": "code",
   "execution_count": 1,
   "metadata": {},
   "outputs": [],
   "source": [
    "import cv2\n",
    "import numpy as np\n",
    "import matplotlib.pyplot as plt"
   ]
  },
  {
   "cell_type": "markdown",
   "metadata": {},
   "source": [
    "**Kalman filter model**, simple 2d model of world.\n",
    "- x,y, vx, vy.\n",
    "- Constant speed, ax, ay = 0\n"
   ]
  },
  {
   "cell_type": "markdown",
   "metadata": {},
   "source": [
    "**4 measurements**"
   ]
  },
  {
   "cell_type": "code",
   "execution_count": 3,
   "metadata": {},
   "outputs": [],
   "source": [
    "### Initialize Kalman filter ###\n",
    "# The initial state (4x1).\n",
    "x = np.array([[0],  # Position along the x-axis\n",
    "              [0],  # Velocity along the x-axis \n",
    "              [0],  # Position along the y-axis\n",
    "              [0]]) # Velocity along the y-axis \n",
    "\n",
    "\n",
    "# The initial uncertainty (4x4) - We start with some very large values.\n",
    "# Then we will fully trust measurements first iteration.\n",
    "P = np.array([[1000, 0, 0, 0, 0, 0],\n",
    "              [0, 1000, 0, 0, 0, 0],\n",
    "              [0, 0, 1000, 0, 0, 0],\n",
    "              [0, 0, 0, 1000, 0, 0]])\n",
    "\n",
    "# The external motion (4x1).\n",
    "u = np.array([[0], [0], [0], [0]])  # - no external motion \n",
    "\n",
    "# The transition matrix (4x4). \n",
    "F = np.array([[1, 1, 0, 0],\n",
    "              [0, 1, 0, 0],\n",
    "              [0, 0, 1, 1],\n",
    "              [0, 0, 0, 1]])\n",
    "\n",
    "# The observation matrix (4x4).\n",
    "H = np.identity(4)              #H = np.array([[1, 0, 0, 0],\n",
    "                                #              [0, 1, 0, 0]])\n",
    "\n",
    "# The measurement uncertainty.\n",
    "# How little do you want to trust the measurements?\n",
    "R = 1*np.array([[1, 0, 0, 0],\n",
    "                [0, 1, 0, 0],\n",
    "                [0, 0, 1, 0],\n",
    "                [0, 0, 0, 1]])\n",
    "\n",
    "# Disturbance matrix\n",
    "# How little do you want to trust the model?\n",
    "Q = 1*np.array([[1, 0, 0, 0],\n",
    "                [0, 1, 0, 0],\n",
    "                [0, 0, 1, 0],\n",
    "                [0, 0, 0, 1]])"
   ]
  },
  {
   "cell_type": "markdown",
   "metadata": {},
   "source": [
    "**2 measurements**"
   ]
  },
  {
   "cell_type": "code",
   "execution_count": 4,
   "metadata": {},
   "outputs": [],
   "source": [
    "### Initialize Kalman filter ###\n",
    "# The initial state (4x1).\n",
    "x = np.array([[0],  # Position along the x-axis\n",
    "              [0],  # Velocity along the x-axis \n",
    "              [0],  # Position along the y-axis\n",
    "              [0]]) # Velocity along the y-axis \n",
    "\n",
    "\n",
    "# The initial uncertainty (4x4) - We start with some very large values.\n",
    "# Then we will fully trust measurements first iteration.\n",
    "P = np.array([[1000, 0, 0, 0, 0, 0],\n",
    "              [0, 1000, 0, 0, 0, 0],\n",
    "              [0, 0, 1000, 0, 0, 0],\n",
    "              [0, 0, 0, 1000, 0, 0]])\n",
    "\n",
    "# The external motion (4x1).\n",
    "u = np.array([[0], [0], [0], [0]])  # - no external motion \n",
    "\n",
    "# The transition matrix (4x4). \n",
    "F = np.array([[1, 1, 0, 0],\n",
    "              [0, 1, 0, 0],\n",
    "              [0, 0, 1, 1],\n",
    "              [0, 0, 0, 1]])\n",
    "\n",
    "# The observation matrix (2x4).\n",
    "H = np.array([[1, 0, 0, 0],\n",
    "              [0, 1, 0, 0]])\n",
    "\n",
    "# The measurement uncertainty.\n",
    "# How little do you want to trust the measurements?\n",
    "R = 1*np.array([[1, 0],\n",
    "                [0, 1]])\n",
    "\n",
    "# Disturbance matrix\n",
    "# How little do you want to trust the model?\n",
    "Q = 1*np.array([[1, 0, 0, 0],\n",
    "                [0, 1, 0, 0],\n",
    "                [0, 0, 1, 0],\n",
    "                [0, 0, 0, 1]])"
   ]
  },
  {
   "cell_type": "markdown",
   "metadata": {},
   "source": [
    "***TODO***\n",
    "- Multiobject tracking: stop tracking when object leaves frame, and restart tracking (restart x, P matrices)\n",
    "\n",
    "**Base algorithm**"
   ]
  },
  {
   "cell_type": "code",
   "execution_count": 8,
   "metadata": {},
   "outputs": [],
   "source": [
    "'''\n",
    "running = True\n",
    "x_range = np.arange(-10, 30, 0.1) # Range of possible xpos\n",
    "fig, ax = plt.subplots(nrows=2, ncols=2, figsize=(16,6))\n",
    "\n",
    "# Measurement and state history\n",
    "zs = []\n",
    "xs = []\n",
    "\n",
    "# Flag for new measurements\n",
    "new_measurement = None\n",
    "\n",
    "while running:\n",
    "    if new_measurement:\n",
    "        # Fresh measurements!\n",
    "        z = np.array([[...], # xpos\n",
    "                    [...],   # velx\n",
    "                    [...],   # ypos\n",
    "                    [...]])  # vely\n",
    "        zs.append(z)\n",
    "\n",
    "        # Update based on new measurements + previous prediction\n",
    "        x, P = update(x, P, z, H, R)\n",
    "    else:\n",
    "        zs.append([None])\n",
    "\n",
    "\n",
    "    # Predict based on model\n",
    "    x, P = predict(x, P, F, u, Q)\n",
    "    xs.append(x)\n",
    "\n",
    "\n",
    "    # Do some plotting\n",
    "    #plt.plot(axis, f(x[0], P[0, 0], axis)) # PosX\n",
    "    ax[0, 0].plot(x_range, f(x[0], P[0, 0], x_range)) # PosX\n",
    "    ax[0, 1].plot(x_range, f(x[1], P[1, 1], x_range)) # VelX\n",
    "    ax[1, 0].plot(x_range, f(x[2], P[2, 2], x_range)) # PosY\n",
    "    ax[1, 1].plot(x_range, f(x[3], P[3, 3], x_range)) # VelY\n",
    "\n",
    "# plt.title(\"xpos\")\n",
    "# plt.show()\n",
    "ax[0, 0].set_title(\"x pos\")\n",
    "ax[0, 1].set_title(\"x vel\")\n",
    "ax[1, 0].set_title(\"y pos\")\n",
    "ax[1, 1].set_title(\"y vel\")\n",
    "''';"
   ]
  },
  {
   "cell_type": "markdown",
   "metadata": {},
   "source": [
    "### Kalman on Hassans tracker"
   ]
  },
  {
   "cell_type": "code",
   "execution_count": 20,
   "metadata": {},
   "outputs": [],
   "source": [
    "from tracker import *\n",
    "import imutils \n",
    "import glob\n",
    "%run tracker.py"
   ]
  },
  {
   "cell_type": "code",
   "execution_count": 78,
   "metadata": {},
   "outputs": [
    {
     "name": "stdout",
     "output_type": "stream",
     "text": [
      "Frames: 1452\n"
     ]
    }
   ],
   "source": [
    "\n",
    "# Create tracker object\n",
    "tracker = EuclideanDistTracker()\n",
    "\n",
    "#images = glob.glob(\"video/sample/left/*.png\")\n",
    "#images = glob.glob(\"video/full/without_occlusions/left/*.png\")\n",
    "images = glob.glob(\"video/full/with_occlusions/left/*.png\")\n",
    "\n",
    "no_of_frames = len(images)-1\n",
    "print(\"Frames:\", no_of_frames)\n",
    "\n",
    "# Object detection from Stable camera\n",
    "object_detector = cv2.createBackgroundSubtractorMOG2(history=100, varThreshold=40)\n",
    "xs = []\n",
    "ys = []\n",
    "\n",
    "for i in range(no_of_frames):\n",
    "    frame = cv2.imread(images[i])    \n",
    "    height, width, _ = frame.shape\n",
    "\n",
    "    # Extract Region of interest\n",
    "    rotated = imutils.rotate_bound(frame, 15)\n",
    "    rotated2=rotated[450:800,350:1250]\n",
    "    roi = imutils.rotate_bound(rotated2, -15)\n",
    "\n",
    "    # 1. Object Detection\n",
    "    mask = object_detector.apply(roi)\n",
    "    _, mask = cv2.threshold(mask, 20, 255, cv2.THRESH_BINARY)\n",
    "    thresh = cv2.dilate(mask, None, iterations=6)\n",
    "    contours, _ = cv2.findContours(thresh, cv2.RETR_TREE, cv2.CHAIN_APPROX_SIMPLE)\n",
    "    detections = []\n",
    "\n",
    "    biggest_area=0\n",
    "    best_cnt = None\n",
    "    for cnt in contours:\n",
    "        # Calculate area and remove small elements\n",
    "        area = cv2.contourArea(cnt)\n",
    "        if area>biggest_area:\n",
    "            biggest_area=area\n",
    "            best_cnt = cnt\n",
    "    if biggest_area>2000:\n",
    "        x, y, w, h = cv2.boundingRect(best_cnt)\n",
    "        detections.append([x, y, w, h])\n",
    "    # 2. Object Tracking\n",
    "    boxes_ids = tracker.update(detections)\n",
    "    if len(detections): # We have seen an object\n",
    "        for box_id in boxes_ids:\n",
    "            x, y, w, h, id = box_id\n",
    "            x=x-25\n",
    "            y=y-25\n",
    "            w=w+50\n",
    "            h=h+50\n",
    "            cv2.rectangle(roi, (x, y), (x + w, y + h), (0, 255, 0), 3)\n",
    "            #cv2.rectangle(mask, (x, y), (x + w, y + h), (0, 255, 0), 3)\n",
    "            #cv2.rectangle(frame, (x, y), (x + w, y + h), (0, 255, 0), 3)\n",
    "    \n",
    "            # For KALMAN FILTER\n",
    "            xs.append(x + w//2)\n",
    "            ys.append(y + h//2)\n",
    "\n",
    "    else: # No object detected\n",
    "        # For KALMAN FILTER\n",
    "        xs.append(None)\n",
    "        ys.append(None)\n",
    "\n",
    "\n",
    "    cv2.imshow(\"roi\", roi)\n",
    "    #cv2.imshow(\"Frame\", frame)\n",
    "    #cv2.imshow(\"Mask\", thresh)\n",
    "\n",
    "    # For nice visualization\n",
    "    #cv2.waitKey(30)\n",
    "\n",
    "    if cv2.waitKey(1) & 0xFF == ord('q'):  # q will end the program\n",
    "        break\n",
    "\n",
    "cv2.destroyAllWindows()"
   ]
  },
  {
   "cell_type": "code",
   "execution_count": 79,
   "metadata": {},
   "outputs": [
    {
     "name": "stdout",
     "output_type": "stream",
     "text": [
      "measurements (2, 1452)\n"
     ]
    }
   ],
   "source": [
    "\n",
    "measurements = np.vstack((np.asarray(xs), np.asarray(ys)))\n",
    "print(\"measurements\", measurements.shape)"
   ]
  },
  {
   "cell_type": "code",
   "execution_count": 84,
   "metadata": {},
   "outputs": [
    {
     "name": "stdout",
     "output_type": "stream",
     "text": [
      "Kalman filtered states (4, 1452)\n",
      "Average xvel: 0.8617316529211126 (pixels/frame)\n",
      "Average yvel: 0.6549067863862005 (pixels/frame)\n"
     ]
    },
    {
     "data": {
      "image/png": "[encoded data removed]",
      "text/plain": [
       "<Figure size 1728x864 with 4 Axes>"
      ]
     },
     "metadata": {
      "needs_background": "light"
     },
     "output_type": "display_data"
    }
   ],
   "source": [
    "from kalman import *\n",
    "%run kalman.py\n",
    "\n",
    "filtered = offline_kalman(measurements)\n",
    "print(\"Kalman filtered states\", filtered.shape)\n",
    "\n",
    "print(\"Average xvel:\", np.mean(filtered[1, :]),\"(pixels/frame)\")\n",
    "print(\"Average yvel:\", np.mean(filtered[3, :]),\"(pixels/frame)\")\n",
    "\n",
    "\n",
    "time = np.arange(0,len(xs), 1)\n",
    "fig, axs = plt.subplots(nrows=2, ncols=2, figsize=(24, 12))\n",
    "axs[0, 0].scatter(time, filtered[0, :], s=3, c=\"red\", label=\"filtered\") # X-pos\n",
    "axs[0, 0].scatter(time, measurements[0, :], s=3, c=\"blue\", label=\"measured\") # measured X-pos\n",
    "axs[0, 0].set_title(\"X-pos\")\n",
    "axs[0, 0].legend()\n",
    "axs[0, 1].scatter(time, filtered[1, :], s=3, c=\"red\") # X-vel\n",
    "axs[0, 1].set_title(\"X-vel\")\n",
    "axs[1, 0].scatter(time, filtered[2, :], s=3, c=\"red\", label=\"filtered\") # Y-pos\n",
    "axs[1, 0].scatter(time, measurements[1, :], s=3, c=\"blue\", label=\"measured\") # Y-pos\n",
    "axs[1, 0].set_title(\"Y-pos\")\n",
    "axs[1, 0].legend()\n",
    "axs[1, 1].scatter(time, filtered[3, :], s=3, c=\"red\") # Y-vel\n",
    "axs[1, 1].set_title(\"Y-vel\");"
   ]
  },
  {
   "cell_type": "code",
   "execution_count": null,
   "metadata": {},
   "outputs": [],
   "source": []
  }
 ],
 "metadata": {
  "interpreter": {
   "hash": "becc7bcbb7a4199260879ba1a9630da63d2f52d521041d6c190802a5dc80d452"
  },
  "kernelspec": {
   "display_name": "Python 3.8.8 64-bit",
   "language": "python",
   "name": "python3"
  },
  "language_info": {
   "codemirror_mode": {
    "name": "ipython",
    "version": 3
   },
   "file_extension": ".py",
   "mimetype": "text/x-python",
   "name": "python",
   "nbconvert_exporter": "python",
   "pygments_lexer": "ipython3",
   "version": "3.8.8"
  },
  "orig_nbformat": 4
 },
 "nbformat": 4,
 "nbformat_minor": 2
}
