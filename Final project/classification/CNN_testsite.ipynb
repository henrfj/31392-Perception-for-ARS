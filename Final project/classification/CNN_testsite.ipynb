{
 "cells": [
  {
   "cell_type": "markdown",
   "metadata": {},
   "source": [
    "### \"State of the art\" cup recognition platform\n",
    "\n",
    "- Interesting read: DL with small dataset - https://towardsdatascience.com/how-to-use-deep-learning-even-with-small-data-e7f34b673987"
   ]
  },
  {
   "cell_type": "code",
   "execution_count": 2,
   "metadata": {},
   "outputs": [],
   "source": [
    "# Different useful libraries\n",
    "import matplotlib.pyplot as plt # plotting\n",
    "import numpy as np # linear algebra\n",
    "import pandas as pd # data processing, CSV file I/O (e.g. pd.read_csv)\n",
    "import cv2\n",
    "import glob\n",
    "from sklearn.preprocessing import StandardScaler, MinMaxScaler\n",
    "from sklearn.decomposition import PCA\n",
    "from sklearn.model_selection import train_test_split\n",
    "# ANN\n",
    "import tensorflow as tf\n",
    "from tensorflow import keras\n",
    "from tensorflow.keras import layers"
   ]
  },
  {
   "cell_type": "code",
   "execution_count": 16,
   "metadata": {},
   "outputs": [],
   "source": [
    "# Helpers\n",
    "from helpers import *\n",
    "%run helpers.py"
   ]
  },
  {
   "cell_type": "markdown",
   "metadata": {},
   "source": [
    "### Data loading"
   ]
  },
  {
   "cell_type": "code",
   "execution_count": 23,
   "metadata": {},
   "outputs": [
    {
     "name": "stdout",
     "output_type": "stream",
     "text": [
      "(2016, 128, 128, 1) (2016,)\n"
     ]
    }
   ],
   "source": [
    "############################\n",
    "###### Agumented Data ######\n",
    "############################\n",
    "\n",
    "aug_cups, aug_cup_size = import_images(path='henriks_images/augment_cup/')\n",
    "aug_boxes, aug_box_size = import_images(path='henriks_images/augment_box/')\n",
    "aug_books, aug_book_size = import_images(path='henriks_images/augment_book/')\n",
    "\n",
    "aug_data, aug_labels = from_raw_to_CNN(aug_cups, aug_boxes, aug_books, aug_cup_size, aug_box_size, aug_book_size, resize=False)\n",
    "\n"
   ]
  },
  {
   "cell_type": "code",
   "execution_count": 9,
   "metadata": {},
   "outputs": [
    {
     "name": "stdout",
     "output_type": "stream",
     "text": [
      "(26, 128, 128, 1) (26,)\n"
     ]
    }
   ],
   "source": [
    "########################\n",
    "###### Test data  ######\n",
    "########################\n",
    "real_cups, real_cup_size = import_images(path='test_samples/cups/')\n",
    "real_boxes, real_box_size = import_images(path='test_samples/boxes/')\n",
    "real_books, real_book_size = import_images(path='test_samples/books/')\n",
    "\n",
    "test_data, test_labels = from_raw_to_CNN(real_cups, real_boxes, real_books, real_cup_size, real_box_size, real_book_size);"
   ]
  },
  {
   "cell_type": "code",
   "execution_count": 17,
   "metadata": {},
   "outputs": [
    {
     "name": "stdout",
     "output_type": "stream",
     "text": [
      "(672, 128, 128, 1) (672,)\n"
     ]
    }
   ],
   "source": [
    "############################\n",
    "###### Training data  ######\n",
    "############################\n",
    "\n",
    "raw_cups, raw_cup_size = import_images(path='henriks_images/small_cup/')\n",
    "raw_boxes, raw_box_size = import_images(path='henriks_images/small_box/')\n",
    "raw_books, raw_book_size = import_images(path='henriks_images/small_book/')\n",
    "\n",
    "raw_data, raw_labels = from_raw_to_CNN(raw_cups, raw_boxes, raw_books, raw_cup_size, raw_box_size, raw_book_size, resize=False);"
   ]
  },
  {
   "cell_type": "code",
   "execution_count": 35,
   "metadata": {},
   "outputs": [
    {
     "data": {
      "text/plain": [
       "((672, 128, 128, 1), (26, 128, 128, 1), (698, 128, 128, 1))"
      ]
     },
     "execution_count": 35,
     "metadata": {},
     "output_type": "execute_result"
    }
   ],
   "source": [
    "#########################\n",
    "###### Cheat data  ######\n",
    "#########################\n",
    "# Combining raw data and test data\n",
    "cheat_data = np.concatenate((raw_data, test_data))\n",
    "cheat_labels = np.concatenate((raw_labels, test_labels))\n",
    "raw_data.shape, test_data.shape, cheat_data.shape, "
   ]
  },
  {
   "cell_type": "markdown",
   "metadata": {},
   "source": [
    "### CNN training time baby!\n",
    "\n",
    "**CNN model 1 - using no dense hidden layers**\n",
    "- Working on raw data\n",
    "- 57.7% accuracy"
   ]
  },
  {
   "cell_type": "code",
   "execution_count": 18,
   "metadata": {},
   "outputs": [
    {
     "name": "stdout",
     "output_type": "stream",
     "text": [
      "\n",
      ".................................Epoch 00033: early stopping\n"
     ]
    }
   ],
   "source": [
    "input_shape = (128, 128, 1)\n",
    "\n",
    "cnn_model_1 = keras.Sequential(\n",
    "    [\n",
    "        keras.Input(shape=input_shape),\n",
    "        layers.Conv2D(16, kernel_size=(3, 3), activation=\"relu\"),\n",
    "        layers.MaxPooling2D(pool_size=(2, 2)),\n",
    "        layers.Conv2D(16, kernel_size=(3, 3), activation=\"relu\"),\n",
    "        layers.MaxPooling2D(pool_size=(2, 2)),\n",
    "        layers.Flatten(),\n",
    "        #layers.Dropout(0.5),\n",
    "        layers.Dense(3, activation=\"softmax\"), #layers.Dense(2, activation=\"softmax\"),\n",
    "    ]\n",
    ")\n",
    "\n",
    "cnn_model_1.compile(\n",
    "                loss=tf.keras.metrics.sparse_categorical_crossentropy, #loss=\"categorical_crossentropy\", #loss=tf.keras.metrics.binary_crossentropy, \n",
    "                optimizer=keras.optimizers.Adam(),\n",
    "                metrics=[\"accuracy\"],\n",
    "                )\n",
    "\n",
    "\n",
    "batch_size = 128 # 16, 32, 64, 128\n",
    "epochs = 50\n",
    "early_stop = tf.keras.callbacks.EarlyStopping(monitor='val_loss', mode=\"min\", verbose=1, patience=10) # 50\n",
    "\n",
    "cnn_history_1 = cnn_model_1.fit(raw_data, raw_labels,\n",
    "            batch_size=batch_size, epochs=epochs, \n",
    "            validation_split=0.1, verbose=0,\n",
    "            callbacks=[PrintDot(), early_stop] # early_stop\n",
    "            )"
   ]
  },
  {
   "cell_type": "code",
   "execution_count": 20,
   "metadata": {},
   "outputs": [
    {
     "data": {
      "text/html": [
       "<div>\n",
       "<style scoped>\n",
       "    .dataframe tbody tr th:only-of-type {\n",
       "        vertical-align: middle;\n",
       "    }\n",
       "\n",
       "    .dataframe tbody tr th {\n",
       "        vertical-align: top;\n",
       "    }\n",
       "\n",
       "    .dataframe thead th {\n",
       "        text-align: right;\n",
       "    }\n",
       "</style>\n",
       "<table border=\"1\" class=\"dataframe\">\n",
       "  <thead>\n",
       "    <tr style=\"text-align: right;\">\n",
       "      <th></th>\n",
       "      <th>loss</th>\n",
       "      <th>accuracy</th>\n",
       "      <th>val_loss</th>\n",
       "      <th>val_accuracy</th>\n",
       "      <th>epoch</th>\n",
       "    </tr>\n",
       "  </thead>\n",
       "  <tbody>\n",
       "    <tr>\n",
       "      <th>32</th>\n",
       "      <td>0.067872</td>\n",
       "      <td>0.990066</td>\n",
       "      <td>0.303289</td>\n",
       "      <td>0.897059</td>\n",
       "      <td>32</td>\n",
       "    </tr>\n",
       "  </tbody>\n",
       "</table>\n",
       "</div>"
      ],
      "text/plain": [
       "        loss  accuracy  val_loss  val_accuracy  epoch\n",
       "32  0.067872  0.990066  0.303289      0.897059     32"
      ]
     },
     "metadata": {},
     "output_type": "display_data"
    },
    {
     "name": "stdout",
     "output_type": "stream",
     "text": [
      "Test loss: 1.0681090354919434\n",
      "Test accuracy: 0.5769230723381042\n"
     ]
    },
    {
     "data": {
      "image/png": "[encoded data removed]",
      "text/plain": [
       "<Figure size 432x288 with 1 Axes>"
      ]
     },
     "metadata": {
      "needs_background": "light"
     },
     "output_type": "display_data"
    }
   ],
   "source": [
    "show_final_score(cnn_history_1)\n",
    "\n",
    "score = cnn_model_1.evaluate(test_data, test_labels, verbose=0)\n",
    "print(\"Test loss:\", score[0])\n",
    "print(\"Test accuracy:\", score[1])"
   ]
  },
  {
   "cell_type": "markdown",
   "metadata": {},
   "source": [
    "**CNN Model 2**\n",
    "- Same model as model 1, but working on augmented data\n",
    "- 53% accuracy, and performs worse in every way"
   ]
  },
  {
   "cell_type": "code",
   "execution_count": 24,
   "metadata": {},
   "outputs": [
    {
     "name": "stdout",
     "output_type": "stream",
     "text": [
      "\n",
      "....................Epoch 00020: early stopping\n"
     ]
    }
   ],
   "source": [
    "input_shape = (128, 128, 1)\n",
    "\n",
    "cnn_model_2 = keras.Sequential(\n",
    "    [\n",
    "        keras.Input(shape=input_shape),\n",
    "        layers.Conv2D(16, kernel_size=(3, 3), activation=\"relu\"),\n",
    "        layers.MaxPooling2D(pool_size=(2, 2)),\n",
    "        layers.Conv2D(16, kernel_size=(3, 3), activation=\"relu\"),\n",
    "        layers.MaxPooling2D(pool_size=(2, 2)),\n",
    "        layers.Flatten(),\n",
    "        #layers.Dropout(0.5),\n",
    "        layers.Dense(3, activation=\"softmax\"), #layers.Dense(2, activation=\"softmax\"),\n",
    "    ]\n",
    ")\n",
    "\n",
    "cnn_model_2.compile(\n",
    "                loss=tf.keras.metrics.sparse_categorical_crossentropy, #loss=\"categorical_crossentropy\", #loss=tf.keras.metrics.binary_crossentropy, \n",
    "                optimizer=keras.optimizers.Adam(),\n",
    "                metrics=[\"accuracy\"],\n",
    "                )\n",
    "\n",
    "\n",
    "batch_size = 128 # 16, 32, 64, 128\n",
    "epochs = 50\n",
    "early_stop = tf.keras.callbacks.EarlyStopping(monitor='val_loss', mode=\"min\", verbose=1, patience=10) # 50\n",
    "\n",
    "cnn_history_2 = cnn_model_2.fit(raw_data, raw_labels,\n",
    "            batch_size=batch_size, epochs=epochs, \n",
    "            validation_split=0.1, verbose=0,\n",
    "            callbacks=[PrintDot(), early_stop] # early_stop\n",
    "            )"
   ]
  },
  {
   "cell_type": "code",
   "execution_count": 26,
   "metadata": {},
   "outputs": [
    {
     "data": {
      "text/html": [
       "<div>\n",
       "<style scoped>\n",
       "    .dataframe tbody tr th:only-of-type {\n",
       "        vertical-align: middle;\n",
       "    }\n",
       "\n",
       "    .dataframe tbody tr th {\n",
       "        vertical-align: top;\n",
       "    }\n",
       "\n",
       "    .dataframe thead th {\n",
       "        text-align: right;\n",
       "    }\n",
       "</style>\n",
       "<table border=\"1\" class=\"dataframe\">\n",
       "  <thead>\n",
       "    <tr style=\"text-align: right;\">\n",
       "      <th></th>\n",
       "      <th>loss</th>\n",
       "      <th>accuracy</th>\n",
       "      <th>val_loss</th>\n",
       "      <th>val_accuracy</th>\n",
       "      <th>epoch</th>\n",
       "    </tr>\n",
       "  </thead>\n",
       "  <tbody>\n",
       "    <tr>\n",
       "      <th>19</th>\n",
       "      <td>0.212363</td>\n",
       "      <td>0.938742</td>\n",
       "      <td>0.473527</td>\n",
       "      <td>0.823529</td>\n",
       "      <td>19</td>\n",
       "    </tr>\n",
       "  </tbody>\n",
       "</table>\n",
       "</div>"
      ],
      "text/plain": [
       "        loss  accuracy  val_loss  val_accuracy  epoch\n",
       "19  0.212363  0.938742  0.473527      0.823529     19"
      ]
     },
     "metadata": {},
     "output_type": "display_data"
    },
    {
     "name": "stdout",
     "output_type": "stream",
     "text": [
      "Test loss: 0.8618704676628113\n",
      "Test accuracy: 0.5384615659713745\n"
     ]
    },
    {
     "data": {
      "image/png": "[encoded data removed]",
      "text/plain": [
       "<Figure size 432x288 with 1 Axes>"
      ]
     },
     "metadata": {
      "needs_background": "light"
     },
     "output_type": "display_data"
    }
   ],
   "source": [
    "show_final_score(cnn_history_2)\n",
    "\n",
    "score = cnn_model_2.evaluate(test_data, test_labels, verbose=0)\n",
    "print(\"Test loss:\", score[0])\n",
    "print(\"Test accuracy:\", score[1])"
   ]
  },
  {
   "cell_type": "markdown",
   "metadata": {},
   "source": [
    "**CNN Model 3**\n",
    "- Testing out other forms of CNN\n",
    "- Multiclass, single label classification https://towardsdatascience.com/the-complete-guide-to-neural-networks-multinomial-classification-4fe88bde7839\n",
    "- CATS and DOGS https://machinelearningmastery.com/how-to-develop-a-convolutional-neural-network-to-classify-photos-of-dogs-and-cats/\n"
   ]
  },
  {
   "cell_type": "code",
   "execution_count": 54,
   "metadata": {},
   "outputs": [
    {
     "name": "stdout",
     "output_type": "stream",
     "text": [
      "\n",
      ".................................................."
     ]
    }
   ],
   "source": [
    "input_shape = (128, 128, 1)\n",
    "\n",
    "cnn_model_3 = keras.Sequential(\n",
    "    [\n",
    "        keras.Input(shape=input_shape),\n",
    "        layers.Conv2D(16, kernel_size=(3, 3), activation=\"relu\", kernel_initializer='he_uniform', padding='same'),\n",
    "        layers.MaxPooling2D(pool_size=(2, 2)),\n",
    "        layers.Flatten(),\n",
    "        layers.Dense(16, activation=\"relu\", kernel_initializer='he_uniform'),\n",
    "        layers.Dense(3, activation=\"softmax\"), #layers.Dense(2, activation=\"softmax\"),\n",
    "    ]\n",
    ")\n",
    "\n",
    "#cnn_model_3.compile(\n",
    "#                #loss=tf.keras.metrics.sparse_categorical_crossentropy,\n",
    "#                #loss=tf.keras.metrics.categorical_crossentropy, # Only difference to sparse is the format of labels.\n",
    "#                #loss=tf.keras.metrics.binary_crossentropy, \n",
    "#                optimizer=keras.optimizers.Adam(),\n",
    "#                metrics=[\"accuracy\"],\n",
    "#                )\n",
    "\n",
    "#######################\n",
    "## Cosine similarity ##\n",
    "#######################\n",
    "\n",
    "cnn_model_3.compile(optimizer=keras.optimizers.Adam(),\n",
    "                    loss=tf.keras.losses.cosine_similarity, \n",
    "                    metrics=[tf.keras.metrics.CosineSimilarity(axis=1), \"accuracy\"])\n",
    "\n",
    "batch_size = 32 # 16, 32, 64, 128\n",
    "epochs = 50\n",
    "early_stop = tf.keras.callbacks.EarlyStopping(monitor='val_loss', mode=\"min\", verbose=1, patience=10) # 50\n",
    "\n",
    "cnn_history_3 = cnn_model_3.fit(raw_data, raw_labels,\n",
    "            batch_size=batch_size, epochs=epochs, \n",
    "            validation_split=0.1, verbose=0,\n",
    "            callbacks=[PrintDot()]#, early_stop] # early_stop\n",
    "            )"
   ]
  },
  {
   "cell_type": "code",
   "execution_count": 55,
   "metadata": {},
   "outputs": [
    {
     "data": {
      "text/html": [
       "<div>\n",
       "<style scoped>\n",
       "    .dataframe tbody tr th:only-of-type {\n",
       "        vertical-align: middle;\n",
       "    }\n",
       "\n",
       "    .dataframe tbody tr th {\n",
       "        vertical-align: top;\n",
       "    }\n",
       "\n",
       "    .dataframe thead th {\n",
       "        text-align: right;\n",
       "    }\n",
       "</style>\n",
       "<table border=\"1\" class=\"dataframe\">\n",
       "  <thead>\n",
       "    <tr style=\"text-align: right;\">\n",
       "      <th></th>\n",
       "      <th>loss</th>\n",
       "      <th>cosine_similarity</th>\n",
       "      <th>accuracy</th>\n",
       "      <th>val_loss</th>\n",
       "      <th>val_cosine_similarity</th>\n",
       "      <th>val_accuracy</th>\n",
       "      <th>epoch</th>\n",
       "    </tr>\n",
       "  </thead>\n",
       "  <tbody>\n",
       "    <tr>\n",
       "      <th>49</th>\n",
       "      <td>-0.672185</td>\n",
       "      <td>0.672185</td>\n",
       "      <td>0.248344</td>\n",
       "      <td>-1.0</td>\n",
       "      <td>1.0</td>\n",
       "      <td>1.0</td>\n",
       "      <td>49</td>\n",
       "    </tr>\n",
       "  </tbody>\n",
       "</table>\n",
       "</div>"
      ],
      "text/plain": [
       "        loss  cosine_similarity  accuracy  val_loss  val_cosine_similarity  \\\n",
       "49 -0.672185           0.672185  0.248344      -1.0                    1.0   \n",
       "\n",
       "    val_accuracy  epoch  \n",
       "49           1.0     49  "
      ]
     },
     "metadata": {},
     "output_type": "display_data"
    },
    {
     "name": "stdout",
     "output_type": "stream",
     "text": [
      "Test loss: -0.7692306041717529\n",
      "Test accuracy: 0.7692306041717529\n"
     ]
    },
    {
     "data": {
      "image/png": "[encoded data removed]",
      "text/plain": [
       "<Figure size 432x288 with 1 Axes>"
      ]
     },
     "metadata": {
      "needs_background": "light"
     },
     "output_type": "display_data"
    }
   ],
   "source": [
    "show_final_score(cnn_history_3)\n",
    "\n",
    "score = cnn_model_3.evaluate(test_data, test_labels, verbose=0)\n",
    "print(\"Test loss:\", score[0])\n",
    "print(\"Test accuracy:\", score[1])"
   ]
  },
  {
   "cell_type": "markdown",
   "metadata": {},
   "source": [
    "**Interesting** \n",
    "- Adding a large dense layer => Much better fit on training data, but sucks at test data (50%)\n",
    "- Adding the cheat data to the training data - gets a 30% despite a 80% validation accuracy. I guess it just ignores the cheat data, as its so few datapoints."
   ]
  },
  {
   "cell_type": "code",
   "execution_count": null,
   "metadata": {},
   "outputs": [],
   "source": []
  }
 ],
 "metadata": {
  "language_info": {
   "name": "python"
  },
  "orig_nbformat": 4
 },
 "nbformat": 4,
 "nbformat_minor": 2
}
