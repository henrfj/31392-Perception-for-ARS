{
 "cells": [
  {
   "cell_type": "markdown",
   "metadata": {},
   "source": [
    "## Testsite for more advanced ML schemes\n",
    "\n",
    "**TODO**:\n",
    "- Get better images man!\n",
    "- Use contours or similar to only train on the shape of cup/boxes instead of on grayscales."
   ]
  },
  {
   "cell_type": "code",
   "execution_count": 1,
   "metadata": {},
   "outputs": [],
   "source": [
    "# Different useful libraries\n",
    "import matplotlib.pyplot as plt # plotting\n",
    "import numpy as np # linear algebra\n",
    "import pandas as pd # data processing, CSV file I/O (e.g. pd.read_csv)\n",
    "import cv2\n",
    "import glob\n",
    "from sklearn.preprocessing import StandardScaler, MinMaxScaler\n",
    "from sklearn.decomposition import PCA\n",
    "from sklearn.model_selection import train_test_split\n",
    "# ANN\n",
    "import tensorflow as tf\n",
    "from tensorflow import keras\n",
    "from tensorflow.keras import layers\n",
    "# Helpers\n",
    "from helpers import *\n",
    "%run helpers.py"
   ]
  },
  {
   "cell_type": "markdown",
   "metadata": {},
   "source": [
    "#### Get the augmented data"
   ]
  },
  {
   "cell_type": "code",
   "execution_count": 66,
   "metadata": {},
   "outputs": [],
   "source": [
    "# Load images\n",
    "cups, cup_size = import_images(path='henriks_images/augment_cup/')\n",
    "boxes, box_size = import_images(path='henriks_images/augment_box/')"
   ]
  },
  {
   "cell_type": "code",
   "execution_count": 67,
   "metadata": {},
   "outputs": [
    {
     "data": {
      "text/plain": [
       "((594, 128, 128), (768, 128, 128))"
      ]
     },
     "execution_count": 67,
     "metadata": {},
     "output_type": "execute_result"
    }
   ],
   "source": [
    "# Balance the data - we have more box data then cup data\n",
    "#idx = np.random.randint(0, len(cups), len(cups))\n",
    "#cups = np.asarray(cups)[idx, :, :, 0]\n",
    "#boxes = np.asarray(boxes)[idx, :, :, 0]\n",
    "cups = np.asarray(cups)[:, :, :, 0]\n",
    "boxes = np.asarray(boxes)[:, :, :, 0]\n",
    "cups.shape, boxes.shape"
   ]
  },
  {
   "cell_type": "markdown",
   "metadata": {},
   "source": [
    "### Basic data formatting\n",
    "Splitting, normalization, pandas etc."
   ]
  },
  {
   "cell_type": "code",
   "execution_count": 68,
   "metadata": {},
   "outputs": [
    {
     "name": "stdout",
     "output_type": "stream",
     "text": [
      "boxes: ( 0.0 0.9954128440366974 ) cups:( 0.10638297872340426 1.0000000000000002 )\n"
     ]
    }
   ],
   "source": [
    "# Normalize advanced approach\n",
    "(scaled_boxes, scaled_cups), scaler = normalize_2D(all_data=[boxes, cups], scaler_type='minmax')\n",
    "print(\"boxes: (\", scaled_boxes[0].min(), scaled_boxes[0].max(), \") cups:(\", scaled_cups[0].min(), scaled_cups[0].max(), \")\")\n"
   ]
  },
  {
   "cell_type": "code",
   "execution_count": 69,
   "metadata": {},
   "outputs": [
    {
     "name": "stdout",
     "output_type": "stream",
     "text": [
      "boxes: ( 0.06274509803921569 0.996078431372549 ) cups:( 0.13333333333333333 1.0 )\n"
     ]
    }
   ],
   "source": [
    "# Normalize ez approach\n",
    "scaled_boxes = boxes / 255\n",
    "scaled_cups = cups / 255\n",
    "print(\"boxes: (\", scaled_boxes[0].min(), scaled_boxes[0].max(), \") cups:(\", scaled_cups[0].min(), scaled_cups[0].max(), \")\")\n"
   ]
  },
  {
   "cell_type": "code",
   "execution_count": 70,
   "metadata": {},
   "outputs": [
    {
     "data": {
      "text/plain": [
       "((1089, 128, 128, 1), (1089,), (273, 128, 128, 1), (273,))"
      ]
     },
     "execution_count": 70,
     "metadata": {},
     "output_type": "execute_result"
    }
   ],
   "source": [
    "image_df = from_numpy_to_pd(data=[scaled_cups, scaled_boxes], labels=[0, 1])\n",
    "train, test = train_test_split(image_df, test_size=0.2)\n",
    "\n",
    "x_train = np.stack(train['data'], 0)\n",
    "y_train = np.float32(train['label'])\n",
    "\n",
    "x_test = np.stack(test['data'], 0)\n",
    "y_test = np.float32(test['label'])\n",
    "\n",
    "# For Keras this is required:\n",
    "a, b, c = x_train.shape\n",
    "x_train = x_train.reshape((a,b,c,1))\n",
    "a, b, c = x_test.shape\n",
    "x_test = x_test.reshape((a,b,c,1))\n",
    "\n",
    "\n",
    "x_train.shape, y_train.shape, x_test.shape, y_test.shape"
   ]
  },
  {
   "cell_type": "markdown",
   "metadata": {},
   "source": [
    "### CNN - *conv. neural net time baby*!\n",
    "\n",
    "***NB!*** Since we are for now only doing binary classification:\n",
    "```\n",
    "1. Change Categorical Cross Entropy to Binary Cross Entropy since your output label is binary.\n",
    "2. Change Softmax to Sigmoid since Sigmoid is the proper activation function for binary data\n",
    "```\n",
    "\n",
    "Good sources:\n",
    "\n",
    "- CONVNET on MINST: https://keras.io/examples/vision/mnist_convnet/\n",
    "- Binary classification: https://stackoverflow.com/questions/61742556/valueerror-shapes-none-1-and-none-2-are-incompatible"
   ]
  },
  {
   "cell_type": "code",
   "execution_count": 71,
   "metadata": {},
   "outputs": [
    {
     "name": "stdout",
     "output_type": "stream",
     "text": [
      "\n",
      ".................................................."
     ]
    }
   ],
   "source": [
    "input_shape = (128, 128, 1)\n",
    "\n",
    "cnn_model = keras.Sequential(\n",
    "    [\n",
    "        keras.Input(shape=input_shape),\n",
    "        layers.Conv2D(16, kernel_size=(3, 3), activation=\"relu\"),\n",
    "        layers.MaxPooling2D(pool_size=(2, 2)),\n",
    "        layers.Conv2D(16, kernel_size=(3, 3), activation=\"relu\"),\n",
    "        layers.MaxPooling2D(pool_size=(2, 2)),\n",
    "        layers.Flatten(),\n",
    "        layers.Dropout(0.5),\n",
    "        layers.Dense(2, activation=\"softmax\"), #layers.Dense(2, activation=\"softmax\"),\n",
    "    ]\n",
    ")\n",
    "\n",
    "cnn_model.compile(\n",
    "                loss=tf.keras.metrics.sparse_categorical_crossentropy, #loss=tf.keras.metrics.binary_crossentropy, \n",
    "                optimizer=keras.optimizers.Adam(),\n",
    "                metrics=[\"accuracy\"],\n",
    "                )\n",
    "\n",
    "batch_size = 124\n",
    "epochs = 50\n",
    "early_stop = tf.keras.callbacks.EarlyStopping(monitor='val_loss', mode=\"min\", verbose=1, patience=10) # 50\n",
    "\n",
    "cnn_history = cnn_model.fit(x_train, y_train,\n",
    "            batch_size=batch_size, epochs=epochs, \n",
    "            validation_split=0.1, verbose=0,\n",
    "            callbacks=[early_stop, PrintDot()]\n",
    "            )"
   ]
  },
  {
   "cell_type": "code",
   "execution_count": 73,
   "metadata": {},
   "outputs": [
    {
     "data": {
      "text/html": [
       "<div>\n",
       "<style scoped>\n",
       "    .dataframe tbody tr th:only-of-type {\n",
       "        vertical-align: middle;\n",
       "    }\n",
       "\n",
       "    .dataframe tbody tr th {\n",
       "        vertical-align: top;\n",
       "    }\n",
       "\n",
       "    .dataframe thead th {\n",
       "        text-align: right;\n",
       "    }\n",
       "</style>\n",
       "<table border=\"1\" class=\"dataframe\">\n",
       "  <thead>\n",
       "    <tr style=\"text-align: right;\">\n",
       "      <th></th>\n",
       "      <th>loss</th>\n",
       "      <th>accuracy</th>\n",
       "      <th>val_loss</th>\n",
       "      <th>val_accuracy</th>\n",
       "      <th>epoch</th>\n",
       "    </tr>\n",
       "  </thead>\n",
       "  <tbody>\n",
       "    <tr>\n",
       "      <th>49</th>\n",
       "      <td>0.092322</td>\n",
       "      <td>0.97551</td>\n",
       "      <td>0.169568</td>\n",
       "      <td>0.954128</td>\n",
       "      <td>49</td>\n",
       "    </tr>\n",
       "  </tbody>\n",
       "</table>\n",
       "</div>"
      ],
      "text/plain": [
       "        loss  accuracy  val_loss  val_accuracy  epoch\n",
       "49  0.092322   0.97551  0.169568      0.954128     49"
      ]
     },
     "metadata": {},
     "output_type": "display_data"
    },
    {
     "data": {
      "image/png": "[encoded data removed]",
      "text/plain": [
       "<Figure size 432x288 with 1 Axes>"
      ]
     },
     "metadata": {
      "needs_background": "light"
     },
     "output_type": "display_data"
    }
   ],
   "source": [
    "show_final_score(cnn_history)"
   ]
  },
  {
   "cell_type": "markdown",
   "metadata": {},
   "source": [
    "**But this was easy! Using valiadtion data from the dataset itself**"
   ]
  },
  {
   "cell_type": "code",
   "execution_count": 11,
   "metadata": {},
   "outputs": [
    {
     "name": "stdout",
     "output_type": "stream",
     "text": [
      "Test loss: 0.08092372119426727\n",
      "Test accuracy: 0.9823232293128967\n"
     ]
    }
   ],
   "source": [
    "score = cnn_model.evaluate(x_test, y_test, verbose=0)\n",
    "print(\"Test loss:\", score[0])\n",
    "print(\"Test accuracy:\", score[1])"
   ]
  },
  {
   "cell_type": "markdown",
   "metadata": {},
   "source": [
    "### Try out model on the real data!"
   ]
  },
  {
   "cell_type": "code",
   "execution_count": 12,
   "metadata": {},
   "outputs": [],
   "source": [
    "from helpers import *\n",
    "%run helpers.py"
   ]
  },
  {
   "cell_type": "code",
   "execution_count": 108,
   "metadata": {},
   "outputs": [
    {
     "data": {
      "text/plain": [
       "((26, 128, 128, 1), (26,))"
      ]
     },
     "execution_count": 108,
     "metadata": {},
     "output_type": "execute_result"
    }
   ],
   "source": [
    "# Load raw images\n",
    "real_cups, real_cup_size = import_images(path='test_samples/cups/')\n",
    "real_boxes, real_box_size = import_images(path='test_samples/boxes/')\n",
    "real_books, real_book_size = import_images(path='test_samples/books/')\n",
    "# Reshape\n",
    "real_cups = resize_and_flatten(real_cups, padding=False, max_size=real_cup_size, output_size=128, flatten=False)\n",
    "real_boxes = resize_and_flatten(real_boxes, padding=False, max_size=real_box_size, output_size=128, flatten=False)\n",
    "real_books = resize_and_flatten(real_books, padding=False, max_size=real_book_size, output_size=128, flatten=False)\n",
    "# Scale\n",
    "real_cups = real_cups / 255\n",
    "real_boxes = real_boxes / 255\n",
    "real_books = real_books / 255\n",
    "# Shape for KERAS\n",
    "a, b, c = real_cups.shape\n",
    "real_cups = real_cups.reshape((a,b,c,1))\n",
    "a, b, c = real_boxes.shape\n",
    "real_boxes = real_boxes.reshape((a,b,c,1))\n",
    "a, b, c = real_books.shape\n",
    "real_books = real_books.reshape((a,b,c,1))\n",
    "# Targets cups, boxes = [0, 1]\n",
    "cup_target = np.zeros((len(real_cups),))\n",
    "box_target = np.ones((len(real_boxes),))\n",
    "book_target = np.ones((len(real_books),))*2\n",
    "\n",
    "# Combine the data\n",
    "test_data = np.concatenate((real_cups, real_boxes, real_books))\n",
    "test_targets = np.concatenate((cup_target, box_target, book_target))\n",
    "\n",
    "test_data.shape, test_targets.shape"
   ]
  },
  {
   "cell_type": "markdown",
   "metadata": {},
   "source": [
    "### Try training on the orginial data only"
   ]
  },
  {
   "cell_type": "code",
   "execution_count": 29,
   "metadata": {},
   "outputs": [],
   "source": [
    "# Load images\n",
    "cups, cup_size = import_images(path='henriks_images/Cups/')\n",
    "boxes, box_size = import_images(path='henriks_images/Boxes/')"
   ]
  },
  {
   "cell_type": "code",
   "execution_count": 30,
   "metadata": {},
   "outputs": [
    {
     "data": {
      "text/plain": [
       "((454, 128, 128, 1), (454,))"
      ]
     },
     "execution_count": 30,
     "metadata": {},
     "output_type": "execute_result"
    }
   ],
   "source": [
    "# Reshape\n",
    "cups = resize_and_flatten(cups, padding=False, max_size=cup_size, output_size=128, flatten=False)\n",
    "boxes = resize_and_flatten(boxes, padding=False, max_size=box_size, output_size=128, flatten=False)\n",
    "# Scale\n",
    "cups = cups / 255\n",
    "boxes = boxes / 255\n",
    "# Shape for KERAS\n",
    "a, b, c = cups.shape\n",
    "cups = cups.reshape((a,b,c,1))\n",
    "a, b, c = boxes.shape\n",
    "boxes = boxes.reshape((a,b,c,1))\n",
    "# Targets cups, boxes = [0, 1]\n",
    "cup_target = np.zeros((len(cups),))\n",
    "box_target = np.ones((len(boxes),))\n",
    "\n",
    "# Combine the data\n",
    "x_train = np.concatenate((cups, boxes))\n",
    "y_train = np.concatenate((cup_target, box_target))\n",
    "\n",
    "x_train.shape, y_train.shape"
   ]
  },
  {
   "cell_type": "code",
   "execution_count": 56,
   "metadata": {},
   "outputs": [
    {
     "name": "stdout",
     "output_type": "stream",
     "text": [
      "\n",
      ".............................Epoch 00029: early stopping\n"
     ]
    }
   ],
   "source": [
    "input_shape = (128, 128, 1)\n",
    "\n",
    "simple_cnn_model = keras.Sequential(\n",
    "    [\n",
    "        keras.Input(shape=input_shape),\n",
    "        layers.Conv2D(16, kernel_size=(3, 3), activation=\"relu\"),\n",
    "        layers.MaxPooling2D(pool_size=(2, 2)),\n",
    "        layers.Conv2D(16, kernel_size=(3, 3), activation=\"relu\"),\n",
    "        layers.MaxPooling2D(pool_size=(2, 2)),\n",
    "        layers.Flatten(),\n",
    "        #layers.Dropout(0.5),\n",
    "        layers.Dense(2, activation=\"softmax\"), #layers.Dense(2, activation=\"softmax\"),\n",
    "    ]\n",
    ")\n",
    "\n",
    "simple_cnn_model.compile(\n",
    "                loss=tf.keras.metrics.sparse_categorical_crossentropy, #loss=tf.keras.metrics.binary_crossentropy, \n",
    "                optimizer=keras.optimizers.Adam(),\n",
    "                metrics=[\"accuracy\"],\n",
    "                )\n",
    "\n",
    "\n",
    "batch_size = 124 #100\n",
    "epochs = 50\n",
    "early_stop = tf.keras.callbacks.EarlyStopping(monitor='val_loss', mode=\"min\", verbose=1, patience=10) # 50\n",
    "\n",
    "simple_cnn_history = simple_cnn_model.fit(x_train, y_train,\n",
    "            batch_size=batch_size, epochs=epochs, \n",
    "            validation_split=0.1, verbose=0,\n",
    "            callbacks=[PrintDot(), early_stop] # early_stop\n",
    "            )"
   ]
  },
  {
   "cell_type": "code",
   "execution_count": 57,
   "metadata": {},
   "outputs": [
    {
     "data": {
      "text/html": [
       "<div>\n",
       "<style scoped>\n",
       "    .dataframe tbody tr th:only-of-type {\n",
       "        vertical-align: middle;\n",
       "    }\n",
       "\n",
       "    .dataframe tbody tr th {\n",
       "        vertical-align: top;\n",
       "    }\n",
       "\n",
       "    .dataframe thead th {\n",
       "        text-align: right;\n",
       "    }\n",
       "</style>\n",
       "<table border=\"1\" class=\"dataframe\">\n",
       "  <thead>\n",
       "    <tr style=\"text-align: right;\">\n",
       "      <th></th>\n",
       "      <th>loss</th>\n",
       "      <th>accuracy</th>\n",
       "      <th>val_loss</th>\n",
       "      <th>val_accuracy</th>\n",
       "      <th>epoch</th>\n",
       "    </tr>\n",
       "  </thead>\n",
       "  <tbody>\n",
       "    <tr>\n",
       "      <th>28</th>\n",
       "      <td>0.165535</td>\n",
       "      <td>0.963235</td>\n",
       "      <td>0.287378</td>\n",
       "      <td>0.869565</td>\n",
       "      <td>28</td>\n",
       "    </tr>\n",
       "  </tbody>\n",
       "</table>\n",
       "</div>"
      ],
      "text/plain": [
       "        loss  accuracy  val_loss  val_accuracy  epoch\n",
       "28  0.165535  0.963235  0.287378      0.869565     28"
      ]
     },
     "metadata": {},
     "output_type": "display_data"
    },
    {
     "data": {
      "image/png": "[encoded data removed]",
      "text/plain": [
       "<Figure size 432x288 with 1 Axes>"
      ]
     },
     "metadata": {
      "needs_background": "light"
     },
     "output_type": "display_data"
    }
   ],
   "source": [
    "show_final_score(simple_cnn_history)"
   ]
  },
  {
   "cell_type": "markdown",
   "metadata": {},
   "source": [
    "### Get all training data"
   ]
  },
  {
   "cell_type": "code",
   "execution_count": 76,
   "metadata": {},
   "outputs": [
    {
     "data": {
      "text/plain": [
       "(198, 256, 218)"
      ]
     },
     "execution_count": 76,
     "metadata": {},
     "output_type": "execute_result"
    }
   ],
   "source": [
    "## Load images\n",
    "#cups, cup_size = import_images(path='henriks_images/Cups/')\n",
    "#boxes, box_size = import_images(path='henriks_images/Boxes/')\n",
    "#books, book_size = import_images(path='books/')\n",
    "#len(cups), len(boxes), len(books)\n",
    "#\n",
    "## Reshape\n",
    "#cups = resize_and_flatten(cups, padding=False, max_size=cup_size, output_size=128, flatten=False)\n",
    "#boxes = resize_and_flatten(boxes, padding=False, max_size=box_size, output_size=128, flatten=False)\n",
    "#books = resize_and_flatten(books, padding=False, max_size=book_size, output_size=128, flatten=False)"
   ]
  },
  {
   "cell_type": "code",
   "execution_count": 78,
   "metadata": {},
   "outputs": [
    {
     "name": "stdout",
     "output_type": "stream",
     "text": [
      "(198, 128, 128)\n",
      "(256, 128, 128)\n",
      "(218, 128, 128)\n"
     ]
    }
   ],
   "source": [
    "# Store the simple images\n",
    "store_images(cups, path='henriks_images/small_cup/')\n",
    "store_images(boxes, path='henriks_images/small_box/')\n",
    "store_images(books, path='henriks_images/small_book/')\n"
   ]
  },
  {
   "cell_type": "code",
   "execution_count": 89,
   "metadata": {},
   "outputs": [
    {
     "data": {
      "text/plain": [
       "((198, 128, 128), (256, 128, 128), (218, 128, 128))"
      ]
     },
     "execution_count": 89,
     "metadata": {},
     "output_type": "execute_result"
    }
   ],
   "source": [
    "# Load images\n",
    "cups, cup_size = import_images(path='henriks_images/small_cup/')\n",
    "boxes, box_size = import_images(path='henriks_images/small_box/')\n",
    "books, book_size = import_images(path='henriks_images/small_book/')\n",
    "cups.shape, boxes.shape, books.shape"
   ]
  },
  {
   "cell_type": "code",
   "execution_count": 90,
   "metadata": {},
   "outputs": [
    {
     "data": {
      "text/plain": [
       "((672, 128, 128, 1), (672,))"
      ]
     },
     "execution_count": 90,
     "metadata": {},
     "output_type": "execute_result"
    }
   ],
   "source": [
    "# Scale\n",
    "cups = cups / 255\n",
    "boxes = boxes / 255\n",
    "books = books / 255\n",
    "# Shape for KERAS\n",
    "a, b, c = cups.shape\n",
    "cups = cups.reshape((a,b,c,1))\n",
    "a, b, c = boxes.shape\n",
    "boxes = boxes.reshape((a,b,c,1))\n",
    "a, b, c = books.shape\n",
    "books = books.reshape((a,b,c,1))\n",
    "# Targets cups, boxes = [0, 1]\n",
    "cup_target = np.zeros((len(cups),))\n",
    "box_target = np.ones((len(boxes),))\n",
    "book_target = np.ones((len(books),))*2\n",
    "\n",
    "# Combine the data\n",
    "x_train = np.concatenate((cups, boxes, books))\n",
    "y_train = np.concatenate((cup_target, box_target, book_target))\n",
    "\n",
    "x_train.shape, y_train.shape"
   ]
  },
  {
   "cell_type": "code",
   "execution_count": 97,
   "metadata": {},
   "outputs": [
    {
     "data": {
      "text/plain": [
       "(numpy.int32, 2)"
      ]
     },
     "execution_count": 97,
     "metadata": {},
     "output_type": "execute_result"
    }
   ],
   "source": [
    "y_train = y_train.astype(np.int32)\n",
    "type(y_train[0]), y_train[-1]"
   ]
  },
  {
   "cell_type": "code",
   "execution_count": 99,
   "metadata": {},
   "outputs": [
    {
     "name": "stdout",
     "output_type": "stream",
     "text": [
      "\n",
      ".........................Epoch 00025: early stopping\n"
     ]
    }
   ],
   "source": [
    "input_shape = (128, 128, 1)\n",
    "\n",
    "book_cnn_model = keras.Sequential(\n",
    "    [\n",
    "        keras.Input(shape=input_shape),\n",
    "        layers.Conv2D(16, kernel_size=(3, 3), activation=\"relu\"),\n",
    "        layers.MaxPooling2D(pool_size=(2, 2)),\n",
    "        layers.Conv2D(16, kernel_size=(3, 3), activation=\"relu\"),\n",
    "        layers.MaxPooling2D(pool_size=(2, 2)),\n",
    "        layers.Flatten(),\n",
    "        #layers.Dropout(0.5),\n",
    "        layers.Dense(3, activation=\"softmax\"), #layers.Dense(2, activation=\"softmax\"),\n",
    "    ]\n",
    ")\n",
    "\n",
    "book_cnn_model.compile(\n",
    "                loss=tf.keras.metrics.sparse_categorical_crossentropy, #loss=\"categorical_crossentropy\", #loss=tf.keras.metrics.binary_crossentropy, \n",
    "                optimizer=keras.optimizers.Adam(),\n",
    "                metrics=[\"accuracy\"],\n",
    "                )\n",
    "\n",
    "\n",
    "batch_size = 124 #100\n",
    "epochs = 50\n",
    "early_stop = tf.keras.callbacks.EarlyStopping(monitor='val_loss', mode=\"min\", verbose=1, patience=10) # 50\n",
    "\n",
    "book_cnn_history = book_cnn_model.fit(x_train, y_train,\n",
    "            batch_size=batch_size, epochs=epochs, \n",
    "            validation_split=0.1, verbose=0,\n",
    "            callbacks=[PrintDot(), early_stop] # early_stop\n",
    "            )"
   ]
  },
  {
   "cell_type": "code",
   "execution_count": 100,
   "metadata": {},
   "outputs": [
    {
     "data": {
      "text/html": [
       "<div>\n",
       "<style scoped>\n",
       "    .dataframe tbody tr th:only-of-type {\n",
       "        vertical-align: middle;\n",
       "    }\n",
       "\n",
       "    .dataframe tbody tr th {\n",
       "        vertical-align: top;\n",
       "    }\n",
       "\n",
       "    .dataframe thead th {\n",
       "        text-align: right;\n",
       "    }\n",
       "</style>\n",
       "<table border=\"1\" class=\"dataframe\">\n",
       "  <thead>\n",
       "    <tr style=\"text-align: right;\">\n",
       "      <th></th>\n",
       "      <th>loss</th>\n",
       "      <th>accuracy</th>\n",
       "      <th>val_loss</th>\n",
       "      <th>val_accuracy</th>\n",
       "      <th>epoch</th>\n",
       "    </tr>\n",
       "  </thead>\n",
       "  <tbody>\n",
       "    <tr>\n",
       "      <th>24</th>\n",
       "      <td>0.085487</td>\n",
       "      <td>0.991722</td>\n",
       "      <td>0.374813</td>\n",
       "      <td>0.882353</td>\n",
       "      <td>24</td>\n",
       "    </tr>\n",
       "  </tbody>\n",
       "</table>\n",
       "</div>"
      ],
      "text/plain": [
       "        loss  accuracy  val_loss  val_accuracy  epoch\n",
       "24  0.085487  0.991722  0.374813      0.882353     24"
      ]
     },
     "metadata": {},
     "output_type": "display_data"
    },
    {
     "data": {
      "image/png": "[encoded data removed]",
      "text/plain": [
       "<Figure size 432x288 with 1 Axes>"
      ]
     },
     "metadata": {
      "needs_background": "light"
     },
     "output_type": "display_data"
    }
   ],
   "source": [
    "show_final_score(book_cnn_history)"
   ]
  },
  {
   "cell_type": "code",
   "execution_count": 110,
   "metadata": {},
   "outputs": [
    {
     "name": "stdout",
     "output_type": "stream",
     "text": [
      "Test loss: 1.0562533140182495\n",
      "Test accuracy: 0.6153846383094788\n"
     ]
    }
   ],
   "source": [
    "score = book_cnn_model.evaluate(test_data, test_targets, verbose=0)\n",
    "print(\"Test loss:\", score[0])\n",
    "print(\"Test accuracy:\", score[1])"
   ]
  },
  {
   "cell_type": "markdown",
   "metadata": {},
   "source": [
    "### What if we chEaT?\n",
    "- Adding the test samples to the training data, moHAHAHAH!"
   ]
  },
  {
   "cell_type": "code",
   "execution_count": 118,
   "metadata": {},
   "outputs": [
    {
     "data": {
      "text/plain": [
       "((672, 128, 128, 1), (26, 128, 128, 1), (698, 128, 128, 1))"
      ]
     },
     "execution_count": 118,
     "metadata": {},
     "output_type": "execute_result"
    }
   ],
   "source": [
    "x_train_cheat = np.concatenate((x_train, test_data))\n",
    "y_train_cheat = np.concatenate((y_train, test_targets))\n",
    "x_train.shape, test_data.shape, x_train_cheat.shape, "
   ]
  },
  {
   "cell_type": "code",
   "execution_count": 119,
   "metadata": {},
   "outputs": [
    {
     "name": "stdout",
     "output_type": "stream",
     "text": [
      "\n",
      "........................Epoch 00024: early stopping\n"
     ]
    }
   ],
   "source": [
    "input_shape = (128, 128, 1)\n",
    "\n",
    "cheat_cnn_model = keras.Sequential(\n",
    "    [\n",
    "        keras.Input(shape=input_shape),\n",
    "        layers.Conv2D(16, kernel_size=(3, 3), activation=\"relu\"),\n",
    "        layers.MaxPooling2D(pool_size=(2, 2)),\n",
    "        layers.Conv2D(16, kernel_size=(3, 3), activation=\"relu\"),\n",
    "        layers.MaxPooling2D(pool_size=(2, 2)),\n",
    "        layers.Flatten(),\n",
    "        #layers.Dropout(0.5),\n",
    "        layers.Dense(3, activation=\"softmax\"), #layers.Dense(2, activation=\"softmax\"),\n",
    "    ]\n",
    ")\n",
    "\n",
    "cheat_cnn_model.compile(\n",
    "                loss=tf.keras.metrics.sparse_categorical_crossentropy, #loss=\"categorical_crossentropy\", #loss=tf.keras.metrics.binary_crossentropy, \n",
    "                optimizer=keras.optimizers.Adam(),\n",
    "                metrics=[\"accuracy\"],\n",
    "                )\n",
    "\n",
    "\n",
    "batch_size = 124 #100\n",
    "epochs = 50\n",
    "early_stop = tf.keras.callbacks.EarlyStopping(monitor='val_loss', mode=\"min\", verbose=1, patience=10) # 50\n",
    "\n",
    "cheat_cnn_history = cheat_cnn_model.fit(x_train_cheat, y_train_cheat,\n",
    "            batch_size=batch_size, epochs=epochs, \n",
    "            validation_split=0.1, verbose=0,\n",
    "            callbacks=[PrintDot(), early_stop] # early_stop\n",
    "            )"
   ]
  },
  {
   "cell_type": "code",
   "execution_count": 120,
   "metadata": {},
   "outputs": [
    {
     "data": {
      "text/html": [
       "<div>\n",
       "<style scoped>\n",
       "    .dataframe tbody tr th:only-of-type {\n",
       "        vertical-align: middle;\n",
       "    }\n",
       "\n",
       "    .dataframe tbody tr th {\n",
       "        vertical-align: top;\n",
       "    }\n",
       "\n",
       "    .dataframe thead th {\n",
       "        text-align: right;\n",
       "    }\n",
       "</style>\n",
       "<table border=\"1\" class=\"dataframe\">\n",
       "  <thead>\n",
       "    <tr style=\"text-align: right;\">\n",
       "      <th></th>\n",
       "      <th>loss</th>\n",
       "      <th>accuracy</th>\n",
       "      <th>val_loss</th>\n",
       "      <th>val_accuracy</th>\n",
       "      <th>epoch</th>\n",
       "    </tr>\n",
       "  </thead>\n",
       "  <tbody>\n",
       "    <tr>\n",
       "      <th>23</th>\n",
       "      <td>0.15458</td>\n",
       "      <td>0.96656</td>\n",
       "      <td>0.596686</td>\n",
       "      <td>0.771429</td>\n",
       "      <td>23</td>\n",
       "    </tr>\n",
       "  </tbody>\n",
       "</table>\n",
       "</div>"
      ],
      "text/plain": [
       "       loss  accuracy  val_loss  val_accuracy  epoch\n",
       "23  0.15458   0.96656  0.596686      0.771429     23"
      ]
     },
     "metadata": {},
     "output_type": "display_data"
    },
    {
     "name": "stdout",
     "output_type": "stream",
     "text": [
      "Test loss: 1.1045105457305908\n",
      "Test accuracy: 0.5384615659713745\n"
     ]
    },
    {
     "data": {
      "image/png": "[encoded data removed]",
      "text/plain": [
       "<Figure size 432x288 with 1 Axes>"
      ]
     },
     "metadata": {
      "needs_background": "light"
     },
     "output_type": "display_data"
    }
   ],
   "source": [
    "show_final_score(cheat_cnn_history)\n",
    "\n",
    "cheat_score = cheat_cnn_model.evaluate(test_data, test_targets, verbose=0)\n",
    "print(\"Test loss:\", cheat_score[0])\n",
    "print(\"Test accuracy:\", cheat_score[1])"
   ]
  },
  {
   "cell_type": "markdown",
   "metadata": {},
   "source": [
    "### Interesting, seems like cheating doesn't pay off"
   ]
  },
  {
   "cell_type": "code",
   "execution_count": null,
   "metadata": {},
   "outputs": [],
   "source": []
  }
 ],
 "metadata": {
  "interpreter": {
   "hash": "becc7bcbb7a4199260879ba1a9630da63d2f52d521041d6c190802a5dc80d452"
  },
  "kernelspec": {
   "display_name": "Python 3.8.8 64-bit",
   "language": "python",
   "name": "python3"
  },
  "language_info": {
   "codemirror_mode": {
    "name": "ipython",
    "version": 3
   },
   "file_extension": ".py",
   "mimetype": "text/x-python",
   "name": "python",
   "nbconvert_exporter": "python",
   "pygments_lexer": "ipython3",
   "version": "3.8.8"
  },
  "orig_nbformat": 4
 },
 "nbformat": 4,
 "nbformat_minor": 2
}
