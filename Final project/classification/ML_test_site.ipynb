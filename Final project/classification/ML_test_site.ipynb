{
 "cells": [
  {
   "cell_type": "markdown",
   "metadata": {},
   "source": [
    "## Testsite for more advanced ML schemes\n",
    "\n",
    "- Henrik testing CNN"
   ]
  },
  {
   "cell_type": "code",
   "execution_count": 154,
   "metadata": {},
   "outputs": [],
   "source": [
    "# Different useful libraries\n",
    "import matplotlib.pyplot as plt # plotting\n",
    "import numpy as np # linear algebra\n",
    "import pandas as pd # data processing, CSV file I/O (e.g. pd.read_csv)\n",
    "import cv2\n",
    "import glob\n",
    "from sklearn.preprocessing import StandardScaler, MinMaxScaler\n",
    "from sklearn.decomposition import PCA\n",
    "from sklearn.model_selection import train_test_split\n",
    "# ANN\n",
    "import tensorflow as tf\n",
    "from tensorflow import keras\n",
    "from tensorflow.keras import layers\n",
    "# Helpers\n",
    "from helpers import *\n",
    "%run helpers.py"
   ]
  },
  {
   "cell_type": "markdown",
   "metadata": {},
   "source": [
    "#### Get the augmented data"
   ]
  },
  {
   "cell_type": "code",
   "execution_count": 10,
   "metadata": {},
   "outputs": [],
   "source": [
    "# Load images\n",
    "cups, cup_size = import_images(path='henriks_images/augment_cup/')\n",
    "boxes, box_size = import_images(path='henriks_images/augment_box/')"
   ]
  },
  {
   "cell_type": "code",
   "execution_count": 14,
   "metadata": {},
   "outputs": [
    {
     "data": {
      "text/plain": [
       "((2970, 128, 128), (2970, 128, 128))"
      ]
     },
     "execution_count": 14,
     "metadata": {},
     "output_type": "execute_result"
    }
   ],
   "source": [
    "# Balance the data - we have more box data then cup data\n",
    "idx = np.random.randint(0, len(cups), len(cups))\n",
    "cups = np.asarray(cups)[idx, :, :, 0]\n",
    "boxes = np.asarray(boxes)[idx, :, :, 0]\n",
    "cups.shape, boxes.shape"
   ]
  },
  {
   "cell_type": "markdown",
   "metadata": {},
   "source": [
    "### Basic data formatting\n",
    "Splitting, normalization, pandas etc."
   ]
  },
  {
   "cell_type": "code",
   "execution_count": 80,
   "metadata": {},
   "outputs": [
    {
     "name": "stdout",
     "output_type": "stream",
     "text": [
      "boxes: ( 0.0 0.9715447154471546 ) cups:( 0.11344537815126049 1.0 )\n"
     ]
    }
   ],
   "source": [
    "# Normalize advanced approach\n",
    "(scaled_boxes, scaled_cups), scaler = normalize_2D(all_data=[boxes, cups], scaler_type='minmax')\n",
    "print(\"boxes: (\", scaled_boxes[0].min(), scaled_boxes[0].max(), \") cups:(\", scaled_cups[0].min(), scaled_cups[0].max(), \")\")\n"
   ]
  },
  {
   "cell_type": "code",
   "execution_count": 84,
   "metadata": {},
   "outputs": [
    {
     "name": "stdout",
     "output_type": "stream",
     "text": [
      "boxes: ( 0.0 0.9725490196078431 ) cups:( 0.13333333333333333 1.0 )\n"
     ]
    }
   ],
   "source": [
    "# Normalize ez approach\n",
    "scaled_boxes = boxes / 255\n",
    "scaled_cups = cups / 255\n",
    "print(\"boxes: (\", scaled_boxes[0].min(), scaled_boxes[0].max(), \") cups:(\", scaled_cups[0].min(), scaled_cups[0].max(), \")\")\n"
   ]
  },
  {
   "cell_type": "code",
   "execution_count": 85,
   "metadata": {},
   "outputs": [],
   "source": [
    "image_df = from_numpy_to_pd(data=[scaled_cups, scaled_boxes], labels=[0, 1])"
   ]
  },
  {
   "cell_type": "code",
   "execution_count": 114,
   "metadata": {},
   "outputs": [
    {
     "data": {
      "text/plain": [
       "((4752, 128, 128, 1), (4752,), (1188, 128, 128, 1), (1188,))"
      ]
     },
     "execution_count": 114,
     "metadata": {},
     "output_type": "execute_result"
    }
   ],
   "source": [
    "train, test = train_test_split(image_df, test_size=0.2)\n",
    "\n",
    "x_train = np.stack(train['data'], 0)\n",
    "y_train = np.float32(train['label'])\n",
    "\n",
    "x_test = np.stack(test['data'], 0)\n",
    "y_test = np.float32(test['label'])\n",
    "\n",
    "# For Keras this is required:\n",
    "a, b, c = x_train.shape\n",
    "x_train = x_train.reshape((a,b,c,1))\n",
    "a, b, c = x_test.shape\n",
    "x_test = x_test.reshape((a,b,c,1))\n",
    "\n",
    "\n",
    "x_train.shape, y_train.shape, x_test.shape, y_test.shape"
   ]
  },
  {
   "cell_type": "markdown",
   "metadata": {},
   "source": [
    "### CNN - *conv. neural net time baby*!\n",
    "\n",
    "***NB!*** Since we are for now only doing binary classification:\n",
    "```\n",
    "1. Change Categorical Cross Entropy to Binary Cross Entropy since your output label is binary.\n",
    "2. Change Softmax to Sigmoid since Sigmoid is the proper activation function for binary data\n",
    "```\n",
    "\n",
    "Good sources:\n",
    "\n",
    "- CONVNET on MINST: https://keras.io/examples/vision/mnist_convnet/\n",
    "- Binary classification: https://stackoverflow.com/questions/61742556/valueerror-shapes-none-1-and-none-2-are-incompatible"
   ]
  },
  {
   "cell_type": "code",
   "execution_count": 141,
   "metadata": {},
   "outputs": [],
   "source": [
    "input_shape = (128, 128, 1)\n",
    "\n",
    "cnn_model = keras.Sequential(\n",
    "    [\n",
    "        keras.Input(shape=input_shape),\n",
    "        layers.Conv2D(32, kernel_size=(3, 3), activation=\"relu\"),\n",
    "        layers.MaxPooling2D(pool_size=(2, 2)),\n",
    "        layers.Conv2D(64, kernel_size=(3, 3), activation=\"relu\"),\n",
    "        layers.MaxPooling2D(pool_size=(2, 2)),\n",
    "        layers.Flatten(),\n",
    "        layers.Dropout(0.5),\n",
    "        layers.Dense(2, activation=\"sigmoid\"), #layers.Dense(2, activation=\"softmax\"),\n",
    "    ]\n",
    ")\n",
    "\n",
    "cnn_model.compile(\n",
    "                loss=tf.keras.metrics.sparse_categorical_crossentropy, #loss=tf.keras.metrics.binary_crossentropy, \n",
    "                optimizer=keras.optimizers.Adam(),\n",
    "                metrics=[\"accuracy\"],\n",
    "                )\n",
    "\n",
    "#cnn_model.summary()"
   ]
  },
  {
   "cell_type": "code",
   "execution_count": 142,
   "metadata": {},
   "outputs": [
    {
     "name": "stdout",
     "output_type": "stream",
     "text": [
      "Epoch 1/50\n",
      "134/134 [==============================] - 32s 235ms/step - loss: 0.6240 - accuracy: 0.6205 - val_loss: 0.4069 - val_accuracy: 0.8046\n",
      "Epoch 2/50\n",
      "134/134 [==============================] - 33s 244ms/step - loss: 0.3111 - accuracy: 0.8627 - val_loss: 0.2504 - val_accuracy: 0.8824\n",
      "Epoch 3/50\n",
      "134/134 [==============================] - 31s 232ms/step - loss: 0.1993 - accuracy: 0.9212 - val_loss: 0.1699 - val_accuracy: 0.9265\n",
      "Epoch 4/50\n",
      "134/134 [==============================] - 29s 216ms/step - loss: 0.1630 - accuracy: 0.9337 - val_loss: 0.1275 - val_accuracy: 0.9580\n",
      "Epoch 5/50\n",
      "134/134 [==============================] - 28s 210ms/step - loss: 0.1117 - accuracy: 0.9648 - val_loss: 0.1263 - val_accuracy: 0.9391\n",
      "Epoch 6/50\n",
      "134/134 [==============================] - 28s 210ms/step - loss: 0.1021 - accuracy: 0.9644 - val_loss: 0.0861 - val_accuracy: 0.9790\n",
      "Epoch 7/50\n",
      "134/134 [==============================] - 28s 209ms/step - loss: 0.0859 - accuracy: 0.9706 - val_loss: 0.0744 - val_accuracy: 0.9727\n",
      "Epoch 8/50\n",
      "134/134 [==============================] - 28s 212ms/step - loss: 0.0763 - accuracy: 0.9733 - val_loss: 0.0594 - val_accuracy: 0.9790\n",
      "Epoch 9/50\n",
      "134/134 [==============================] - 28s 209ms/step - loss: 0.0508 - accuracy: 0.9837 - val_loss: 0.0772 - val_accuracy: 0.9727\n",
      "Epoch 10/50\n",
      "134/134 [==============================] - 28s 210ms/step - loss: 0.0566 - accuracy: 0.9815 - val_loss: 0.0614 - val_accuracy: 0.9832\n",
      "Epoch 11/50\n",
      "134/134 [==============================] - 28s 212ms/step - loss: 0.0489 - accuracy: 0.9836 - val_loss: 0.0490 - val_accuracy: 0.9853\n",
      "Epoch 12/50\n",
      "134/134 [==============================] - 28s 209ms/step - loss: 0.0391 - accuracy: 0.9856 - val_loss: 0.0651 - val_accuracy: 0.9748\n",
      "Epoch 13/50\n",
      "134/134 [==============================] - 28s 209ms/step - loss: 0.0473 - accuracy: 0.9844 - val_loss: 0.1789 - val_accuracy: 0.9202\n",
      "Epoch 14/50\n",
      "134/134 [==============================] - 28s 209ms/step - loss: 0.0902 - accuracy: 0.9695 - val_loss: 0.0547 - val_accuracy: 0.9853\n",
      "Epoch 15/50\n",
      "134/134 [==============================] - 28s 211ms/step - loss: 0.0272 - accuracy: 0.9910 - val_loss: 0.0464 - val_accuracy: 0.9895\n",
      "Epoch 16/50\n",
      "134/134 [==============================] - 28s 210ms/step - loss: 0.0314 - accuracy: 0.9879 - val_loss: 0.0548 - val_accuracy: 0.9832\n",
      "Epoch 17/50\n",
      "134/134 [==============================] - 28s 211ms/step - loss: 0.0252 - accuracy: 0.9913 - val_loss: 0.0364 - val_accuracy: 0.9895\n",
      "Epoch 18/50\n",
      "134/134 [==============================] - 28s 209ms/step - loss: 0.0282 - accuracy: 0.9905 - val_loss: 0.0513 - val_accuracy: 0.9874\n",
      "Epoch 19/50\n",
      "134/134 [==============================] - 28s 209ms/step - loss: 0.0212 - accuracy: 0.9927 - val_loss: 0.0544 - val_accuracy: 0.9874\n",
      "Epoch 20/50\n",
      "134/134 [==============================] - 28s 210ms/step - loss: 0.0220 - accuracy: 0.9935 - val_loss: 0.0423 - val_accuracy: 0.9811\n",
      "Epoch 21/50\n",
      "134/134 [==============================] - 28s 209ms/step - loss: 0.0228 - accuracy: 0.9918 - val_loss: 0.0307 - val_accuracy: 0.9916\n",
      "Epoch 22/50\n",
      "134/134 [==============================] - 28s 209ms/step - loss: 0.0171 - accuracy: 0.9949 - val_loss: 0.0413 - val_accuracy: 0.9895\n",
      "Epoch 23/50\n",
      "134/134 [==============================] - 28s 211ms/step - loss: 0.0155 - accuracy: 0.9932 - val_loss: 0.0272 - val_accuracy: 0.9895\n",
      "Epoch 24/50\n",
      "134/134 [==============================] - 28s 209ms/step - loss: 0.0179 - accuracy: 0.9925 - val_loss: 0.0308 - val_accuracy: 0.9937\n",
      "Epoch 25/50\n",
      "134/134 [==============================] - 28s 209ms/step - loss: 0.0169 - accuracy: 0.9955 - val_loss: 0.0622 - val_accuracy: 0.9769\n",
      "Epoch 26/50\n",
      "134/134 [==============================] - 28s 208ms/step - loss: 0.0405 - accuracy: 0.9876 - val_loss: 0.0378 - val_accuracy: 0.9874\n",
      "Epoch 27/50\n",
      "134/134 [==============================] - 28s 207ms/step - loss: 0.0473 - accuracy: 0.9854 - val_loss: 0.0414 - val_accuracy: 0.9916\n",
      "Epoch 28/50\n",
      "134/134 [==============================] - 29s 217ms/step - loss: 0.0080 - accuracy: 0.9993 - val_loss: 0.0364 - val_accuracy: 0.9916\n",
      "Epoch 29/50\n",
      "134/134 [==============================] - 29s 216ms/step - loss: 0.0067 - accuracy: 0.9987 - val_loss: 0.0348 - val_accuracy: 0.9937\n",
      "Epoch 30/50\n",
      "134/134 [==============================] - 30s 225ms/step - loss: 0.0111 - accuracy: 0.9973 - val_loss: 0.0265 - val_accuracy: 0.9937\n",
      "Epoch 31/50\n",
      "134/134 [==============================] - 28s 208ms/step - loss: 0.0132 - accuracy: 0.9950 - val_loss: 0.0607 - val_accuracy: 0.9853\n",
      "Epoch 32/50\n",
      "134/134 [==============================] - 28s 211ms/step - loss: 0.0143 - accuracy: 0.9944 - val_loss: 0.0412 - val_accuracy: 0.9937\n",
      "Epoch 33/50\n",
      "134/134 [==============================] - 28s 207ms/step - loss: 0.0085 - accuracy: 0.9970 - val_loss: 0.0548 - val_accuracy: 0.9790\n",
      "Epoch 34/50\n",
      "134/134 [==============================] - 28s 212ms/step - loss: 0.0113 - accuracy: 0.9968 - val_loss: 0.0618 - val_accuracy: 0.9874\n",
      "Epoch 35/50\n",
      "134/134 [==============================] - 28s 210ms/step - loss: 0.0104 - accuracy: 0.9955 - val_loss: 0.0493 - val_accuracy: 0.9895\n",
      "Epoch 36/50\n",
      "134/134 [==============================] - 30s 226ms/step - loss: 0.0149 - accuracy: 0.9946 - val_loss: 0.0358 - val_accuracy: 0.9853\n",
      "Epoch 37/50\n",
      "134/134 [==============================] - 29s 213ms/step - loss: 0.0238 - accuracy: 0.9905 - val_loss: 0.0275 - val_accuracy: 0.9916\n",
      "Epoch 38/50\n",
      "134/134 [==============================] - 29s 219ms/step - loss: 0.0123 - accuracy: 0.9954 - val_loss: 0.0385 - val_accuracy: 0.9937\n",
      "Epoch 39/50\n",
      "134/134 [==============================] - 29s 220ms/step - loss: 0.0250 - accuracy: 0.9910 - val_loss: 0.0249 - val_accuracy: 0.9916\n",
      "Epoch 40/50\n",
      "134/134 [==============================] - 30s 225ms/step - loss: 0.0047 - accuracy: 0.9992 - val_loss: 0.0204 - val_accuracy: 0.9937\n",
      "Epoch 41/50\n",
      "134/134 [==============================] - 29s 214ms/step - loss: 0.0066 - accuracy: 0.9980 - val_loss: 0.0358 - val_accuracy: 0.9937\n",
      "Epoch 42/50\n",
      "134/134 [==============================] - 28s 209ms/step - loss: 0.0232 - accuracy: 0.9917 - val_loss: 0.0539 - val_accuracy: 0.9853\n",
      "Epoch 43/50\n",
      "134/134 [==============================] - 28s 211ms/step - loss: 0.0083 - accuracy: 0.9981 - val_loss: 0.0559 - val_accuracy: 0.9853\n",
      "Epoch 44/50\n",
      "134/134 [==============================] - 28s 208ms/step - loss: 0.0221 - accuracy: 0.9931 - val_loss: 0.0396 - val_accuracy: 0.9895\n",
      "Epoch 45/50\n",
      "134/134 [==============================] - 28s 209ms/step - loss: 0.0110 - accuracy: 0.9957 - val_loss: 0.0312 - val_accuracy: 0.9895\n",
      "Epoch 46/50\n",
      "134/134 [==============================] - 28s 208ms/step - loss: 0.0079 - accuracy: 0.9968 - val_loss: 0.0513 - val_accuracy: 0.9853\n",
      "Epoch 47/50\n",
      "134/134 [==============================] - 28s 210ms/step - loss: 0.0126 - accuracy: 0.9955 - val_loss: 0.0393 - val_accuracy: 0.9916\n",
      "Epoch 48/50\n",
      "134/134 [==============================] - 28s 211ms/step - loss: 0.0225 - accuracy: 0.9938 - val_loss: 0.0480 - val_accuracy: 0.9895\n",
      "Epoch 49/50\n",
      "134/134 [==============================] - 28s 208ms/step - loss: 0.0096 - accuracy: 0.9950 - val_loss: 0.0371 - val_accuracy: 0.9916\n",
      "Epoch 50/50\n",
      "134/134 [==============================] - 28s 210ms/step - loss: 0.0049 - accuracy: 0.9986 - val_loss: 0.0428 - val_accuracy: 0.9916\n"
     ]
    }
   ],
   "source": [
    "batch_size = 32\n",
    "epochs = 50\n",
    "early_stop = tf.keras.callbacks.EarlyStopping(monitor='val_loss', mode=\"min\", verbose=1, patience=10) # 50\n",
    "\n",
    "cnn_history = cnn_model.fit(x_train, y_train,\n",
    "            batch_size=batch_size, epochs=epochs, \n",
    "            validation_split=0.1, verbose=1,\n",
    "            #callbacks=[early_stop, PrintDot()]\n",
    "            )"
   ]
  },
  {
   "cell_type": "code",
   "execution_count": 143,
   "metadata": {},
   "outputs": [
    {
     "data": {
      "text/html": [
       "<div>\n",
       "<style scoped>\n",
       "    .dataframe tbody tr th:only-of-type {\n",
       "        vertical-align: middle;\n",
       "    }\n",
       "\n",
       "    .dataframe tbody tr th {\n",
       "        vertical-align: top;\n",
       "    }\n",
       "\n",
       "    .dataframe thead th {\n",
       "        text-align: right;\n",
       "    }\n",
       "</style>\n",
       "<table border=\"1\" class=\"dataframe\">\n",
       "  <thead>\n",
       "    <tr style=\"text-align: right;\">\n",
       "      <th></th>\n",
       "      <th>loss</th>\n",
       "      <th>accuracy</th>\n",
       "      <th>val_loss</th>\n",
       "      <th>val_accuracy</th>\n",
       "      <th>epoch</th>\n",
       "    </tr>\n",
       "  </thead>\n",
       "  <tbody>\n",
       "    <tr>\n",
       "      <th>49</th>\n",
       "      <td>0.009653</td>\n",
       "      <td>0.997428</td>\n",
       "      <td>0.04284</td>\n",
       "      <td>0.991597</td>\n",
       "      <td>49</td>\n",
       "    </tr>\n",
       "  </tbody>\n",
       "</table>\n",
       "</div>"
      ],
      "text/plain": [
       "        loss  accuracy  val_loss  val_accuracy  epoch\n",
       "49  0.009653  0.997428   0.04284      0.991597     49"
      ]
     },
     "metadata": {},
     "output_type": "display_data"
    },
    {
     "data": {
      "image/png": "[encoded data removed]",
      "text/plain": [
       "<Figure size 432x288 with 1 Axes>"
      ]
     },
     "metadata": {
      "needs_background": "light"
     },
     "output_type": "display_data"
    }
   ],
   "source": [
    "show_final_score(cnn_history)"
   ]
  },
  {
   "cell_type": "code",
   "execution_count": 145,
   "metadata": {},
   "outputs": [
    {
     "name": "stdout",
     "output_type": "stream",
     "text": [
      "Test loss: 0.06961480528116226\n",
      "Test accuracy: 0.9806397557258606\n"
     ]
    }
   ],
   "source": [
    "score = cnn_model.evaluate(x_test, y_test, verbose=0)\n",
    "print(\"Test loss:\", score[0])\n",
    "print(\"Test accuracy:\", score[1])"
   ]
  },
  {
   "cell_type": "markdown",
   "metadata": {},
   "source": [
    "#### Test results\n",
    "**Simple** Runs: with batch size 32, epochs 15\n",
    "- Using softmax in output layer and sparse_categorical_crossentropy loss:\\\n",
    "    ```[Test loss: 0.050683144479990005, Test accuracy: 0.9806397557258606]```\n",
    "- Trying the sigmoid output and sparse_categorical_crossentropy loss:\\\n",
    "    ```[Test loss: 0.08819699287414551, Test accuracy: 0.9713804721832275]```\n",
    "- Binary cross entropy failed...\n",
    "\n",
    "\"**Advanced**\" Using ealy stopping got about the same results"
   ]
  },
  {
   "cell_type": "markdown",
   "metadata": {},
   "source": [
    "### Try out model on the real data!"
   ]
  },
  {
   "cell_type": "code",
   "execution_count": 155,
   "metadata": {},
   "outputs": [],
   "source": [
    "from helpers import *\n",
    "%run helpers.py"
   ]
  },
  {
   "cell_type": "code",
   "execution_count": 166,
   "metadata": {},
   "outputs": [
    {
     "data": {
      "text/plain": [
       "((12, 128, 128, 1), (12,))"
      ]
     },
     "execution_count": 166,
     "metadata": {},
     "output_type": "execute_result"
    }
   ],
   "source": [
    "# Load raw images\n",
    "real_cups, real_cup_size = import_images(path='test_samples/cups/')\n",
    "real_boxes, real_box_size = import_images(path='test_samples/boxes/')\n",
    "# Reshape\n",
    "real_cups = resize_and_flatten(real_cups, padding=False, max_size=real_cup_size, output_size=128, flatten=False)\n",
    "real_boxes = resize_and_flatten(real_boxes, padding=False, max_size=real_box_size, output_size=128, flatten=False)\n",
    "# Scale\n",
    "real_cups = real_cups / 255\n",
    "real_boxes = real_boxes / 255\n",
    "# Shape for KERAS\n",
    "a, b, c = real_cups.shape\n",
    "real_cups = real_cups.reshape((a,b,c,1))\n",
    "a, b, c = real_boxes.shape\n",
    "real_boxes = real_boxes.reshape((a,b,c,1))\n",
    "# Targets cups, boxes = [0, 1]\n",
    "cup_target = np.zeros((6,))\n",
    "box_target = np.zeros((6,))\n",
    "\n",
    "# Combine the data\n",
    "data = np.concatenate((real_cups, real_boxes))\n",
    "targets = np.concatenate((cup_target, box_target))\n",
    "\n",
    "data.shape, targets.shape"
   ]
  },
  {
   "cell_type": "code",
   "execution_count": 168,
   "metadata": {},
   "outputs": [
    {
     "name": "stdout",
     "output_type": "stream",
     "text": [
      "Test accuracy: 0.5\n"
     ]
    }
   ],
   "source": [
    "score = cnn_model.evaluate(data, targets, verbose=0)\n",
    "#print(\"Test loss:\", score[0])\n",
    "print(\"Test accuracy:\", score[1])"
   ]
  },
  {
   "cell_type": "code",
   "execution_count": null,
   "metadata": {},
   "outputs": [],
   "source": []
  }
 ],
 "metadata": {
  "interpreter": {
   "hash": "becc7bcbb7a4199260879ba1a9630da63d2f52d521041d6c190802a5dc80d452"
  },
  "kernelspec": {
   "display_name": "Python 3.8.8 64-bit",
   "language": "python",
   "name": "python3"
  },
  "language_info": {
   "codemirror_mode": {
    "name": "ipython",
    "version": 3
   },
   "file_extension": ".py",
   "mimetype": "text/x-python",
   "name": "python",
   "nbconvert_exporter": "python",
   "pygments_lexer": "ipython3",
   "version": "3.8.8"
  },
  "orig_nbformat": 4
 },
 "nbformat": 4,
 "nbformat_minor": 2
}
