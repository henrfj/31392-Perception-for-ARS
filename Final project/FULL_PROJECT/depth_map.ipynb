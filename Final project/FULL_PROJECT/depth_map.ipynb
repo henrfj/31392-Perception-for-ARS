{
 "cells": [
  {
   "cell_type": "code",
   "execution_count": null,
   "metadata": {},
   "outputs": [],
   "source": [
    "def compute_depth(centroidx, centroidy, calibrated_left, calibrated_right):\n",
    "    \"\"\"\n",
    "    Computes the depth of the object in the camera frame.\n",
    "    :param data: centroidx, centroidy, calibrated_left, calibrated_right\n",
    "    :return: z (depth)\n",
    "    \"\"\""
   ]
  }
 ],
 "metadata": {
  "language_info": {
   "name": "python"
  },
  "orig_nbformat": 4
 },
 "nbformat": 4,
 "nbformat_minor": 2
}
