{
 "cells": [
  {
   "cell_type": "code",
   "execution_count": null,
   "metadata": {},
   "outputs": [],
   "source": [
    "def track(calibrated_left):\n",
    "    \"\"\"\n",
    "    This function will track the obejct in the image\n",
    "    :param: calibrated_left\n",
    "    :return: roi (the frame with text and box visible), centroidx, centroidy, tracked_object (for classification purposes)\n",
    "    \"\"\""
   ]
  }
 ],
 "metadata": {
  "language_info": {
   "name": "python"
  },
  "orig_nbformat": 4
 },
 "nbformat": 4,
 "nbformat_minor": 2
}
