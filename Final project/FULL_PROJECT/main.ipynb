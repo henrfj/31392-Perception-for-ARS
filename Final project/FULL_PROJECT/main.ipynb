{
 "cells": [
  {
   "cell_type": "markdown",
   "metadata": {},
   "source": [
    "# FULL PROJECT\n",
    "Here we will call all the other programs:\n",
    "\n",
    "Pseudocode:\n",
    "```Python\n",
    "from calibration import calibrate #Lukas\n",
    "from depth_map import compute_depth #lukas\n",
    "from tracking import track (or with kalman) #hassan, henrik\n",
    "from neural_net import classify  #rebeca, henrik\n",
    "\n",
    "path_left = \"path_to_all_images_original_frames_left\"\n",
    "path_right = \"path_to_all_images_original_frames_right\"\n",
    "\n",
    "for i in all_images:\n",
    "    frame_left              = load_one_frame(path_left, i)\n",
    "    frame_right             = load_one_frame(path_right, i)\n",
    "\n",
    "    calibrated_left, calibrated_right           = calibrate(frame_left, frame_right) #and rectification\n",
    "    roi, centroidx, centroidy, tracked_object   = track(calibrated_left)\n",
    "    z                       = compute_depth(centroidx, centroidy, calibrated_left, calibrated_right)\n",
    "    label                   = classify(tracked_object)\n",
    "\n",
    "\n",
    "    #display images\n",
    "    cv2.addText(roi, z)\n",
    "    cv2.addText(roi, label)\n",
    "    cv2.imshow(roi)\n",
    "\n",
    "    if \"q\" pressed: cv2.DestroyAllWindows()\n",
    "\n",
    "    buffer = add_image_to_buffer()\n",
    "\n",
    "create_video(buffer)\n",
    "print(\"We are done :)\")\n",
    "    \n",
    "\n",
    "\n",
    "```"
   ]
  },
  {
   "cell_type": "code",
   "execution_count": null,
   "metadata": {},
   "outputs": [],
   "source": []
  }
 ],
 "metadata": {
  "interpreter": {
   "hash": "d9a4ba7a39ad5692da286452aea182a2f639774b342ad6371c4f013f8b98072d"
  },
  "kernelspec": {
   "display_name": "Python 3.10.4 64-bit",
   "language": "python",
   "name": "python3"
  },
  "language_info": {
   "name": "python",
   "version": "3.10.4"
  },
  "orig_nbformat": 4
 },
 "nbformat": 4,
 "nbformat_minor": 2
}
