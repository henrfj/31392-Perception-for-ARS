{
 "cells": [
  {
   "cell_type": "markdown",
   "metadata": {},
   "source": [
    "# FULL PROJECT\n",
    "Here we will call all the other programs:\n",
    "\n",
    "The path will be in .gitignore it will be 3 folders in directory of this file:\n",
    "\n",
    "\n",
    "\"conveyor_sample_without\" is sample without occlusiosn, can be downloaded \n",
    "<a href=\"https://dtudk-my.sharepoint.com/personal/evanb_dtu_dk/_layouts/15/onedrive.aspx?id=%2Fpersonal%2Fevanb%5Fdtu%5Fdk%2FDocuments%2FCourses%2F31392%2FFinal%5FProject%2Fsample%5FStereo%5Fconveyor%5Fwithout%5Focclusions%2Erar&parent=%2Fpersonal%2Fevanb%5Fdtu%5Fdk%2FDocuments%2FCourses%2F31392%2FFinal%5FProject&ga=1\">Here</a>\n",
    "\n",
    "\"conveyor_full_without\" The whole conveyor belt dataset without occlusions downloaded <a href=\"https://dtudk-my.sharepoint.com/personal/evanb_dtu_dk/_layouts/15/onedrive.aspx?id=%2Fpersonal%2Fevanb%5Fdtu%5Fdk%2FDocuments%2FCourses%2F31392%2FFinal%5FProject%2FStereo%5Fconveyor%5Fwithout%5Focclusions%2Erar&parent=%2Fpersonal%2Fevanb%5Fdtu%5Fdk%2FDocuments%2FCourses%2F31392%2FFinal%5FProject&ga=1\">Here</a>\n",
    "\n",
    "\"conveyor_full_with\" Dataset conveyor with occlusions can be downloaded <a href=\"https://dtudk-my.sharepoint.com/personal/evanb_dtu_dk/_layouts/15/onedrive.aspx?id=%2Fpersonal%2Fevanb%5Fdtu%5Fdk%2FDocuments%2FCourses%2F31392%2FFinal%5FProject%2FStereo%5Fconveyor%5Fwith%5Focclusions%2Erar&parent=%2Fpersonal%2Fevanb%5Fdtu%5Fdk%2FDocuments%2FCourses%2F31392%2FFinal%5FProject&ga=1\">Here</a>\n",
    "\n",
    "Pseudocode:\n",
    "```Python\n",
    "from calibration import calibrate #Lukas\n",
    "from depth_map import compute_depth #lukas\n",
    "from tracking import track (or with kalman) #hassan, henrik, also use Kalman here\n",
    "from neural_net import classify, initialize_network  #rebeca, henrik\n",
    "\n",
    "initialize_ANN_model();\n",
    "\n",
    "path_left = \"path_to_all_images_original_frames_left\"\n",
    "path_right = \"path_to_all_images_original_frames_right\"\n",
    "\n",
    "for i in all_images:\n",
    "    frame_left              = load_one_frame(path_left, i)\n",
    "    frame_right             = load_one_frame(path_right, i)\n",
    "\n",
    "    calibrated_left, calibrated_right           = calibrate(frame_left, frame_right) #and rectification\n",
    "    roi, centroidx, centroidy, tracked_object   = track(calibrated_left)\n",
    "    z                       = compute_depth(centroidx, centroidy, calibrated_left, calibrated_right)\n",
    "    label                   = classify(tracked_object)\n",
    "\n",
    "\n",
    "    #display images\n",
    "    cv2.addText(roi, z)\n",
    "    cv2.addText(roi, label)\n",
    "    cv2.imshow(roi)\n",
    "\n",
    "    if \"q\" pressed: cv2.DestroyAllWindows()\n",
    "\n",
    "    buffer = add_image_to_buffer()\n",
    "\n",
    "create_video(buffer)\n",
    "print(\"We are done :)\")\n",
    "    \n",
    "\n",
    "\n",
    "```"
   ]
  },
  {
   "cell_type": "markdown",
   "metadata": {},
   "source": [
    "### TODO\n",
    "- include only necessary imports\n",
    "- optimize each function\n",
    "- create a video\n",
    "- write a report\n",
    "- if time, optimize compiler for this code\n"
   ]
  },
  {
   "cell_type": "markdown",
   "metadata": {},
   "source": [
    "### CODE"
   ]
  },
  {
   "cell_type": "code",
   "execution_count": 7,
   "metadata": {},
   "outputs": [
    {
     "name": "stdout",
     "output_type": "stream",
     "text": [
      "Hi from initialize_network\n"
     ]
    },
    {
     "ename": "TypeError",
     "evalue": "'int' object is not iterable",
     "output_type": "error",
     "traceback": [
      "\u001b[1;31m---------------------------------------------------------------------------\u001b[0m",
      "\u001b[1;31mTypeError\u001b[0m                                 Traceback (most recent call last)",
      "\u001b[1;32md:\\PROGRAMY\\Onedrive_CTU\\OneDrive - České vysoké učení technické v Praze\\6. SEMESTR DTU\\ARO\\CODE_EXERCISES\\Henrik\\31392-Perception-for-ARS\\31392-Perception-for-ARS\\Final project\\FULL_PROJECT\\main.ipynb Cell 4'\u001b[0m in \u001b[0;36m<cell line: 23>\u001b[1;34m()\u001b[0m\n\u001b[0;32m     <a href='vscode-notebook-cell:/d%3A/PROGRAMY/Onedrive_CTU/OneDrive%20-%20%C4%8Cesk%C3%A9%20vysok%C3%A9%20u%C4%8Den%C3%AD%20technick%C3%A9%20v%20Praze/6.%20SEMESTR%20DTU/ARO/CODE_EXERCISES/Henrik/31392-Perception-for-ARS/31392-Perception-for-ARS/Final%20project/FULL_PROJECT/main.ipynb#ch0000000?line=19'>20</a>\u001b[0m images_right \u001b[39m=\u001b[39m glob\u001b[39m.\u001b[39mglob(path_right)\n\u001b[0;32m     <a href='vscode-notebook-cell:/d%3A/PROGRAMY/Onedrive_CTU/OneDrive%20-%20%C4%8Cesk%C3%A9%20vysok%C3%A9%20u%C4%8Den%C3%AD%20technick%C3%A9%20v%20Praze/6.%20SEMESTR%20DTU/ARO/CODE_EXERCISES/Henrik/31392-Perception-for-ARS/31392-Perception-for-ARS/Final%20project/FULL_PROJECT/main.ipynb#ch0000000?line=21'>22</a>\u001b[0m no_of_frames \u001b[39m=\u001b[39m \u001b[39mlen\u001b[39m(images_left)\n\u001b[1;32m---> <a href='vscode-notebook-cell:/d%3A/PROGRAMY/Onedrive_CTU/OneDrive%20-%20%C4%8Cesk%C3%A9%20vysok%C3%A9%20u%C4%8Den%C3%AD%20technick%C3%A9%20v%20Praze/6.%20SEMESTR%20DTU/ARO/CODE_EXERCISES/Henrik/31392-Perception-for-ARS/31392-Perception-for-ARS/Final%20project/FULL_PROJECT/main.ipynb#ch0000000?line=22'>23</a>\u001b[0m \u001b[39mfor\u001b[39;00m i \u001b[39min\u001b[39;00m no_of_frames:\n\u001b[0;32m     <a href='vscode-notebook-cell:/d%3A/PROGRAMY/Onedrive_CTU/OneDrive%20-%20%C4%8Cesk%C3%A9%20vysok%C3%A9%20u%C4%8Den%C3%AD%20technick%C3%A9%20v%20Praze/6.%20SEMESTR%20DTU/ARO/CODE_EXERCISES/Henrik/31392-Perception-for-ARS/31392-Perception-for-ARS/Final%20project/FULL_PROJECT/main.ipynb#ch0000000?line=23'>24</a>\u001b[0m     frame_left \u001b[39m=\u001b[39m cv2\u001b[39m.\u001b[39mimread(images_left[i])\n\u001b[0;32m     <a href='vscode-notebook-cell:/d%3A/PROGRAMY/Onedrive_CTU/OneDrive%20-%20%C4%8Cesk%C3%A9%20vysok%C3%A9%20u%C4%8Den%C3%AD%20technick%C3%A9%20v%20Praze/6.%20SEMESTR%20DTU/ARO/CODE_EXERCISES/Henrik/31392-Perception-for-ARS/31392-Perception-for-ARS/Final%20project/FULL_PROJECT/main.ipynb#ch0000000?line=24'>25</a>\u001b[0m     frame_right \u001b[39m=\u001b[39m cv2\u001b[39m.\u001b[39mimread(images_right[i])\n",
      "\u001b[1;31mTypeError\u001b[0m: 'int' object is not iterable"
     ]
    }
   ],
   "source": [
    "import glob\n",
    "import cv2\n",
    "#!pip install import-ipynb #install this before first run\n",
    "import import_ipynb\n",
    "#note for myself: run with Python3.10 (not 64bit)\n",
    "\n",
    "from calibration import calibrate\n",
    "from calibration import calibrate #Lukas\n",
    "from depth_map import compute_depth #lukas\n",
    "from tracking import track #hassan, henrik, also use Kalman here\n",
    "from neural_net import classify  #rebeca, henrik\n",
    "from neural_net import initialize_network\n",
    "\n",
    "initialize_network()\n",
    "\n",
    "path_left = \"conveyor_full_without/left/*.png\"\n",
    "path_right = \"conveyor_full_without/right/*.png\"\n",
    "\n",
    "images_left = glob.glob(path_left)\n",
    "images_right = glob.glob(path_right)\n",
    "\n",
    "no_of_frames = len(images_left)\n",
    "for i in no_of_frames:\n",
    "    frame_left = cv2.imread(images_left[i])\n",
    "    frame_right = cv2.imread(images_right[i])\n",
    "\n",
    "    calibrated_left, calibrated_right           = calibrate(frame_left, frame_right) #and rectification\n",
    "    roi, centroidx, centroidy, tracked_object   = track(calibrated_left)\n",
    "    z                       = compute_depth(centroidx, centroidy, calibrated_left, calibrated_right)\n",
    "    label                   = classify(tracked_object)\n",
    "\n",
    "\n",
    "    #display images TODO\n",
    "#     cv2.addText(roi, z)\n",
    "#     cv2.addText(roi, label)\n",
    "#     cv2.imshow(roi)\n",
    "\n",
    "#     if \"q\" pressed: cv2.DestroyAllWindows()\n",
    "\n",
    "#     buffer = add_image_to_buffer()\n",
    "\n",
    "# create_video(buffer)\n",
    "print(\"We are done :)\")\n",
    "\n",
    "\n",
    "\n"
   ]
  }
 ],
 "metadata": {
  "interpreter": {
   "hash": "d9a4ba7a39ad5692da286452aea182a2f639774b342ad6371c4f013f8b98072d"
  },
  "kernelspec": {
   "display_name": "Python 3.10.4 64-bit",
   "language": "python",
   "name": "python3"
  },
  "language_info": {
   "codemirror_mode": {
    "name": "ipython",
    "version": 3
   },
   "file_extension": ".py",
   "mimetype": "text/x-python",
   "name": "python",
   "nbconvert_exporter": "python",
   "pygments_lexer": "ipython3",
   "version": "3.10.4"
  },
  "orig_nbformat": 4
 },
 "nbformat": 4,
 "nbformat_minor": 2
}
