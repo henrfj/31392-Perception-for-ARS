{
 "cells": [
  {
   "cell_type": "code",
   "execution_count": null,
   "metadata": {},
   "outputs": [],
   "source": [
    "def calibrate(frame_left, frame_right):\n",
    "    \"\"\"\n",
    "    Calibrates the data\n",
    "    :param data: frame left, frame right\n",
    "    :return: calibrated_left, calibrated_right\n",
    "    \"\"\""
   ]
  }
 ],
 "metadata": {
  "language_info": {
   "name": "python"
  },
  "orig_nbformat": 4
 },
 "nbformat": 4,
 "nbformat_minor": 2
}
