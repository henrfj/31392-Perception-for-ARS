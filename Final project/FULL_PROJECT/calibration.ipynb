{
 "cells": [
  {
   "cell_type": "code",
   "execution_count": null,
   "metadata": {},
   "outputs": [],
   "source": [
    "def calibrate(img_left, img_right):\n",
    "    \"\"\"\n",
    "    Calibrates the data\n",
    "    :param data: frame left, frame right\n",
    "    :return: calibrated_left, calibrated_right\n",
    "    \"\"\"\n",
    "\n",
    "    # CALIBRATED MATRICESS\n",
    "    K_left = np.array([[705.12855386,   0,         621.0422932 ],\n",
    "    [  0 ,        705.05638672, 370.57066306],\n",
    "    [  0  ,         0      ,     1  ,      ]])\n",
    "    K_right = np.array([[702.64805575  , 0     ,    649.52345869],\n",
    "    [  0       ,  702.90821064, 373.12894423],\n",
    "    [  0      ,     0       ,    1        ]])\n",
    "    dist_left = np.array([[-3.29479779e-01 , 1.41779399e-01 ,-1.15869227e-04 , 2.53564192e-04\n",
    "    -3.10092442e-02]])\n",
    "    dist_right = np.array([[-3.25580130e-01 , 1.39151531e-01 ,-2.55232895e-04 , 4.20204047e-04\n",
    "    -3.19659396e-02]])\n",
    "    R = np.array([[ 0.99991381, -0.00530365, -0.01201018],\n",
    "    [ 0.00527804 , 0.99998373, -0.00216356],\n",
    "    [ 0.01202145 , 0.00209999 , 0.99992553]])\n",
    "    T = np.array([[-1.19993826e+02],\n",
    "    [-2.56957545e-01],\n",
    "    [-5.18613288e-02]])\n",
    "    F = np.array([[-6.02253356e-09 ,1.09798538e-07 ,-4.24691775e-04],\n",
    "    [ 2.97380893e-06 , 5.39499206e-07 , 1.78876466e-01],\n",
    "    [-1.67147433e-03 ,-1.80656239e-01 , 1.00000000e+00]])\n",
    "\n",
    "    # Rectify images\n",
    "    (h,w,_) = img_left.shape\n",
    "    R_left, R_right, P_left, P_right, _, roi_left, roi_right = cv2.stereoRectify(K_left, dist_left, K_right, dist_right, (w,h), R,T, alpha=0)\n",
    "    leftMapX, leftMapY = cv2.initUndistortRectifyMap(K_left, dist_left, R_left, P_left, (w,h), cv2.CV_32FC1)\n",
    "    rightMapX, rightMapY = cv2.initUndistortRectifyMap(K_right, dist_right, R_right, P_right, (w,h), cv2.CV_32FC1)\n",
    "    left_rectified = np.zeros(img_left.shape[:2], np.uint8)\n",
    "    right_rectified = np.zeros(img_right.shape[:2], np.uint8)\n",
    "    left_rectified = cv2.remap(img_left, leftMapX, leftMapY, cv2.INTER_LINEAR, left_rectified, cv2.BORDER_CONSTANT)\n",
    "    right_rectified = cv2.remap(img_right, rightMapX, rightMapY, cv2.INTER_LINEAR, right_rectified, cv2.BORDER_CONSTANT)\n",
    "\n",
    "    return left_rectified, right_rectified\n"
   ]
  }
 ],
 "metadata": {
  "language_info": {
   "name": "python"
  },
  "orig_nbformat": 4
 },
 "nbformat": 4,
 "nbformat_minor": 2
}
