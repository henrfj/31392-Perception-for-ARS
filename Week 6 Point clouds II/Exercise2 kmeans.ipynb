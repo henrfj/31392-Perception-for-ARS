{
 "cells": [
  {
   "cell_type": "markdown",
   "metadata": {},
   "source": [
    "# Exercise 2\n",
    "Today we are going to continue work on pointclouds.\n",
    "We will work on trying to cluster pointclouds to be able to segment them.\n",
    "    \n",
    "If you do not have sklearn installed make sure to **pip install scikit-learn**"
   ]
  },
  {
   "cell_type": "code",
   "execution_count": 1,
   "metadata": {},
   "outputs": [
    {
     "name": "stdout",
     "output_type": "stream",
     "text": [
      "Jupyter environment detected. Enabling Open3D WebVisualizer.\n",
      "[Open3D INFO] WebRTC GUI backend enabled.\n",
      "[Open3D INFO] WebRTCWindowSystem: HTTP handshake server disabled.\n"
     ]
    }
   ],
   "source": [
    "import numpy as np\n",
    "import open3d as o3d\n",
    "import copy\n",
    "import matplotlib.pyplot as plt\n",
    "from sklearn import metrics\n",
    "from sklearn.cluster import KMeans, k_means"
   ]
  },
  {
   "cell_type": "code",
   "execution_count": 2,
   "metadata": {},
   "outputs": [],
   "source": [
    "def draw_labels_on_model(pcl,labels):\n",
    "    cmap = plt.get_cmap(\"tab20\")\n",
    "    pcl_temp = copy.deepcopy(pcl)\n",
    "    max_label = labels.max()\n",
    "    print(\"%s has %d clusters\" % (pcl_name, max_label + 1))\n",
    "    colors = cmap(labels / (max_label if max_label > 0 else 1))\n",
    "    colors[labels < 0] = 0\n",
    "    pcl_temp.colors = o3d.utility.Vector3dVector(colors[:, :3])\n",
    "    o3d.visualization.draw_geometries([pcl_temp])\n",
    "\n"
   ]
  },
  {
   "cell_type": "markdown",
   "metadata": {},
   "source": [
    "## On a cube.\n",
    "We createa a point cloud using open3d.\n",
    "Our goal is to segment each side using k means."
   ]
  },
  {
   "cell_type": "code",
   "execution_count": 3,
   "metadata": {},
   "outputs": [
    {
     "name": "stdout",
     "output_type": "stream",
     "text": [
      "Cube has 10000 points\n"
     ]
    }
   ],
   "source": [
    "pcl_name = 'Cube'\n",
    "density = 1e4 # density of sample points to create\n",
    "pcl = o3d.geometry.TriangleMesh.create_box().sample_points_uniformly(int(density))\n",
    "eps = 0.4\n",
    "print(\"%s has %d points\" % (pcl_name, np.asarray(pcl.points).shape[0]))\n",
    "o3d.visualization.draw_geometries([pcl])"
   ]
  },
  {
   "cell_type": "markdown",
   "metadata": {},
   "source": [
    "If we just use Kmeans out of the box with the pointcloud we will get the following\n",
    "\n",
    "\n",
    "Note that pressing plus and minus in the viewer will increase/decrease the size of the points in the viewer"
   ]
  },
  {
   "cell_type": "code",
   "execution_count": 4,
   "metadata": {},
   "outputs": [
    {
     "name": "stdout",
     "output_type": "stream",
     "text": [
      "Cube has 6 clusters\n",
      "[Open3D WARNING] GLFW Error: WGL: Failed to make context current: Forespurt transformeringsoperasjon er ikke støttet. \n",
      "[Open3D WARNING] GLFW Error: WGL: Failed to make context current: Ugyldig referanse. \n"
     ]
    }
   ],
   "source": [
    "km = KMeans(n_clusters=6, init='random',\n",
    "            n_init=10, max_iter=300, tol=1e-04, random_state=0)\n",
    "\n",
    "# Get the points from the pointcloud as nparray\n",
    "xyz = np.asarray(pcl.points)\n",
    "labels = km.fit_predict(xyz)\n",
    "draw_labels_on_model(pcl, labels)"
   ]
  },
  {
   "cell_type": "markdown",
   "metadata": {},
   "source": [
    "## Exercises\n",
    "\n",
    "### A) K means continued.\n",
    "\n",
    "Combine the point cloud points (xyz) with the normals and do k-means.\n",
    "As we can see we got 6 clusters but they do not span a side.\n",
    "\n",
    "We try again but this time we instead use the normals of the cube.\n",
    "The normals for each plane should be parralell with the other normals from said plane.\n",
    "\n",
    "**NB** Using only normals wont work either, as two and two sides have parallell normals. Combine with the xyzs"
   ]
  },
  {
   "cell_type": "code",
   "execution_count": 5,
   "metadata": {},
   "outputs": [],
   "source": [
    "#############\n",
    "## Normals ##\n",
    "#############\n",
    "\n",
    "pcl.estimate_normals(search_param=o3d.geometry.KDTreeSearchParamHybrid(radius=0.1, max_nn=30))\n",
    "normals = np.asarray(pcl.normals)"
   ]
  },
  {
   "cell_type": "code",
   "execution_count": 6,
   "metadata": {},
   "outputs": [
    {
     "data": {
      "text/plain": [
       "(10000, 6)"
      ]
     },
     "execution_count": 6,
     "metadata": {},
     "output_type": "execute_result"
    }
   ],
   "source": [
    "#############\n",
    "## Combine ##\n",
    "#############\n",
    "\n",
    "xyz_n = np.hstack((xyz, normals))\n",
    "xyz_n.shape"
   ]
  },
  {
   "cell_type": "code",
   "execution_count": 7,
   "metadata": {},
   "outputs": [
    {
     "name": "stdout",
     "output_type": "stream",
     "text": [
      "Cube has 6 clusters\n"
     ]
    }
   ],
   "source": [
    "labels = km.fit_predict(xyz_n)\n",
    "draw_labels_on_model(pcl, labels)"
   ]
  },
  {
   "cell_type": "markdown",
   "metadata": {},
   "source": [
    "### B) \n",
    "Try weighting either the points or normals by scaling them by some factor, can segment each of the faces of the cube?"
   ]
  },
  {
   "cell_type": "code",
   "execution_count": 8,
   "metadata": {},
   "outputs": [
    {
     "name": "stdout",
     "output_type": "stream",
     "text": [
      "Cube has 6 clusters\n"
     ]
    }
   ],
   "source": [
    "xyz_n_scaled = np.hstack((xyz*2, normals))\n",
    "labels = km.fit_predict(xyz_n_scaled)\n",
    "draw_labels_on_model(pcl, labels)"
   ]
  },
  {
   "cell_type": "markdown",
   "metadata": {},
   "source": [
    "### C)\n",
    "Try to cluster all the different shapes using k means.\n"
   ]
  },
  {
   "cell_type": "code",
   "execution_count": 9,
   "metadata": {},
   "outputs": [],
   "source": [
    "d = 4\n",
    "mesh = o3d.geometry.TriangleMesh.create_tetrahedron().translate((-d, 0, 0))\n",
    "mesh += o3d.geometry.TriangleMesh.create_octahedron().translate((0, 0, 0))\n",
    "mesh += o3d.geometry.TriangleMesh.create_icosahedron().translate((d, 0, 0))\n",
    "mesh += o3d.geometry.TriangleMesh.create_torus().translate((-d, -d, 0))\n",
    "mesh += o3d.geometry.TriangleMesh.create_mobius(twists=1).translate(\n",
    "    (0, -d, 0))\n",
    "mesh += o3d.geometry.TriangleMesh.create_mobius(twists=2).translate(\n",
    "    (d, -d, 0))\n",
    "mesh = mesh.sample_points_uniformly(int(1e5), 0.5)\n",
    "o3d.visualization.draw_geometries([mesh])"
   ]
  },
  {
   "cell_type": "code",
   "execution_count": 30,
   "metadata": {},
   "outputs": [
    {
     "name": "stdout",
     "output_type": "stream",
     "text": [
      "Cube has 6 clusters\n"
     ]
    }
   ],
   "source": [
    "km2 = KMeans(n_clusters=6, init='random',\n",
    "            n_init=10, max_iter=300, tol=1e-04, random_state=0)\n",
    "\n",
    "# Get the points from the pointcloud as nparray\n",
    "mesh_xyz = np.asarray(mesh.points)\n",
    "labels = km2.fit_predict(mesh_xyz)\n",
    "draw_labels_on_model(mesh, labels)"
   ]
  },
  {
   "cell_type": "code",
   "execution_count": 31,
   "metadata": {},
   "outputs": [
    {
     "data": {
      "text/plain": [
       "array([1, 1, 1, ..., 4, 4, 4])"
      ]
     },
     "execution_count": 31,
     "metadata": {},
     "output_type": "execute_result"
    }
   ],
   "source": [
    "labels"
   ]
  },
  {
   "cell_type": "markdown",
   "metadata": {},
   "source": [
    "\n",
    "### D)\n",
    "Now try with the pointcloud in \"pointclouds/fragment.ply\"\n",
    "Are you able to cluster the pointcloud?\n",
    "\n",
    "What features here would it make sense to cluster?\n",
    "- fpfh features?\n",
    "- xyz\n",
    "- normals \n",
    "- colors\n",
    "\n",
    "Are you able to get clusters that make sense? Why?\n"
   ]
  },
  {
   "cell_type": "code",
   "execution_count": 11,
   "metadata": {},
   "outputs": [],
   "source": [
    "pcl2 = o3d.io.read_point_cloud(\"TestData/fragment.ply\")\n",
    "o3d.visualization.draw_geometries([pcl2])"
   ]
  },
  {
   "cell_type": "code",
   "execution_count": 12,
   "metadata": {},
   "outputs": [],
   "source": [
    "\n",
    "# Get the points from the pointcloud as nparray\n",
    "frag_xyz = np.asarray(pcl2.points)\n",
    "frag_c = np.asarray(pcl2.colors)\n",
    "frag_xyz_c = np.hstack((frag_xyz, frag_c))\n",
    "\n",
    "# Estimate and extract normal vectors\n",
    "pcl2.estimate_normals(search_param=o3d.geometry.KDTreeSearchParamHybrid(radius=0.1, max_nn=30))\n",
    "normals_2 = np.asarray(pcl2.normals)\n",
    "frag_xyz_n = np.hstack((frag_xyz, normals_2))\n",
    "frag_xyz_n_c = np.hstack((frag_xyz_n, frag_c))"
   ]
  },
  {
   "cell_type": "code",
   "execution_count": 13,
   "metadata": {},
   "outputs": [
    {
     "name": "stderr",
     "output_type": "stream",
     "text": [
      "C:\\Users\\henri\\AppData\\Local\\Temp\\ipykernel_20244\\3044577194.py:28: RuntimeWarning: invalid value encountered in true_divide\n",
      "  s = deltac / maxc\n"
     ]
    }
   ],
   "source": [
    "#frag_hsv = plt.colors.rgb_to_hsv(frag_c)\n",
    "def rgb_to_hsv(rgb):\n",
    "    \"\"\"\n",
    "    >>> from colorsys import rgb_to_hsv as rgb_to_hsv_single\n",
    "    >>> 'h={:.2f} s={:.2f} v={:.2f}'.format(*rgb_to_hsv_single(50, 120, 239))\n",
    "    'h=0.60 s=0.79 v=239.00'\n",
    "    >>> 'h={:.2f} s={:.2f} v={:.2f}'.format(*rgb_to_hsv_single(163, 200, 130))\n",
    "    'h=0.25 s=0.35 v=200.00'\n",
    "    >>> np.set_printoptions(2)\n",
    "    >>> rgb_to_hsv(np.array([[[50, 120, 239], [163, 200, 130]]]))\n",
    "    array([[[   0.6 ,    0.79,  239.  ],\n",
    "            [   0.25,    0.35,  200.  ]]])\n",
    "    >>> 'h={:.2f} s={:.2f} v={:.2f}'.format(*rgb_to_hsv_single(100, 100, 100))\n",
    "    'h=0.00 s=0.00 v=100.00'\n",
    "    >>> rgb_to_hsv(np.array([[50, 120, 239], [100, 100, 100]]))\n",
    "    array([[   0.6 ,    0.79,  239.  ],\n",
    "           [   0.  ,    0.  ,  100.  ]])\n",
    "    \"\"\"\n",
    "    input_shape = rgb.shape\n",
    "    rgb = rgb.reshape(-1, 3)\n",
    "    r, g, b = rgb[:, 0], rgb[:, 1], rgb[:, 2]\n",
    "\n",
    "    maxc = np.maximum(np.maximum(r, g), b)\n",
    "    minc = np.minimum(np.minimum(r, g), b)\n",
    "    v = maxc\n",
    "\n",
    "    deltac = maxc - minc\n",
    "    s = deltac / maxc\n",
    "    deltac[deltac == 0] = 1  # to not divide by zero (those results in any way would be overridden in next lines)\n",
    "    rc = (maxc - r) / deltac\n",
    "    gc = (maxc - g) / deltac\n",
    "    bc = (maxc - b) / deltac\n",
    "\n",
    "    h = 4.0 + gc - rc\n",
    "    h[g == maxc] = 2.0 + rc[g == maxc] - bc[g == maxc]\n",
    "    h[r == maxc] = bc[r == maxc] - gc[r == maxc]\n",
    "    h[minc == maxc] = 0.0\n",
    "\n",
    "    h = (h / 6.0) % 1.0\n",
    "    res = np.dstack([h, s, v])\n",
    "    return res.reshape(input_shape)\n",
    "frag_hsv = rgb_to_hsv(frag_c)"
   ]
  },
  {
   "cell_type": "code",
   "execution_count": 14,
   "metadata": {},
   "outputs": [
    {
     "data": {
      "text/plain": [
       "array([[0.        ],\n",
       "       [0.        ],\n",
       "       [0.        ],\n",
       "       ...,\n",
       "       [0.05555556],\n",
       "       [0.0530303 ],\n",
       "       [0.0530303 ]])"
      ]
     },
     "execution_count": 14,
     "metadata": {},
     "output_type": "execute_result"
    }
   ],
   "source": [
    "frag_hsv[:,0].reshape(len(frag_hsv[:,0]), 1)"
   ]
  },
  {
   "cell_type": "code",
   "execution_count": 15,
   "metadata": {},
   "outputs": [
    {
     "name": "stdout",
     "output_type": "stream",
     "text": [
      "Cube has 3 clusters\n"
     ]
    }
   ],
   "source": [
    "################\n",
    "# Only normals #\n",
    "################\n",
    "km3 = KMeans(n_clusters=3, init='random',\n",
    "            n_init=10, max_iter=300, tol=1e-04, random_state=0)\n",
    "labels = km3.fit_predict(normals_2)\n",
    "draw_labels_on_model(pcl2, labels)"
   ]
  },
  {
   "cell_type": "code",
   "execution_count": 16,
   "metadata": {},
   "outputs": [
    {
     "name": "stdout",
     "output_type": "stream",
     "text": [
      "Cube has 10 clusters\n"
     ]
    }
   ],
   "source": [
    "############\n",
    "# Only xyz #\n",
    "############\n",
    "km3 = KMeans(n_clusters=10, init='random',\n",
    "            n_init=10, max_iter=300, tol=1e-04, random_state=0)\n",
    "labels = km3.fit_predict(frag_xyz)\n",
    "draw_labels_on_model(pcl2, labels)"
   ]
  },
  {
   "cell_type": "code",
   "execution_count": 17,
   "metadata": {},
   "outputs": [
    {
     "name": "stdout",
     "output_type": "stream",
     "text": [
      "Cube has 3 clusters\n"
     ]
    }
   ],
   "source": [
    "############\n",
    "# Only RGB #\n",
    "############\n",
    "km3 = KMeans(n_clusters=3, init='random',\n",
    "            n_init=10, max_iter=300, tol=1e-04, random_state=0)\n",
    "labels = km3.fit_predict(frag_c)\n",
    "draw_labels_on_model(pcl2, labels)"
   ]
  },
  {
   "cell_type": "code",
   "execution_count": 18,
   "metadata": {},
   "outputs": [
    {
     "name": "stdout",
     "output_type": "stream",
     "text": [
      "Cube has 2 clusters\n"
     ]
    }
   ],
   "source": [
    "############\n",
    "# Only HSV #\n",
    "############\n",
    "frag_h = frag_hsv[:,0]\n",
    "frag_s = frag_hsv[:,1] # Contains nans :I\n",
    "frag_v = frag_hsv[:,2]\n",
    "\n",
    "km3 = KMeans(n_clusters=2, init='random',\n",
    "            n_init=10, max_iter=300, tol=1e-04, random_state=0)\n",
    "labels = km3.fit_predict(frag_v.reshape(len(frag_v), 1))\n",
    "draw_labels_on_model(pcl2, labels)"
   ]
  },
  {
   "cell_type": "code",
   "execution_count": 19,
   "metadata": {},
   "outputs": [
    {
     "name": "stdout",
     "output_type": "stream",
     "text": [
      "Cube has 10 clusters\n"
     ]
    }
   ],
   "source": [
    "#################\n",
    "# Normals + xyz #\n",
    "#################\n",
    "km3 = KMeans(n_clusters=10, init='random',\n",
    "            n_init=10, max_iter=300, tol=1e-04, random_state=0)\n",
    "labels = km3.fit_predict(frag_xyz_n)\n",
    "draw_labels_on_model(pcl2, labels)"
   ]
  },
  {
   "cell_type": "code",
   "execution_count": 20,
   "metadata": {},
   "outputs": [
    {
     "name": "stdout",
     "output_type": "stream",
     "text": [
      "Cube has 12 clusters\n"
     ]
    }
   ],
   "source": [
    "############\n",
    "# All data #\n",
    "############\n",
    "frag_all = np.hstack((frag_xyz, frag_c, normals_2, frag_v.reshape(len(frag_v), 1)))\n",
    "km3 = KMeans(n_clusters=12, init='random',\n",
    "            n_init=10, max_iter=300, tol=1e-04, random_state=0)\n",
    "labels = km3.fit_predict(frag_all)\n",
    "draw_labels_on_model(pcl2, labels)"
   ]
  },
  {
   "cell_type": "code",
   "execution_count": 21,
   "metadata": {},
   "outputs": [
    {
     "name": "stdout",
     "output_type": "stream",
     "text": [
      "Cube has 12 clusters\n"
     ]
    }
   ],
   "source": [
    "###############\n",
    "# V + normals #\n",
    "###############\n",
    "frag_v_n = np.hstack((normals_2, frag_v.reshape(len(frag_v), 1)))\n",
    "km3 = KMeans(n_clusters=12, init='random',\n",
    "            n_init=10, max_iter=300, tol=1e-04, random_state=0)\n",
    "labels = km3.fit_predict(frag_v_n)\n",
    "draw_labels_on_model(pcl2, labels)"
   ]
  },
  {
   "cell_type": "code",
   "execution_count": 22,
   "metadata": {},
   "outputs": [
    {
     "name": "stdout",
     "output_type": "stream",
     "text": [
      "Cube has 12 clusters\n"
     ]
    }
   ],
   "source": [
    "###############\n",
    "# V + normals #\n",
    "###############\n",
    "frag_h_v = np.hstack((frag_h.reshape(len(frag_h), 1), frag_v.reshape(len(frag_v), 1)))\n",
    "km3 = KMeans(n_clusters=12, init='random',\n",
    "            n_init=10, max_iter=300, tol=1e-04, random_state=0)\n",
    "labels = km3.fit_predict(frag_h_v)\n",
    "draw_labels_on_model(pcl2, labels)"
   ]
  },
  {
   "cell_type": "code",
   "execution_count": 23,
   "metadata": {},
   "outputs": [
    {
     "name": "stdout",
     "output_type": "stream",
     "text": [
      "Cube has 12 clusters\n",
      "[Open3D WARNING] GLFW Error: WGL: Failed to make context current: Ugyldig referanse. \n"
     ]
    }
   ],
   "source": [
    "########################\n",
    "# Stack wrong order :D #\n",
    "########################\n",
    "frag_depth = np.vstack((frag_xyz, frag_c, normals_2))\n",
    "km3 = KMeans(n_clusters=12, init='random',\n",
    "            n_init=10, max_iter=300, tol=1e-04, random_state=0)\n",
    "labels = km3.fit_predict(frag_depth)\n",
    "draw_labels_on_model(pcl2, labels)"
   ]
  },
  {
   "cell_type": "markdown",
   "metadata": {},
   "source": [
    "\n",
    "### E)\n",
    "Use the built in cluster_dbscan algorithm.\n",
    "Tweak the parameters and see what you get out.\n",
    "\n",
    "Attempt on the combined figures and on \"fragment.ply\""
   ]
  },
  {
   "cell_type": "code",
   "execution_count": 24,
   "metadata": {},
   "outputs": [],
   "source": [
    "# We have \n",
    "#   - mesh: many figures\n",
    "#   - pcl: one box\n",
    "#   - pcl2: the livingroom"
   ]
  },
  {
   "cell_type": "code",
   "execution_count": 25,
   "metadata": {},
   "outputs": [
    {
     "name": "stdout",
     "output_type": "stream",
     "text": [
      "Cube has 1 clusters\n"
     ]
    }
   ],
   "source": [
    "#eps (float) – Density parameter that is used to find neighbouring points.\n",
    "eps = 0.2\n",
    "\n",
    "#min_points (int) – Minimum number of points to form a cluster.\n",
    "min_points = 10\n",
    "\n",
    "labels = np.array(pcl.cluster_dbscan(eps=eps, min_points=min_points, print_progress=True))\n",
    "draw_labels_on_model(pcl, labels)"
   ]
  },
  {
   "cell_type": "code",
   "execution_count": 26,
   "metadata": {},
   "outputs": [
    {
     "name": "stdout",
     "output_type": "stream",
     "text": [
      "Cube has 6 clusters\n"
     ]
    }
   ],
   "source": [
    "eps = 0.2\n",
    "min_points = 10\n",
    "\n",
    "labels = np.array(mesh.cluster_dbscan(eps=eps, min_points=min_points, print_progress=True))\n",
    "draw_labels_on_model(mesh, labels)"
   ]
  },
  {
   "cell_type": "markdown",
   "metadata": {},
   "source": [
    "**Livingroom**\n",
    "With DBScan if something is connected it will get clustered. Try to use other propterties than xyz and see what happens!"
   ]
  },
  {
   "cell_type": "code",
   "execution_count": 27,
   "metadata": {},
   "outputs": [
    {
     "name": "stdout",
     "output_type": "stream",
     "text": [
      "Cube has 10 clusters\n"
     ]
    }
   ],
   "source": [
    "eps = 0.02\n",
    "min_points = 10\n",
    "\n",
    "labels = np.array(pcl2.cluster_dbscan(eps=eps, min_points=min_points, print_progress=True))\n",
    "draw_labels_on_model(pcl2, labels)"
   ]
  },
  {
   "cell_type": "code",
   "execution_count": 28,
   "metadata": {},
   "outputs": [],
   "source": [
    "from sklearn.cluster import DBSCAN"
   ]
  },
  {
   "cell_type": "code",
   "execution_count": 29,
   "metadata": {},
   "outputs": [
    {
     "name": "stdout",
     "output_type": "stream",
     "text": [
      "Cube has 10 clusters\n"
     ]
    }
   ],
   "source": [
    "eps = 0.02\n",
    "min_points = 10\n",
    "\n",
    "clustering = DBSCAN(eps=eps, min_samples=min_points).fit(frag_xyz)\n",
    "labels = clustering.labels_\n",
    "draw_labels_on_model(pcl2, labels)"
   ]
  },
  {
   "cell_type": "code",
   "execution_count": null,
   "metadata": {},
   "outputs": [],
   "source": []
  }
 ],
 "metadata": {
  "kernelspec": {
   "display_name": "Python 3",
   "language": "python",
   "name": "python3"
  },
  "language_info": {
   "codemirror_mode": {
    "name": "ipython",
    "version": 3
   },
   "file_extension": ".py",
   "mimetype": "text/x-python",
   "name": "python",
   "nbconvert_exporter": "python",
   "pygments_lexer": "ipython3",
   "version": "3.8.8"
  },
  "toc": {
   "base_numbering": 1,
   "nav_menu": {},
   "number_sections": true,
   "sideBar": true,
   "skip_h1_title": false,
   "title_cell": "Table of Contents",
   "title_sidebar": "Contents",
   "toc_cell": false,
   "toc_position": {},
   "toc_section_display": true,
   "toc_window_display": false
  },
  "varInspector": {
   "cols": {
    "lenName": 16,
    "lenType": 16,
    "lenVar": 40
   },
   "kernels_config": {
    "python": {
     "delete_cmd_postfix": "",
     "delete_cmd_prefix": "del ",
     "library": "var_list.py",
     "varRefreshCmd": "print(var_dic_list())"
    },
    "r": {
     "delete_cmd_postfix": ") ",
     "delete_cmd_prefix": "rm(",
     "library": "var_list.r",
     "varRefreshCmd": "cat(var_dic_list()) "
    }
   },
   "types_to_exclude": [
    "module",
    "function",
    "builtin_function_or_method",
    "instance",
    "_Feature"
   ],
   "window_display": false
  }
 },
 "nbformat": 4,
 "nbformat_minor": 4
}
