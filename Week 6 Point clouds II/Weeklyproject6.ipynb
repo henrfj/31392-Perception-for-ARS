{
 "cells": [
  {
   "cell_type": "markdown",
   "metadata": {},
   "source": [
    "# Weekly project 6\n",
    "Today we will continue work from monday.\n",
    "We will follow the style of last week.\n",
    "\n",
    "Weekly project:\n",
    "- You will need to implement your own k-means algorithm. (So you are not allowed to use the one in *sklearn*\n",
    "- it should be able to cluster each of the different figures.\n",
    "- Extend your k-means so it finds the optimal amount of clusters.\n",
    "Challenge\n",
    "- Implement the mean shift clustering algorithm\n"
   ]
  },
  {
   "cell_type": "code",
   "execution_count": 71,
   "metadata": {},
   "outputs": [],
   "source": [
    "import numpy as np\n",
    "import open3d as o3d\n",
    "import copy\n",
    "import matplotlib.pyplot as plt\n",
    "#%matplotlib notebook\n",
    "\n",
    "def draw_labels_on_model(pcl, labels):\n",
    "    cmap = plt.get_cmap(\"tab20\")\n",
    "    pcl_temp = copy.deepcopy(pcl)\n",
    "    max_label = labels.max()\n",
    "    colors = cmap(labels / (max_label if max_label > 0 else 1))\n",
    "    colors[labels < 0] = 0\n",
    "    pcl_temp.colors = o3d.utility.Vector3dVector(colors[:, :3])\n",
    "    o3d.visualization.draw_geometries([pcl_temp])\n",
    "\n",
    "d = 4\n",
    "mesh = o3d.geometry.TriangleMesh.create_tetrahedron().translate((-d, 0, 0))\n",
    "mesh += o3d.geometry.TriangleMesh.create_octahedron().translate((0, 0, 0))\n",
    "mesh += o3d.geometry.TriangleMesh.create_icosahedron().translate((d, 0, 0))\n",
    "mesh += o3d.geometry.TriangleMesh.create_torus().translate((-d, -d, 0))\n",
    "mesh += o3d.geometry.TriangleMesh.create_mobius(twists=1).translate((0, -d, 0))\n",
    "mesh += o3d.geometry.TriangleMesh.create_mobius(twists=2).translate((d, -d, 0))\n",
    "\n",
    "## apply k means on this\n",
    "point_cloud_ez = mesh.sample_points_uniformly(int(1e3)) # Ez mode\n",
    "point_cloud_hard = mesh.sample_points_uniformly(int(1e5), 0.5) # Hard mode"
   ]
  },
  {
   "cell_type": "code",
   "execution_count": 73,
   "metadata": {},
   "outputs": [],
   "source": [
    "o3d.visualization.draw_geometries([point_cloud_ez])\n",
    "o3d.visualization.draw_geometries([point_cloud_hard])"
   ]
  },
  {
   "cell_type": "code",
   "execution_count": 21,
   "metadata": {},
   "outputs": [
    {
     "data": {
      "text/plain": [
       "(1000, 3)"
      ]
     },
     "execution_count": 21,
     "metadata": {},
     "output_type": "execute_result"
    }
   ],
   "source": [
    "points = np.asarray(point_cloud_ez.points)\n",
    "points.shape"
   ]
  },
  {
   "cell_type": "code",
   "execution_count": 123,
   "metadata": {},
   "outputs": [],
   "source": [
    "def k_mean(n_clusters, points, threshold=0.002, restarts=1):\n",
    "    '''\n",
    "    K -means, yeey.\n",
    "    '''\n",
    "    best_silhouette_score = 0\n",
    "    for r in range(restarts):\n",
    "        print(\"Restart no.\", r, end=\"\\t\")\n",
    "        # Step 1 choose random clusters\n",
    "        centeroids_i = np.random.randint(0, len(points), n_clusters)\n",
    "        centroids = points[centeroids_i]\n",
    "        biggest_change = threshold + 1\n",
    "        iterations = 0\n",
    "\n",
    "        while biggest_change > threshold:\n",
    "            assignments = np.zeros(shape=len(points))\n",
    "            # Step 2 Assagn each point to closest centroid\n",
    "            # TODO: KD trees\n",
    "            for i, p in enumerate(points):\n",
    "                closest_centroid = 0\n",
    "                closest_dist = float(\"inf\")\n",
    "                for j, c in enumerate(centroids):\n",
    "                    dist = euclidean_dist(p, c) # This is the time killer\n",
    "                    if dist < closest_dist:\n",
    "                        closest_centroid = j\n",
    "                        closest_dist = dist\n",
    "                assignments[i] = closest_centroid\n",
    "            \n",
    "            # Step 3 re-calculate the mean of each cluster\n",
    "            biggest_change = 0\n",
    "            for i in range(n_clusters):\n",
    "                old_centroid = centroids[i].copy()\n",
    "                centroids[i] = np.mean(points[np.where(assignments==i)[0]], axis=0)\n",
    "                change = euclidean_dist(old_centroid, centroids[i])\n",
    "                if change > biggest_change:\n",
    "                    biggest_change = change\n",
    "            \n",
    "            # Step 4 - repeat!\n",
    "            iterations += 1\n",
    "            \n",
    "\n",
    "        # Step 5: calculate solouette score, random restart\n",
    "        silhouette_score = float(\"inf\")\n",
    "        for i in range(n_clusters):\n",
    "            for j in range(n_clusters):\n",
    "                if i!=j:\n",
    "                    dist = euclidean_dist(centroids[i], centroids[j])\n",
    "                    if dist < silhouette_score:\n",
    "                        silhouette_score = dist\n",
    "\n",
    "        if silhouette_score > best_silhouette_score:\n",
    "            print(\"New best!\", end=\"\")\n",
    "            best_assignments = assignments.copy()\n",
    "            best_centroids = centroids.copy()\n",
    "            best_iterations = iterations\n",
    "            best_silhouette_score = silhouette_score\n",
    "        print(\"\")\n",
    "\n",
    "    return best_assignments, best_centroids, best_iterations\n",
    "\n",
    "\n",
    "def euclidean_dist(point1, point2):\n",
    "    return np.linalg.norm((point2-point1))"
   ]
  },
  {
   "cell_type": "code",
   "execution_count": 121,
   "metadata": {},
   "outputs": [
    {
     "name": "stdout",
     "output_type": "stream",
     "text": [
      "Restart no. 0\tNew best!\n",
      "Restart no. 1\t\n",
      "Restart no. 2\tNew best!\n",
      "Restart no. 3\t\n",
      "Restart no. 4\t\n",
      "Restart no. 5\t\n",
      "Restart no. 6\t\n",
      "Restart no. 7\t\n",
      "Restart no. 8\t\n",
      "Restart no. 9\t\n",
      "Restart no. 10\t\n",
      "Restart no. 11\t\n",
      "Restart no. 12\t\n",
      "Restart no. 13\t\n",
      "Restart no. 14\t\n"
     ]
    }
   ],
   "source": [
    "assignments, centroids, iterations = k_mean(6, points, threshold=0.002, restarts=15)"
   ]
  },
  {
   "cell_type": "code",
   "execution_count": 122,
   "metadata": {},
   "outputs": [],
   "source": [
    "draw_labels_on_model(point_cloud_ez, assignments)"
   ]
  },
  {
   "cell_type": "markdown",
   "metadata": {},
   "source": [
    "**TODO: Speed up the algortihm**\n",
    "- Instead of recomputing the distances each restart of k-means, seperate them in some tree structure (KD trees)\n",
    "- "
   ]
  },
  {
   "cell_type": "code",
   "execution_count": null,
   "metadata": {},
   "outputs": [],
   "source": []
  },
  {
   "cell_type": "code",
   "execution_count": null,
   "metadata": {},
   "outputs": [],
   "source": []
  },
  {
   "cell_type": "code",
   "execution_count": null,
   "metadata": {},
   "outputs": [],
   "source": []
  }
 ],
 "metadata": {
  "kernelspec": {
   "display_name": "Python 3",
   "language": "python",
   "name": "python3"
  },
  "language_info": {
   "codemirror_mode": {
    "name": "ipython",
    "version": 3
   },
   "file_extension": ".py",
   "mimetype": "text/x-python",
   "name": "python",
   "nbconvert_exporter": "python",
   "pygments_lexer": "ipython3",
   "version": "3.8.8"
  },
  "toc": {
   "base_numbering": 1,
   "nav_menu": {},
   "number_sections": true,
   "sideBar": true,
   "skip_h1_title": false,
   "title_cell": "Table of Contents",
   "title_sidebar": "Contents",
   "toc_cell": false,
   "toc_position": {},
   "toc_section_display": true,
   "toc_window_display": false
  },
  "varInspector": {
   "cols": {
    "lenName": 16,
    "lenType": 16,
    "lenVar": 40
   },
   "kernels_config": {
    "python": {
     "delete_cmd_postfix": "",
     "delete_cmd_prefix": "del ",
     "library": "var_list.py",
     "varRefreshCmd": "print(var_dic_list())"
    },
    "r": {
     "delete_cmd_postfix": ") ",
     "delete_cmd_prefix": "rm(",
     "library": "var_list.r",
     "varRefreshCmd": "cat(var_dic_list()) "
    }
   },
   "types_to_exclude": [
    "module",
    "function",
    "builtin_function_or_method",
    "instance",
    "_Feature"
   ],
   "window_display": false
  }
 },
 "nbformat": 4,
 "nbformat_minor": 4
}
