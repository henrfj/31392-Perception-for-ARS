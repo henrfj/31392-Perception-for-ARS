{
 "cells": [
  {
   "cell_type": "markdown",
   "metadata": {},
   "source": [
    "# FULL PROJECT\n",
    "Here we will call all the other programs:\n",
    "\n",
    "The path will be in .gitignore it will be 3 folders in directory of this file:\n",
    "\n",
    "\n",
    "\"conveyor_sample_without\" is sample without occlusiosn, can be downloaded \n",
    "<a href=\"https://dtudk-my.sharepoint.com/personal/evanb_dtu_dk/_layouts/15/onedrive.aspx?id=%2Fpersonal%2Fevanb%5Fdtu%5Fdk%2FDocuments%2FCourses%2F31392%2FFinal%5FProject%2Fsample%5FStereo%5Fconveyor%5Fwithout%5Focclusions%2Erar&parent=%2Fpersonal%2Fevanb%5Fdtu%5Fdk%2FDocuments%2FCourses%2F31392%2FFinal%5FProject&ga=1\">Here</a>\n",
    "\n",
    "\"conveyor_full_without\" The whole conveyor belt dataset without occlusions downloaded <a href=\"https://dtudk-my.sharepoint.com/personal/evanb_dtu_dk/_layouts/15/onedrive.aspx?id=%2Fpersonal%2Fevanb%5Fdtu%5Fdk%2FDocuments%2FCourses%2F31392%2FFinal%5FProject%2FStereo%5Fconveyor%5Fwithout%5Focclusions%2Erar&parent=%2Fpersonal%2Fevanb%5Fdtu%5Fdk%2FDocuments%2FCourses%2F31392%2FFinal%5FProject&ga=1\">Here</a>\n",
    "\n",
    "\"conveyor_full_with\" Dataset conveyor with occlusions can be downloaded <a href=\"https://dtudk-my.sharepoint.com/personal/evanb_dtu_dk/_layouts/15/onedrive.aspx?id=%2Fpersonal%2Fevanb%5Fdtu%5Fdk%2FDocuments%2FCourses%2F31392%2FFinal%5FProject%2FStereo%5Fconveyor%5Fwith%5Focclusions%2Erar&parent=%2Fpersonal%2Fevanb%5Fdtu%5Fdk%2FDocuments%2FCourses%2F31392%2FFinal%5FProject&ga=1\">Here</a>\n"
   ]
  },
  {
   "cell_type": "markdown",
   "metadata": {},
   "source": [
    "### TODO\n",
    "- include only necessary imports\n",
    "- optimize each function\n",
    "- create a video\n",
    "- write a report\n",
    "- if time, optimize compiler for this code\n"
   ]
  },
  {
   "cell_type": "markdown",
   "metadata": {},
   "source": [
    "### CODE"
   ]
  },
  {
   "cell_type": "code",
   "execution_count": 9,
   "metadata": {},
   "outputs": [
    {
     "ename": "ValueError",
     "evalue": "too many values to unpack (expected 3)",
     "output_type": "error",
     "traceback": [
      "\u001b[1;31m---------------------------------------------------------------------------\u001b[0m",
      "\u001b[1;31mValueError\u001b[0m                                Traceback (most recent call last)",
      "\u001b[1;32m~\\AppData\\Local\\Temp\\ipykernel_32324\\1660447345.py\u001b[0m in \u001b[0;36m<cell line: 49>\u001b[1;34m()\u001b[0m\n\u001b[0;32m     52\u001b[0m \u001b[1;33m\u001b[0m\u001b[0m\n\u001b[0;32m     53\u001b[0m     \u001b[0mcalibrated_left\u001b[0m\u001b[1;33m,\u001b[0m \u001b[0mdepth_map\u001b[0m \u001b[1;33m=\u001b[0m \u001b[0mcalibrate\u001b[0m\u001b[1;33m(\u001b[0m\u001b[0mframe_left\u001b[0m\u001b[1;33m,\u001b[0m \u001b[0mframe_right\u001b[0m\u001b[1;33m)\u001b[0m\u001b[1;33m\u001b[0m\u001b[1;33m\u001b[0m\u001b[0m\n\u001b[1;32m---> 54\u001b[1;33m     \u001b[0mtrack_frame\u001b[0m\u001b[1;33m,\u001b[0m \u001b[0mfiltered\u001b[0m\u001b[1;33m,\u001b[0m \u001b[0mmeasured\u001b[0m \u001b[1;33m=\u001b[0m \u001b[0mtracker\u001b[0m\u001b[1;33m.\u001b[0m\u001b[0mnext_frame\u001b[0m\u001b[1;33m(\u001b[0m\u001b[0mcalibrated_left\u001b[0m\u001b[1;33m)\u001b[0m\u001b[1;33m\u001b[0m\u001b[1;33m\u001b[0m\u001b[0m\n\u001b[0m\u001b[0;32m     55\u001b[0m     \u001b[0mprint\u001b[0m\u001b[1;33m(\u001b[0m\u001b[0mfiltered\u001b[0m\u001b[1;33m)\u001b[0m\u001b[1;33m\u001b[0m\u001b[1;33m\u001b[0m\u001b[0m\n\u001b[0;32m     56\u001b[0m     \u001b[0mz\u001b[0m       \u001b[1;33m=\u001b[0m \u001b[0mcompute_depth\u001b[0m\u001b[1;33m(\u001b[0m\u001b[0mcentroidx\u001b[0m\u001b[1;33m,\u001b[0m \u001b[0mcentroidy\u001b[0m\u001b[1;33m,\u001b[0m \u001b[0mdepth_image\u001b[0m\u001b[1;33m)\u001b[0m\u001b[1;33m\u001b[0m\u001b[1;33m\u001b[0m\u001b[0m\n",
      "\u001b[1;31mValueError\u001b[0m: too many values to unpack (expected 3)"
     ]
    }
   ],
   "source": [
    "import glob\n",
    "import cv2\n",
    "import numpy as np\n",
    "import math\n",
    "from kalman_tracker import Kalman_tracker\n",
    "\n",
    "###################### for proper jupyter imports:\n",
    "#!pip install import-ipynb #install this before first run\n",
    "# import import_ipynb\n",
    "#note for myself: run with Python3.10 (not 64bit)\n",
    "#use the pythonian way:\n",
    "# from calibration import calibrate\n",
    "# from depth_map import compute_depth\n",
    "# from tracking import track\n",
    "# from neural_net import initialize_network, classify\n",
    "# or run with the following:\n",
    "#################################################\n",
    "\n",
    "%run calibration.ipynb #must be run, contains mandatory variables from calibration\n",
    "%run depth_map.ipynb\n",
    "%run neural_net.ipynb\n",
    "#%run tracking.ipynb\n",
    "create_output_video = False\n",
    "\n",
    "################# Initializations #################\n",
    "#initialize_network() ...\n",
    "tracker = Kalman_tracker(occlusion=False)\n",
    "\n",
    "\n",
    "################### Main #######################\n",
    "path_left = \"conveyor_full_without/left/*.png\"\n",
    "path_right = \"conveyor_full_without/right/*.png\"\n",
    "# path_left = \"conveyor_full_with/left/*.png\"\n",
    "# path_right = \"conveyor_full_with/right/*.png\"\n",
    "\n",
    "images_left = glob.glob(path_left)\n",
    "assert images_left, \"No images found in {}\".format(path_left)\n",
    "images_right = glob.glob(path_right)\n",
    "assert images_right, \"No images found in {}\".format(path_right)\n",
    "\n",
    "# Create video\n",
    "if create_output_video:\n",
    "    img_buffer = []\n",
    "    FPS = 30 \n",
    "    out = cv2.VideoWriter('project.avi',cv2.VideoWriter_fourcc(*'DIVX'), FPS, size)\n",
    "\n",
    "# MAIN\n",
    "no_of_frames = len(images_left)\n",
    "for i in range(no_of_frames):\n",
    "    frame_left = cv2.imread(images_left[i])\n",
    "    frame_right = cv2.imread(images_right[i])\n",
    "\n",
    "    calibrated_left, depth_map = calibrate(frame_left, frame_right)\n",
    "    track_frame, filtered, measured = tracker.next_frame(calibrated_left)\n",
    "    print(filtered)\n",
    "    z       = compute_depth(centroidx, centroidy, depth_image)\n",
    "    label   = classify(tracked_object)\n",
    "\n",
    "    if create_output_video:\n",
    "        img_buffer.append(frame_left)\n",
    "    \n",
    "    #TODO ADD TEXT TO FINAL IMAGE (=roi) when Hassan pushes code\n",
    "    cv2.imshow(\"Perception project\", track_frame) #roi\n",
    "\n",
    "    if cv2.waitKey(1) & 0xFF == ord('q'): #stop on q\n",
    "            break\n",
    "\n",
    "    print(\"\\rFrame {}/{}\".format(i+1, no_of_frames+1), end=\"\")\n",
    "\n",
    "# create_video(buffer)\n",
    "cv2.destroyAllWindows()\n",
    "print(\"\\nSuccessfully completed\\nCreating video...\")\n",
    "if create_output_video:\n",
    "    for i in range(len(img_buffer)):\n",
    "        out.write(img_buffer[i])\n",
    "    out.release()\n",
    "    print(\"video created\")\n",
    "\n",
    "\n",
    "\n",
    "\n",
    "\n"
   ]
  },
  {
   "cell_type": "code",
   "execution_count": null,
   "metadata": {},
   "outputs": [],
   "source": []
  }
 ],
 "metadata": {
  "interpreter": {
   "hash": "d9a4ba7a39ad5692da286452aea182a2f639774b342ad6371c4f013f8b98072d"
  },
  "kernelspec": {
   "display_name": "Python 3.10.4 64-bit",
   "language": "python",
   "name": "python3"
  },
  "language_info": {
   "codemirror_mode": {
    "name": "ipython",
    "version": 3
   },
   "file_extension": ".py",
   "mimetype": "text/x-python",
   "name": "python",
   "nbconvert_exporter": "python",
   "pygments_lexer": "ipython3",
   "version": "3.10.4"
  },
  "orig_nbformat": 4
 },
 "nbformat": 4,
 "nbformat_minor": 2
}
