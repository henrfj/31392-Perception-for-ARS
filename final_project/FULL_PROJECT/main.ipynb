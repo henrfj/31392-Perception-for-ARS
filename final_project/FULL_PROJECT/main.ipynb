{
 "cells": [
  {
   "cell_type": "markdown",
   "metadata": {},
   "source": [
    "# FULL PROJECT\n",
    "Here we will call all the other programs:\n",
    "\n",
    "The path will be in .gitignore it will be 3 folders in directory of this file:\n",
    "\n",
    "\n",
    "\"conveyor_sample_without\" is sample without occlusiosn, can be downloaded \n",
    "<a href=\"https://dtudk-my.sharepoint.com/personal/evanb_dtu_dk/_layouts/15/onedrive.aspx?id=%2Fpersonal%2Fevanb%5Fdtu%5Fdk%2FDocuments%2FCourses%2F31392%2FFinal%5FProject%2Fsample%5FStereo%5Fconveyor%5Fwithout%5Focclusions%2Erar&parent=%2Fpersonal%2Fevanb%5Fdtu%5Fdk%2FDocuments%2FCourses%2F31392%2FFinal%5FProject&ga=1\">Here</a>\n",
    "\n",
    "\"conveyor_full_without\" The whole conveyor belt dataset without occlusions downloaded <a href=\"https://dtudk-my.sharepoint.com/personal/evanb_dtu_dk/_layouts/15/onedrive.aspx?id=%2Fpersonal%2Fevanb%5Fdtu%5Fdk%2FDocuments%2FCourses%2F31392%2FFinal%5FProject%2FStereo%5Fconveyor%5Fwithout%5Focclusions%2Erar&parent=%2Fpersonal%2Fevanb%5Fdtu%5Fdk%2FDocuments%2FCourses%2F31392%2FFinal%5FProject&ga=1\">Here</a>\n",
    "\n",
    "\"conveyor_full_with\" Dataset conveyor with occlusions can be downloaded <a href=\"https://dtudk-my.sharepoint.com/personal/evanb_dtu_dk/_layouts/15/onedrive.aspx?id=%2Fpersonal%2Fevanb%5Fdtu%5Fdk%2FDocuments%2FCourses%2F31392%2FFinal%5FProject%2FStereo%5Fconveyor%5Fwith%5Focclusions%2Erar&parent=%2Fpersonal%2Fevanb%5Fdtu%5Fdk%2FDocuments%2FCourses%2F31392%2FFinal%5FProject&ga=1\">Here</a>\n"
   ]
  },
  {
   "cell_type": "markdown",
   "metadata": {},
   "source": [
    "### TODO\n",
    "- include only necessary imports\n",
    "- optimize each function\n",
    "- create a video\n",
    "- write a report\n",
    "- if time, optimize compiler for this code\n"
   ]
  },
  {
   "cell_type": "markdown",
   "metadata": {},
   "source": [
    "### CODE"
   ]
  },
  {
   "cell_type": "code",
   "execution_count": 24,
   "metadata": {},
   "outputs": [
    {
     "ename": "TypeError",
     "evalue": "cannot unpack non-iterable NoneType object",
     "output_type": "error",
     "traceback": [
      "\u001b[1;31m---------------------------------------------------------------------------\u001b[0m",
      "\u001b[1;31mTypeError\u001b[0m                                 Traceback (most recent call last)",
      "\u001b[1;32md:\\PROGRAMY\\Onedrive_CTU\\OneDrive - České vysoké učení technické v Praze\\6. SEMESTR DTU\\ARO\\CODE_EXERCISES\\Henrik\\31392-Perception-for-ARS\\31392-Perception-for-ARS\\Final project\\FULL_PROJECT\\main.ipynb Cell 4'\u001b[0m in \u001b[0;36m<cell line: 47>\u001b[1;34m()\u001b[0m\n\u001b[0;32m     <a href='vscode-notebook-cell:/d%3A/PROGRAMY/Onedrive_CTU/OneDrive%20-%20%C4%8Cesk%C3%A9%20vysok%C3%A9%20u%C4%8Den%C3%AD%20technick%C3%A9%20v%20Praze/6.%20SEMESTR%20DTU/ARO/CODE_EXERCISES/Henrik/31392-Perception-for-ARS/31392-Perception-for-ARS/Final%20project/FULL_PROJECT/main.ipynb#ch0000003?line=48'>49</a>\u001b[0m frame_right \u001b[39m=\u001b[39m cv2\u001b[39m.\u001b[39mimread(images_right[i])\n\u001b[0;32m     <a href='vscode-notebook-cell:/d%3A/PROGRAMY/Onedrive_CTU/OneDrive%20-%20%C4%8Cesk%C3%A9%20vysok%C3%A9%20u%C4%8Den%C3%AD%20technick%C3%A9%20v%20Praze/6.%20SEMESTR%20DTU/ARO/CODE_EXERCISES/Henrik/31392-Perception-for-ARS/31392-Perception-for-ARS/Final%20project/FULL_PROJECT/main.ipynb#ch0000003?line=50'>51</a>\u001b[0m calibrated_left                             \u001b[39m=\u001b[39m calibrate(frame_left, frame_right)\n\u001b[1;32m---> <a href='vscode-notebook-cell:/d%3A/PROGRAMY/Onedrive_CTU/OneDrive%20-%20%C4%8Cesk%C3%A9%20vysok%C3%A9%20u%C4%8Den%C3%AD%20technick%C3%A9%20v%20Praze/6.%20SEMESTR%20DTU/ARO/CODE_EXERCISES/Henrik/31392-Perception-for-ARS/31392-Perception-for-ARS/Final%20project/FULL_PROJECT/main.ipynb#ch0000003?line=51'>52</a>\u001b[0m roi, centroidx, centroidy, tracked_object   \u001b[39m=\u001b[39m track(calibrated_left)\n\u001b[0;32m     <a href='vscode-notebook-cell:/d%3A/PROGRAMY/Onedrive_CTU/OneDrive%20-%20%C4%8Cesk%C3%A9%20vysok%C3%A9%20u%C4%8Den%C3%AD%20technick%C3%A9%20v%20Praze/6.%20SEMESTR%20DTU/ARO/CODE_EXERCISES/Henrik/31392-Perception-for-ARS/31392-Perception-for-ARS/Final%20project/FULL_PROJECT/main.ipynb#ch0000003?line=53'>54</a>\u001b[0m z       \u001b[39m=\u001b[39m compute_depth(centroidx, centroidy, calibrated_left, calibrated_right)\n\u001b[0;32m     <a href='vscode-notebook-cell:/d%3A/PROGRAMY/Onedrive_CTU/OneDrive%20-%20%C4%8Cesk%C3%A9%20vysok%C3%A9%20u%C4%8Den%C3%AD%20technick%C3%A9%20v%20Praze/6.%20SEMESTR%20DTU/ARO/CODE_EXERCISES/Henrik/31392-Perception-for-ARS/31392-Perception-for-ARS/Final%20project/FULL_PROJECT/main.ipynb#ch0000003?line=54'>55</a>\u001b[0m label   \u001b[39m=\u001b[39m classify(tracked_object)\n",
      "\u001b[1;31mTypeError\u001b[0m: cannot unpack non-iterable NoneType object"
     ]
    }
   ],
   "source": [
    "import glob\n",
    "import cv2\n",
    "import numpy as np\n",
    "import math\n",
    "from kalman_tracker import Kalman_tracker\n",
    "\n",
    "###################### for proper jupyter imports:\n",
    "#!pip install import-ipynb #install this before first run\n",
    "# import import_ipynb\n",
    "#note for myself: run with Python3.10 (not 64bit)\n",
    "#use the pythonian way:\n",
    "# from calibration import calibrate\n",
    "# from depth_map import compute_depth\n",
    "# from tracking import track\n",
    "# from neural_net import initialize_network, classify\n",
    "# or run with the following:\n",
    "#################################################\n",
    "\n",
    "%run calibration.ipynb\n",
    "%run depth_map.ipynb\n",
    "%run neural_net.ipynb\n",
    "%run tracking.ipynb\n",
    "create_output_video = False\n",
    "\n",
    "################# Initializations #################\n",
    "#initialize_network() ...\n",
    "tracker = Kalman_tracker(occlusion=False)\n",
    "###################################################\n",
    "\n",
    "path_left = \"conveyor_full_without/left/*.png\"\n",
    "path_right = \"conveyor_full_without/right/*.png\"\n",
    "\n",
    "images_left = glob.glob(path_left)\n",
    "assert images_left, \"No images found in {}\".format(path_left)\n",
    "images_right = glob.glob(path_right)\n",
    "assert images_right, \"No images found in {}\".format(path_right)\n",
    "\n",
    "if create_output_video:\n",
    "    img_buffer = []\n",
    "    h, w, _ = cv2.imread(images_left[0]).shape\n",
    "    size = (w, h)\n",
    "    FPS = 30 \n",
    "    out = cv2.VideoWriter('project.avi',cv2.VideoWriter_fourcc(*'DIVX'), FPS, size)\n",
    "\n",
    "\n",
    "\n",
    "no_of_frames = len(images_left)\n",
    "for i in range(no_of_frames):\n",
    "    frame_left = cv2.imread(images_left[i])\n",
    "    frame_right = cv2.imread(images_right[i])\n",
    "\n",
    "    calibrated_left = calibrate(frame_left, frame_right)\n",
    "    track_frame, filtered, measured = tracker.next_frame(calibrated_left)\n",
    "    centroidx, centroidy = filtered[0], filtered[1]\n",
    "    \n",
    "    z       = compute_depth(centroidx, centroidy, calibrated_left, calibrated_right)\n",
    "    label   = classify(tracked_object)\n",
    "\n",
    "    if create_output_video:\n",
    "        img_buffer.append(frame_left)\n",
    "    \n",
    "    #TODO ADD TEXT TO FINAL IMAGE (=roi) when Hassan pushes code\n",
    "    cv2.imshow(\"Perception project\", track_frame) #roi\n",
    "\n",
    "    if cv2.waitKey(1) & 0xFF == ord('q'): #stop on q\n",
    "            break\n",
    "\n",
    "    print(\"\\rFrame {}/{}\".format(i+1, no_of_frames+1), end=\"\")\n",
    "\n",
    "# create_video(buffer)\n",
    "cv2.destroyAllWindows()\n",
    "print(\"\\nSuccessfully completed\\nCreating video...\")\n",
    "if create_output_video:\n",
    "    for i in range(len(img_buffer)):\n",
    "        out.write(img_buffer[i])\n",
    "    out.release()\n",
    "    print(\"video created\")\n",
    "\n",
    "\n",
    "\n",
    "\n",
    "\n"
   ]
  },
  {
   "cell_type": "code",
   "execution_count": null,
   "metadata": {},
   "outputs": [],
   "source": []
  }
 ],
 "metadata": {
  "interpreter": {
   "hash": "d9a4ba7a39ad5692da286452aea182a2f639774b342ad6371c4f013f8b98072d"
  },
  "kernelspec": {
   "display_name": "Python 3.10.4 64-bit",
   "language": "python",
   "name": "python3"
  },
  "language_info": {
   "codemirror_mode": {
    "name": "ipython",
    "version": 3
   },
   "file_extension": ".py",
   "mimetype": "text/x-python",
   "name": "python",
   "nbconvert_exporter": "python",
   "pygments_lexer": "ipython3",
   "version": "3.10.4"
  },
  "orig_nbformat": 4
 },
 "nbformat": 4,
 "nbformat_minor": 2
}
