{
 "cells": [
  {
   "cell_type": "markdown",
   "metadata": {},
   "source": [
    "# FULL PROJECT\n",
    "Here we will call all the other programs:\n",
    "\n",
    "The path will be in .gitignore it will be 3 folders in directory of this file:\n",
    "\n",
    "\n",
    "\"conveyor_sample_without\" is sample without occlusiosn, can be downloaded \n",
    "<a href=\"https://dtudk-my.sharepoint.com/personal/evanb_dtu_dk/_layouts/15/onedrive.aspx?id=%2Fpersonal%2Fevanb%5Fdtu%5Fdk%2FDocuments%2FCourses%2F31392%2FFinal%5FProject%2Fsample%5FStereo%5Fconveyor%5Fwithout%5Focclusions%2Erar&parent=%2Fpersonal%2Fevanb%5Fdtu%5Fdk%2FDocuments%2FCourses%2F31392%2FFinal%5FProject&ga=1\">Here</a>\n",
    "\n",
    "\"conveyor_full_without\" The whole conveyor belt dataset without occlusions downloaded <a href=\"https://dtudk-my.sharepoint.com/personal/evanb_dtu_dk/_layouts/15/onedrive.aspx?id=%2Fpersonal%2Fevanb%5Fdtu%5Fdk%2FDocuments%2FCourses%2F31392%2FFinal%5FProject%2FStereo%5Fconveyor%5Fwithout%5Focclusions%2Erar&parent=%2Fpersonal%2Fevanb%5Fdtu%5Fdk%2FDocuments%2FCourses%2F31392%2FFinal%5FProject&ga=1\">Here</a>\n",
    "\n",
    "\"conveyor_full_with\" Dataset conveyor with occlusions can be downloaded <a href=\"https://dtudk-my.sharepoint.com/personal/evanb_dtu_dk/_layouts/15/onedrive.aspx?id=%2Fpersonal%2Fevanb%5Fdtu%5Fdk%2FDocuments%2FCourses%2F31392%2FFinal%5FProject%2FStereo%5Fconveyor%5Fwith%5Focclusions%2Erar&parent=%2Fpersonal%2Fevanb%5Fdtu%5Fdk%2FDocuments%2FCourses%2F31392%2FFinal%5FProject&ga=1\">Here</a>\n"
   ]
  },
  {
   "cell_type": "markdown",
   "metadata": {},
   "source": [
    "### TODO\n",
    "- include only necessary imports\n",
    "- optimize each function\n",
    "- create a video\n",
    "- write a report\n",
    "- if time, optimize compiler for this code\n"
   ]
  },
  {
   "cell_type": "markdown",
   "metadata": {},
   "source": [
    "### CODE"
   ]
  },
  {
   "cell_type": "code",
   "execution_count": 1,
   "metadata": {},
   "outputs": [
    {
     "ename": "AttributeError",
     "evalue": "'NoneType' object has no attribute 'shape'",
     "output_type": "error",
     "traceback": [
      "\u001b[1;31m---------------------------------------------------------------------------\u001b[0m",
      "\u001b[1;31mAttributeError\u001b[0m                            Traceback (most recent call last)",
      "File \u001b[1;32m~\\AppData\\Local\\Temp\\ipykernel_22664\\574151145.py:27\u001b[0m, in \u001b[0;36m<module>\u001b[1;34m\u001b[0m\n\u001b[0;32m     <a href='file:///c%3A/Users/henri/AppData/Local/Temp/ipykernel_22664/574151145.py?line=19'>20</a>\u001b[0m F \u001b[39m=\u001b[39m np\u001b[39m.\u001b[39marray([[\u001b[39m-\u001b[39m\u001b[39m6.02253356e-09\u001b[39m ,\u001b[39m1.09798538e-07\u001b[39m ,\u001b[39m-\u001b[39m\u001b[39m4.24691775e-04\u001b[39m],\n\u001b[0;32m     <a href='file:///c%3A/Users/henri/AppData/Local/Temp/ipykernel_22664/574151145.py?line=20'>21</a>\u001b[0m [ \u001b[39m2.97380893e-06\u001b[39m , \u001b[39m5.39499206e-07\u001b[39m , \u001b[39m1.78876466e-01\u001b[39m],\n\u001b[0;32m     <a href='file:///c%3A/Users/henri/AppData/Local/Temp/ipykernel_22664/574151145.py?line=21'>22</a>\u001b[0m [\u001b[39m-\u001b[39m\u001b[39m1.67147433e-03\u001b[39m ,\u001b[39m-\u001b[39m\u001b[39m1.80656239e-01\u001b[39m , \u001b[39m1.00000000e+00\u001b[39m]])\n\u001b[0;32m     <a href='file:///c%3A/Users/henri/AppData/Local/Temp/ipykernel_22664/574151145.py?line=23'>24</a>\u001b[0m \u001b[39m#################################################################\u001b[39;00m\n\u001b[0;32m     <a href='file:///c%3A/Users/henri/AppData/Local/Temp/ipykernel_22664/574151145.py?line=24'>25</a>\u001b[0m \u001b[39m#################        MAPPING MATRICES      ##################\u001b[39;00m\n\u001b[0;32m     <a href='file:///c%3A/Users/henri/AppData/Local/Temp/ipykernel_22664/574151145.py?line=25'>26</a>\u001b[0m \u001b[39m#################################################################\u001b[39;00m\n\u001b[1;32m---> <a href='file:///c%3A/Users/henri/AppData/Local/Temp/ipykernel_22664/574151145.py?line=26'>27</a>\u001b[0m h, w, _ \u001b[39m=\u001b[39m cv2\u001b[39m.\u001b[39;49mimread(\u001b[39m\"\u001b[39;49m\u001b[39mconveyor_full_without/left/left-0.png\u001b[39;49m\u001b[39m\"\u001b[39;49m)\u001b[39m.\u001b[39;49mshape\n\u001b[0;32m     <a href='file:///c%3A/Users/henri/AppData/Local/Temp/ipykernel_22664/574151145.py?line=27'>28</a>\u001b[0m size \u001b[39m=\u001b[39m (w, h)\n\u001b[0;32m     <a href='file:///c%3A/Users/henri/AppData/Local/Temp/ipykernel_22664/574151145.py?line=28'>29</a>\u001b[0m R_left, R_right, P_left, P_right, _, roi_left, roi_right \u001b[39m=\u001b[39m cv2\u001b[39m.\u001b[39mstereoRectify(K_left, dist_left, K_right, dist_right, (w,h), R,T, alpha\u001b[39m=\u001b[39m\u001b[39m0\u001b[39m)\n",
      "\u001b[1;31mAttributeError\u001b[0m: 'NoneType' object has no attribute 'shape'"
     ]
    },
    {
     "ename": "AttributeError",
     "evalue": "'NoneType' object has no attribute 'shape'",
     "output_type": "error",
     "traceback": [
      "\u001b[1;31m---------------------------------------------------------------------------\u001b[0m",
      "\u001b[1;31mAttributeError\u001b[0m                            Traceback (most recent call last)",
      "\u001b[1;32mc:\\Users\\henri\\OneDrive\\Desktop\\DTU courses\\31392 Perception\\final_project\\FULL_PROJECT\\main.ipynb Cell 4'\u001b[0m in \u001b[0;36m<module>\u001b[1;34m\u001b[0m\n\u001b[0;32m      <a href='vscode-notebook-cell:/c%3A/Users/henri/OneDrive/Desktop/DTU%20courses/31392%20Perception/final_project/FULL_PROJECT/main.ipynb#ch0000003?line=4'>5</a>\u001b[0m \u001b[39mfrom\u001b[39;00m \u001b[39mkalman_tracker\u001b[39;00m \u001b[39mimport\u001b[39;00m Kalman_tracker\n\u001b[0;32m      <a href='vscode-notebook-cell:/c%3A/Users/henri/OneDrive/Desktop/DTU%20courses/31392%20Perception/final_project/FULL_PROJECT/main.ipynb#ch0000003?line=6'>7</a>\u001b[0m \u001b[39m###################### for proper jupyter imports:\u001b[39;00m\n\u001b[0;32m      <a href='vscode-notebook-cell:/c%3A/Users/henri/OneDrive/Desktop/DTU%20courses/31392%20Perception/final_project/FULL_PROJECT/main.ipynb#ch0000003?line=7'>8</a>\u001b[0m \u001b[39m#!pip install import-ipynb #install this before first run\u001b[39;00m\n\u001b[0;32m      <a href='vscode-notebook-cell:/c%3A/Users/henri/OneDrive/Desktop/DTU%20courses/31392%20Perception/final_project/FULL_PROJECT/main.ipynb#ch0000003?line=8'>9</a>\u001b[0m \u001b[39m# import import_ipynb\u001b[39;00m\n\u001b[1;32m   (...)\u001b[0m\n\u001b[0;32m     <a href='vscode-notebook-cell:/c%3A/Users/henri/OneDrive/Desktop/DTU%20courses/31392%20Perception/final_project/FULL_PROJECT/main.ipynb#ch0000003?line=15'>16</a>\u001b[0m \u001b[39m# or run with the following:\u001b[39;00m\n\u001b[0;32m     <a href='vscode-notebook-cell:/c%3A/Users/henri/OneDrive/Desktop/DTU%20courses/31392%20Perception/final_project/FULL_PROJECT/main.ipynb#ch0000003?line=16'>17</a>\u001b[0m \u001b[39m#################################################\u001b[39;00m\n\u001b[1;32m---> <a href='vscode-notebook-cell:/c%3A/Users/henri/OneDrive/Desktop/DTU%20courses/31392%20Perception/final_project/FULL_PROJECT/main.ipynb#ch0000003?line=18'>19</a>\u001b[0m get_ipython()\u001b[39m.\u001b[39;49mrun_line_magic(\u001b[39m'\u001b[39;49m\u001b[39mrun\u001b[39;49m\u001b[39m'\u001b[39;49m, \u001b[39m'\u001b[39;49m\u001b[39mcalibration.ipynb #must be run, contains mandatory variables from calibration\u001b[39;49m\u001b[39m'\u001b[39;49m)\n\u001b[0;32m     <a href='vscode-notebook-cell:/c%3A/Users/henri/OneDrive/Desktop/DTU%20courses/31392%20Perception/final_project/FULL_PROJECT/main.ipynb#ch0000003?line=19'>20</a>\u001b[0m get_ipython()\u001b[39m.\u001b[39mrun_line_magic(\u001b[39m'\u001b[39m\u001b[39mrun\u001b[39m\u001b[39m'\u001b[39m, \u001b[39m'\u001b[39m\u001b[39mdepth_map.ipynb\u001b[39m\u001b[39m'\u001b[39m)\n\u001b[0;32m     <a href='vscode-notebook-cell:/c%3A/Users/henri/OneDrive/Desktop/DTU%20courses/31392%20Perception/final_project/FULL_PROJECT/main.ipynb#ch0000003?line=20'>21</a>\u001b[0m get_ipython()\u001b[39m.\u001b[39mrun_line_magic(\u001b[39m'\u001b[39m\u001b[39mrun\u001b[39m\u001b[39m'\u001b[39m, \u001b[39m'\u001b[39m\u001b[39mneural_net.ipynb\u001b[39m\u001b[39m'\u001b[39m)\n",
      "File \u001b[1;32mc:\\Users\\henri\\AppData\\Local\\Programs\\Python\\Python38\\lib\\site-packages\\IPython\\core\\interactiveshell.py:2204\u001b[0m, in \u001b[0;36mInteractiveShell.run_line_magic\u001b[1;34m(self, magic_name, line, _stack_depth)\u001b[0m\n\u001b[0;32m   <a href='file:///c%3A/Users/henri/AppData/Local/Programs/Python/Python38/lib/site-packages/IPython/core/interactiveshell.py?line=2201'>2202</a>\u001b[0m     kwargs[\u001b[39m'\u001b[39m\u001b[39mlocal_ns\u001b[39m\u001b[39m'\u001b[39m] \u001b[39m=\u001b[39m \u001b[39mself\u001b[39m\u001b[39m.\u001b[39mget_local_scope(stack_depth)\n\u001b[0;32m   <a href='file:///c%3A/Users/henri/AppData/Local/Programs/Python/Python38/lib/site-packages/IPython/core/interactiveshell.py?line=2202'>2203</a>\u001b[0m \u001b[39mwith\u001b[39;00m \u001b[39mself\u001b[39m\u001b[39m.\u001b[39mbuiltin_trap:\n\u001b[1;32m-> <a href='file:///c%3A/Users/henri/AppData/Local/Programs/Python/Python38/lib/site-packages/IPython/core/interactiveshell.py?line=2203'>2204</a>\u001b[0m     result \u001b[39m=\u001b[39m fn(\u001b[39m*\u001b[39;49margs, \u001b[39m*\u001b[39;49m\u001b[39m*\u001b[39;49mkwargs)\n\u001b[0;32m   <a href='file:///c%3A/Users/henri/AppData/Local/Programs/Python/Python38/lib/site-packages/IPython/core/interactiveshell.py?line=2204'>2205</a>\u001b[0m \u001b[39mreturn\u001b[39;00m result\n",
      "File \u001b[1;32mc:\\Users\\henri\\AppData\\Local\\Programs\\Python\\Python38\\lib\\site-packages\\IPython\\core\\magics\\execution.py:717\u001b[0m, in \u001b[0;36mExecutionMagics.run\u001b[1;34m(self, parameter_s, runner, file_finder)\u001b[0m\n\u001b[0;32m    <a href='file:///c%3A/Users/henri/AppData/Local/Programs/Python/Python38/lib/site-packages/IPython/core/magics/execution.py?line=714'>715</a>\u001b[0m     \u001b[39mwith\u001b[39;00m preserve_keys(\u001b[39mself\u001b[39m\u001b[39m.\u001b[39mshell\u001b[39m.\u001b[39muser_ns, \u001b[39m'\u001b[39m\u001b[39m__file__\u001b[39m\u001b[39m'\u001b[39m):\n\u001b[0;32m    <a href='file:///c%3A/Users/henri/AppData/Local/Programs/Python/Python38/lib/site-packages/IPython/core/magics/execution.py?line=715'>716</a>\u001b[0m         \u001b[39mself\u001b[39m\u001b[39m.\u001b[39mshell\u001b[39m.\u001b[39muser_ns[\u001b[39m'\u001b[39m\u001b[39m__file__\u001b[39m\u001b[39m'\u001b[39m] \u001b[39m=\u001b[39m filename\n\u001b[1;32m--> <a href='file:///c%3A/Users/henri/AppData/Local/Programs/Python/Python38/lib/site-packages/IPython/core/magics/execution.py?line=716'>717</a>\u001b[0m         \u001b[39mself\u001b[39;49m\u001b[39m.\u001b[39;49mshell\u001b[39m.\u001b[39;49msafe_execfile_ipy(filename, raise_exceptions\u001b[39m=\u001b[39;49m\u001b[39mTrue\u001b[39;49;00m)\n\u001b[0;32m    <a href='file:///c%3A/Users/henri/AppData/Local/Programs/Python/Python38/lib/site-packages/IPython/core/magics/execution.py?line=717'>718</a>\u001b[0m     \u001b[39mreturn\u001b[39;00m\n\u001b[0;32m    <a href='file:///c%3A/Users/henri/AppData/Local/Programs/Python/Python38/lib/site-packages/IPython/core/magics/execution.py?line=719'>720</a>\u001b[0m \u001b[39m# Control the response to exit() calls made by the script being run\u001b[39;00m\n",
      "File \u001b[1;32mc:\\Users\\henri\\AppData\\Local\\Programs\\Python\\Python38\\lib\\site-packages\\IPython\\core\\interactiveshell.py:2705\u001b[0m, in \u001b[0;36mInteractiveShell.safe_execfile_ipy\u001b[1;34m(self, fname, shell_futures, raise_exceptions)\u001b[0m\n\u001b[0;32m   <a href='file:///c%3A/Users/henri/AppData/Local/Programs/Python/Python38/lib/site-packages/IPython/core/interactiveshell.py?line=2702'>2703</a>\u001b[0m result \u001b[39m=\u001b[39m \u001b[39mself\u001b[39m\u001b[39m.\u001b[39mrun_cell(cell, silent\u001b[39m=\u001b[39m\u001b[39mTrue\u001b[39;00m, shell_futures\u001b[39m=\u001b[39mshell_futures)\n\u001b[0;32m   <a href='file:///c%3A/Users/henri/AppData/Local/Programs/Python/Python38/lib/site-packages/IPython/core/interactiveshell.py?line=2703'>2704</a>\u001b[0m \u001b[39mif\u001b[39;00m raise_exceptions:\n\u001b[1;32m-> <a href='file:///c%3A/Users/henri/AppData/Local/Programs/Python/Python38/lib/site-packages/IPython/core/interactiveshell.py?line=2704'>2705</a>\u001b[0m     result\u001b[39m.\u001b[39;49mraise_error()\n\u001b[0;32m   <a href='file:///c%3A/Users/henri/AppData/Local/Programs/Python/Python38/lib/site-packages/IPython/core/interactiveshell.py?line=2705'>2706</a>\u001b[0m \u001b[39melif\u001b[39;00m \u001b[39mnot\u001b[39;00m result\u001b[39m.\u001b[39msuccess:\n\u001b[0;32m   <a href='file:///c%3A/Users/henri/AppData/Local/Programs/Python/Python38/lib/site-packages/IPython/core/interactiveshell.py?line=2706'>2707</a>\u001b[0m     \u001b[39mbreak\u001b[39;00m\n",
      "File \u001b[1;32mc:\\Users\\henri\\AppData\\Local\\Programs\\Python\\Python38\\lib\\site-packages\\IPython\\core\\interactiveshell.py:224\u001b[0m, in \u001b[0;36mExecutionResult.raise_error\u001b[1;34m(self)\u001b[0m\n\u001b[0;32m    <a href='file:///c%3A/Users/henri/AppData/Local/Programs/Python/Python38/lib/site-packages/IPython/core/interactiveshell.py?line=221'>222</a>\u001b[0m     \u001b[39mraise\u001b[39;00m \u001b[39mself\u001b[39m\u001b[39m.\u001b[39merror_before_exec\n\u001b[0;32m    <a href='file:///c%3A/Users/henri/AppData/Local/Programs/Python/Python38/lib/site-packages/IPython/core/interactiveshell.py?line=222'>223</a>\u001b[0m \u001b[39mif\u001b[39;00m \u001b[39mself\u001b[39m\u001b[39m.\u001b[39merror_in_exec \u001b[39mis\u001b[39;00m \u001b[39mnot\u001b[39;00m \u001b[39mNone\u001b[39;00m:\n\u001b[1;32m--> <a href='file:///c%3A/Users/henri/AppData/Local/Programs/Python/Python38/lib/site-packages/IPython/core/interactiveshell.py?line=223'>224</a>\u001b[0m     \u001b[39mraise\u001b[39;00m \u001b[39mself\u001b[39m\u001b[39m.\u001b[39merror_in_exec\n",
      "    \u001b[1;31m[... skipping hidden 1 frame]\u001b[0m\n",
      "File \u001b[1;32m~\\AppData\\Local\\Temp\\ipykernel_22664\\574151145.py:27\u001b[0m, in \u001b[0;36m<module>\u001b[1;34m\u001b[0m\n\u001b[0;32m     <a href='file:///c%3A/Users/henri/AppData/Local/Temp/ipykernel_22664/574151145.py?line=19'>20</a>\u001b[0m F \u001b[39m=\u001b[39m np\u001b[39m.\u001b[39marray([[\u001b[39m-\u001b[39m\u001b[39m6.02253356e-09\u001b[39m ,\u001b[39m1.09798538e-07\u001b[39m ,\u001b[39m-\u001b[39m\u001b[39m4.24691775e-04\u001b[39m],\n\u001b[0;32m     <a href='file:///c%3A/Users/henri/AppData/Local/Temp/ipykernel_22664/574151145.py?line=20'>21</a>\u001b[0m [ \u001b[39m2.97380893e-06\u001b[39m , \u001b[39m5.39499206e-07\u001b[39m , \u001b[39m1.78876466e-01\u001b[39m],\n\u001b[0;32m     <a href='file:///c%3A/Users/henri/AppData/Local/Temp/ipykernel_22664/574151145.py?line=21'>22</a>\u001b[0m [\u001b[39m-\u001b[39m\u001b[39m1.67147433e-03\u001b[39m ,\u001b[39m-\u001b[39m\u001b[39m1.80656239e-01\u001b[39m , \u001b[39m1.00000000e+00\u001b[39m]])\n\u001b[0;32m     <a href='file:///c%3A/Users/henri/AppData/Local/Temp/ipykernel_22664/574151145.py?line=23'>24</a>\u001b[0m \u001b[39m#################################################################\u001b[39;00m\n\u001b[0;32m     <a href='file:///c%3A/Users/henri/AppData/Local/Temp/ipykernel_22664/574151145.py?line=24'>25</a>\u001b[0m \u001b[39m#################        MAPPING MATRICES      ##################\u001b[39;00m\n\u001b[0;32m     <a href='file:///c%3A/Users/henri/AppData/Local/Temp/ipykernel_22664/574151145.py?line=25'>26</a>\u001b[0m \u001b[39m#################################################################\u001b[39;00m\n\u001b[1;32m---> <a href='file:///c%3A/Users/henri/AppData/Local/Temp/ipykernel_22664/574151145.py?line=26'>27</a>\u001b[0m h, w, _ \u001b[39m=\u001b[39m cv2\u001b[39m.\u001b[39;49mimread(\u001b[39m\"\u001b[39;49m\u001b[39mconveyor_full_without/left/left-0.png\u001b[39;49m\u001b[39m\"\u001b[39;49m)\u001b[39m.\u001b[39;49mshape\n\u001b[0;32m     <a href='file:///c%3A/Users/henri/AppData/Local/Temp/ipykernel_22664/574151145.py?line=27'>28</a>\u001b[0m size \u001b[39m=\u001b[39m (w, h)\n\u001b[0;32m     <a href='file:///c%3A/Users/henri/AppData/Local/Temp/ipykernel_22664/574151145.py?line=28'>29</a>\u001b[0m R_left, R_right, P_left, P_right, _, roi_left, roi_right \u001b[39m=\u001b[39m cv2\u001b[39m.\u001b[39mstereoRectify(K_left, dist_left, K_right, dist_right, (w,h), R,T, alpha\u001b[39m=\u001b[39m\u001b[39m0\u001b[39m)\n",
      "\u001b[1;31mAttributeError\u001b[0m: 'NoneType' object has no attribute 'shape'"
     ]
    }
   ],
   "source": [
    "import glob\n",
    "import cv2\n",
    "import numpy as np\n",
    "import math\n",
    "from kalman_tracker import Kalman_tracker\n",
    "\n",
    "###################### for proper jupyter imports:\n",
    "#!pip install import-ipynb #install this before first run\n",
    "# import import_ipynb\n",
    "#note for myself: run with Python3.10 (not 64bit)\n",
    "#use the pythonian way:\n",
    "# from calibration import calibrate\n",
    "# from depth_map import compute_depth\n",
    "# from tracking import track\n",
    "# from neural_net import initialize_network, classify\n",
    "# or run with the following:\n",
    "#################################################\n",
    "\n",
    "%run calibration.ipynb #must be run, contains mandatory variables from calibration\n",
    "%run depth_map.ipynb\n",
    "%run neural_net.ipynb\n",
    "#%run tracking.ipynb\n",
    "create_output_video = False\n",
    "\n",
    "################# Initializations #################\n",
    "#initialize_network() ...\n",
    "tracker = Kalman_tracker(occlusion=False)\n",
    "\n",
    "\n",
    "################### Main #######################\n",
    "path_left = \"conveyor_full_without/left/*.png\"\n",
    "path_right = \"conveyor_full_without/right/*.png\"\n",
    "# path_left = \"conveyor_full_with/left/*.png\"\n",
    "# path_right = \"conveyor_full_with/right/*.png\"\n",
    "\n",
    "images_left = glob.glob(path_left)\n",
    "assert images_left, \"No images found in {}\".format(path_left)\n",
    "images_right = glob.glob(path_right)\n",
    "assert images_right, \"No images found in {}\".format(path_right)\n",
    "\n",
    "# Create video\n",
    "if create_output_video:\n",
    "    img_buffer = []\n",
    "    FPS = 30 \n",
    "    out = cv2.VideoWriter('project.avi',cv2.VideoWriter_fourcc(*'DIVX'), FPS, size)\n",
    "\n",
    "# MAIN\n",
    "no_of_frames = len(images_left)\n",
    "for i in range(no_of_frames):\n",
    "    frame_left = cv2.imread(images_left[i])\n",
    "    frame_right = cv2.imread(images_right[i])\n",
    "\n",
    "    calibrated_left, depth_map = calibrate(frame_left, frame_right)\n",
    "    track_frame, filtered, measured, object = tracker.next_frame(calibrated_left)\n",
    "    centroidx, centroidy = filtered[0], filtered[1]\n",
    "    \n",
    "    z       = compute_depth(centroidx, centroidy, calibrated_left, calibrated_right)\n",
    "    label   = classify(tracked_object)\n",
    "\n",
    "    if create_output_video:\n",
    "        img_buffer.append(frame_left)\n",
    "    \n",
    "    #TODO ADD TEXT TO FINAL IMAGE (=roi) when Hassan pushes code\n",
    "    cv2.imshow(\"Perception project\", track_frame) #roi\n",
    "\n",
    "    if cv2.waitKey(1) & 0xFF == ord('q'): #stop on q\n",
    "            break\n",
    "\n",
    "    print(\"\\rFrame {}/{}\".format(i+1, no_of_frames+1), end=\"\")\n",
    "\n",
    "# create_video(buffer)\n",
    "cv2.destroyAllWindows()\n",
    "print(\"\\nSuccessfully completed\\nCreating video...\")\n",
    "if create_output_video:\n",
    "    for i in range(len(img_buffer)):\n",
    "        out.write(img_buffer[i])\n",
    "    out.release()\n",
    "    print(\"video created\")\n",
    "\n",
    "\n",
    "\n",
    "\n",
    "\n"
   ]
  },
  {
   "cell_type": "code",
   "execution_count": null,
   "metadata": {},
   "outputs": [],
   "source": []
  }
 ],
 "metadata": {
  "interpreter": {
   "hash": "d1902db9bb2e389c5c5f64e693209aef1412f369d132ca57a092e79ab8be655e"
  },
  "kernelspec": {
   "display_name": "Python 3.8.8 64-bit",
   "language": "python",
   "name": "python3"
  },
  "language_info": {
   "codemirror_mode": {
    "name": "ipython",
    "version": 3
   },
   "file_extension": ".py",
   "mimetype": "text/x-python",
   "name": "python",
   "nbconvert_exporter": "python",
   "pygments_lexer": "ipython3",
   "version": "3.8.8"
  },
  "orig_nbformat": 4
 },
 "nbformat": 4,
 "nbformat_minor": 2
}
