{
 "cells": [
  {
   "cell_type": "code",
   "execution_count": null,
   "metadata": {},
   "outputs": [],
   "source": [
    "def compute_depth(x, y, depth_map):\n",
    "    \"\"\"\n",
    "    Computes the depth of the object in the camera frame.\n",
    "    :param data: x, y, depth_image\n",
    "    :param x: centroid of the object, x coordinate\n",
    "    :param y: centroid of the object, y coordinate\n",
    "    :depth_image: image depth of the conveyer belt\n",
    "    :return: z (depth)\n",
    "    \"\"\"\n",
    "\n",
    "    # Compute the Z coordinate\n",
    "    \n",
    "    return Z\n",
    "    \n",
    "    "
   ]
  }
 ],
 "metadata": {
  "language_info": {
   "name": "python"
  },
  "orig_nbformat": 4
 },
 "nbformat": 4,
 "nbformat_minor": 2
}
