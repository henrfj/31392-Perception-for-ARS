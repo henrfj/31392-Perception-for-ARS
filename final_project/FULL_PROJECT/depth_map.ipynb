{
 "cells": [
  {
   "cell_type": "code",
   "execution_count": 1,
   "metadata": {},
   "outputs": [],
   "source": [
    "def compute_depth(x, y, depth_map):\n",
    "    \"\"\"\n",
    "    Computes the depth of the object in the camera frame.\n",
    "    :param data: x, y, depth_image\n",
    "    :param x: centroid of the object, x coordinate\n",
    "    :param y: centroid of the object, y coordinate\n",
    "    :depth_image: image depth of the conveyer belt\n",
    "    :return: z (depth)\n",
    "    \"\"\"\n",
    "\n",
    "    # Compute the Z coordinate\n",
    "    x = int(x)\n",
    "    y = int(y)\n",
    "    if x>16 and y>16:\n",
    "        Z = np.mean(depth_map[y:y+15,x-15:x+15])\n",
    "    else:\n",
    "        Z = 0\n",
    "    return Z\n",
    "    \n",
    "    "
   ]
  }
 ],
 "metadata": {
  "interpreter": {
   "hash": "986d95f624018accb4e4527a2ac8d9d96a3965cb6e37ff46ca1c6726e6ad7268"
  },
  "kernelspec": {
   "display_name": "Python 3.10.4 64-bit",
   "language": "python",
   "name": "python3"
  },
  "language_info": {
   "codemirror_mode": {
    "name": "ipython",
    "version": 3
   },
   "file_extension": ".py",
   "mimetype": "text/x-python",
   "name": "python",
   "nbconvert_exporter": "python",
   "pygments_lexer": "ipython3",
   "version": "3.10.4"
  },
  "orig_nbformat": 4
 },
 "nbformat": 4,
 "nbformat_minor": 2
}
