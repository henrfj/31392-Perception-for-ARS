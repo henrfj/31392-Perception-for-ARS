{
 "cells": [
  {
   "cell_type": "code",
   "execution_count": null,
   "metadata": {},
   "outputs": [],
   "source": [
    "def compute_depth(x, y, img_left, img_right):\n",
    "    \"\"\"\n",
    "    Computes the depth of the object in the camera frame.\n",
    "    :param data: x, y, calibrated_left, calibrated_right\n",
    "    :param x: centroid of the object, x coordinate\n",
    "    :param y: centroid of the object, y coordinate\n",
    "    :return: z (depth)\n",
    "    \"\"\"\n",
    "\n",
    "    # GRAYSCALE\n",
    "    gray_left = cv2.cvtColor(img_left, cv2.COLOR_BGR2GRAY)\n",
    "    gray_right = cv2.cvtColor(img_right, cv2.COLOR_BGR2GRAY)\n",
    "\n",
    "    # PARAMETERS\n",
    "    min_disp = 0  # 22\n",
    "    num_disp = 16*14  # 256\n",
    "    block_size = 5  #5 \n",
    "    sigma = 7 #1.5\n",
    "    lmbda = 16000.0 #8000\n",
    "\n",
    "    # DISPARITY MAP\n",
    "    stereo_left = cv2.StereoBM_create(numDisparities=num_disp, blockSize=block_size)\n",
    "    stereo_right = cv2.ximgproc.createRightMatcher(stereo_left)\n",
    "    stereo_left.setMinDisparity(min_disp)\n",
    "    stereo_left.setDisp12MaxDiff(1)  # 200\n",
    "    stereo_left.setUniquenessRatio(1)  # 1\n",
    "    stereo_left.setSpeckleRange(1)  # 10\n",
    "    stereo_left.setSpeckleWindowSize(1)  # 3\n",
    "    disp_left = stereo_left.compute(gray_left, gray_right)#.astype(np.float32)\n",
    "    disp_left2 = cv2.normalize(disp_left, None, 255, 0, cv2.NORM_MINMAX, dtype=cv2.CV_8U)\n",
    "    disp_right = stereo_right.compute(gray_right,gray_left)\n",
    "\n",
    "    # Now create DisparityWLSFilter\n",
    "    wls_filter = cv2.ximgproc.createDisparityWLSFilter(stereo_left)\n",
    "    wls_filter.setLambda(lmbda)\n",
    "    wls_filter.setSigmaColor(sigma)\n",
    "    disp_filtered = wls_filter.filter(disp_left, gray_left, disparity_map_right=disp_right)\n",
    "    disp_filtered[disp_filtered<-16] = -16\n",
    "    disp_filtered = (disp_filtered+16)/5\n",
    "\n",
    "    # Compute the Z coordinate\n",
    "    Z = np.mean(disp_filtered[y-15:y+15,x-15:x+15]) # h,w format\n",
    "    return Z\n",
    "    \n",
    "    "
   ]
  }
 ],
 "metadata": {
  "language_info": {
   "name": "python"
  },
  "orig_nbformat": 4
 },
 "nbformat": 4,
 "nbformat_minor": 2
}
