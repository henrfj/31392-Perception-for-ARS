{
 "cells": [
  {
   "cell_type": "code",
   "execution_count": null,
   "metadata": {},
   "outputs": [],
   "source": [
    "def classify(tracked_object):\n",
    "    \"\"\"\n",
    "    Classifies the tracked object based on the neural network\n",
    "    :param data: tracked_object (cropped image of object, resize to your need)\n",
    "    :return: label (\"string\")\n",
    "    \"\"\"\n",
    "    pass"
   ]
  }
 ],
 "metadata": {
  "language_info": {
   "name": "python"
  },
  "orig_nbformat": 4
 },
 "nbformat": 4,
 "nbformat_minor": 2
}
