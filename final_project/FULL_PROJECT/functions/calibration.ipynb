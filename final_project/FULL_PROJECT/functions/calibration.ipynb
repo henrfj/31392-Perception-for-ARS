{
 "cells": [
  {
   "cell_type": "code",
   "execution_count": 2,
   "metadata": {},
   "outputs": [],
   "source": [
    "import cv2\n",
    "import numpy as np"
   ]
  },
  {
   "cell_type": "code",
   "execution_count": null,
   "metadata": {},
   "outputs": [],
   "source": [
    "#################################################################\n",
    "################        CALIBRATED MATRICES      ################\n",
    "#################################################################\n",
    "K_left = np.array([[705.12855386,   0,         621.0422932 ],\n",
    "[  0 ,        705.05638672, 370.57066306],\n",
    "[  0  ,         0      ,     1  ,      ]])\n",
    "K_right = np.array([[702.64805575  , 0     ,    649.52345869],\n",
    "[  0       ,  702.90821064, 373.12894423],\n",
    "[  0      ,     0       ,    1        ]])\n",
    "dist_left = np.array([[-3.29479779e-01 , 1.41779399e-01 ,-1.15869227e-04 , 2.53564192e-04\n",
    "-3.10092442e-02]])\n",
    "dist_right = np.array([[-3.25580130e-01 , 1.39151531e-01 ,-2.55232895e-04 , 4.20204047e-04\n",
    "-3.19659396e-02]])\n",
    "R = np.array([[ 0.99991381, -0.00530365, -0.01201018],\n",
    "[ 0.00527804 , 0.99998373, -0.00216356],\n",
    "[ 0.01202145 , 0.00209999 , 0.99992553]])\n",
    "T = np.array([[-1.19993826e+02],\n",
    "[-2.56957545e-01],\n",
    "[-5.18613288e-02]])\n",
    "F = np.array([[-6.02253356e-09 ,1.09798538e-07 ,-4.24691775e-04],\n",
    "[ 2.97380893e-06 , 5.39499206e-07 , 1.78876466e-01],\n",
    "[-1.67147433e-03 ,-1.80656239e-01 , 1.00000000e+00]])\n",
    "\n",
    "#################################################################\n",
    "#################        MAPPING MATRICES      ##################\n",
    "#################################################################\n",
    "#h, w, _ = cv2.imread(\"conveyor_full_without/left/left-0.png\").shape\n",
    "h, w = 720, 1280\n",
    "size = (w, h)\n",
    "R_left, R_right, P_left, P_right, _, roi_left, roi_right = cv2.stereoRectify(K_left, dist_left, K_right, dist_right, (w,h), R,T, alpha=0)\n",
    "leftMapX, leftMapY = cv2.initUndistortRectifyMap(K_left, dist_left, R_left, P_left, (w,h), cv2.CV_32FC1)\n",
    "rightMapX, rightMapY = cv2.initUndistortRectifyMap(K_right, dist_right, R_right, P_right, (w,h), cv2.CV_32FC1)"
   ]
  },
  {
   "cell_type": "code",
   "execution_count": null,
   "metadata": {},
   "outputs": [],
   "source": [
    "def calibrate(img_left):\n",
    "    \"\"\"\n",
    "    Calibrates the data\n",
    "    :param data: frame left, frame right\n",
    "    :return: calibrated_left, calibrated_right\n",
    "    \"\"\"\n",
    "\n",
    "    #################################################################\n",
    "    #################        RECTIFICATION       ####################\n",
    "    #################################################################\n",
    "\n",
    "    # Rectify images\n",
    "    (h,w,_) = img_left.shape\n",
    "    \n",
    "    left_rectified = np.zeros(img_left.shape[:2], np.uint8)\n",
    "    left_rectified = cv2.remap(img_left, leftMapX, leftMapY, cv2.INTER_LINEAR, left_rectified, cv2.BORDER_CONSTANT)\n",
    "\n",
    "    \n",
    "\n",
    "    return left_rectified\n"
   ]
  },
  {
   "cell_type": "code",
   "execution_count": null,
   "metadata": {},
   "outputs": [],
   "source": [
    "def get_depth_map(gray_left, gray_right):\n",
    "    #################################################################\n",
    "    #################         DEPTH IMAGE        ####################\n",
    "    #################################################################\n",
    "\n",
    "    # PARAMETERS\n",
    "    min_disp = 0  # 22\n",
    "    num_disp = 16*14  # 256\n",
    "    block_size = 5  #5 \n",
    "    sigma = 7 #1.5\n",
    "    lmbda = 16000.0 #8000\n",
    "\n",
    "    # DISPARITY MAP\n",
    "    stereo_left = cv2.StereoBM_create(numDisparities=num_disp, blockSize=block_size)\n",
    "    stereo_right = cv2.ximgproc.createRightMatcher(stereo_left)\n",
    "    stereo_left.setMinDisparity(min_disp)\n",
    "    stereo_left.setDisp12MaxDiff(1)  # 200\n",
    "    stereo_left.setUniquenessRatio(1)  # 1\n",
    "    stereo_left.setSpeckleRange(1)  # 10\n",
    "    stereo_left.setSpeckleWindowSize(1)  # 3\n",
    "    disp_left = stereo_left.compute(gray_left, gray_right)#.astype(np.float32)\n",
    "    disp_left2 = cv2.normalize(disp_left, None, 255, 0, cv2.NORM_MINMAX, dtype=cv2.CV_8U)\n",
    "    disp_right = stereo_right.compute(gray_right,gray_left)\n",
    "\n",
    "    # Now create DisparityWLSFilter\n",
    "    wls_filter = cv2.ximgproc.createDisparityWLSFilter(stereo_left)\n",
    "    wls_filter.setLambda(lmbda)\n",
    "    wls_filter.setSigmaColor(sigma)\n",
    "    disp_filtered = wls_filter.filter(disp_left, gray_left, disparity_map_right=disp_right)\n",
    "    disp_filtered[disp_filtered<-16] = -16\n",
    "    disp_filtered = (disp_filtered+16)/8\n",
    "    return disp_filtered"
   ]
  },
  {
   "cell_type": "code",
   "execution_count": null,
   "metadata": {},
   "outputs": [],
   "source": []
  }
 ],
 "metadata": {
  "interpreter": {
   "hash": "d1902db9bb2e389c5c5f64e693209aef1412f369d132ca57a092e79ab8be655e"
  },
  "kernelspec": {
   "display_name": "Python 3.8.8 64-bit",
   "language": "python",
   "name": "python3"
  },
  "language_info": {
   "codemirror_mode": {
    "name": "ipython",
    "version": 3
   },
   "file_extension": ".py",
   "mimetype": "text/x-python",
   "name": "python",
   "nbconvert_exporter": "python",
   "pygments_lexer": "ipython3",
   "version": "3.8.8"
  },
  "orig_nbformat": 4
 },
 "nbformat": 4,
 "nbformat_minor": 2
}
